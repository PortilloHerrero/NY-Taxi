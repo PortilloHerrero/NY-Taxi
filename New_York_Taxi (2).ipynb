{
 "cells": [
  {
   "cell_type": "markdown",
   "id": "9010c40d",
   "metadata": {},
   "source": [
    "1.New York Taxis:\n",
    "\n",
    "1.0.1 Goal and description (describir objetivo y description del proyecto)\n",
    "\n",
    "1.0.2 Step 1. Imports and loading datasets"
   ]
  },
  {
   "cell_type": "code",
   "execution_count": 1,
   "id": "443c3e69",
   "metadata": {},
   "outputs": [],
   "source": [
    "# Import packages\n",
    "\n",
    "# data manipulation packages\n",
    "import numpy as np\n",
    "import pandas as pd\n",
    "\n",
    "# data visualization packages\n",
    "from matplotlib import pyplot as plt\n",
    "import seaborn as sns\n",
    "\n",
    "# For metrics and helpful functions\n",
    "from sklearn.model_selection import GridSearchCV, train_test_split\n",
    "from sklearn.metrics import accuracy_score, precision_score, recall_score, f1_score, confusion_matrix, ConfusionMatrixDisplay, classification_report\n",
    "from sklearn.metrics import roc_auc_score, roc_curve\n",
    "\n",
    "# For data modeling\n",
    "from sklearn.linear_model import LogisticRegression\n",
    "from sklearn.ensemble import RandomForestClassifier\n",
    "\n",
    "\n",
    "import re #re module, which provides regular expression functionalities. Regular expressions are a powerful tool for searching and manipulating text based on patterns."
   ]
  },
  {
   "cell_type": "code",
   "execution_count": 2,
   "id": "5ba63fa6",
   "metadata": {},
   "outputs": [],
   "source": [
    "# Load dataset into a dataframe\n",
    "taxi_df = pd.read_csv('Taxi_dataset.csv', low_memory=False)\n",
    "\n",
    "# For displaying all of the columns in dataframes\n",
    "pd.set_option('display.max_columns', None)"
   ]
  },
  {
   "cell_type": "code",
   "execution_count": 3,
   "id": "2a9ecc08",
   "metadata": {},
   "outputs": [
    {
     "data": {
      "text/html": [
       "<div>\n",
       "<style scoped>\n",
       "    .dataframe tbody tr th:only-of-type {\n",
       "        vertical-align: middle;\n",
       "    }\n",
       "\n",
       "    .dataframe tbody tr th {\n",
       "        vertical-align: top;\n",
       "    }\n",
       "\n",
       "    .dataframe thead th {\n",
       "        text-align: right;\n",
       "    }\n",
       "</style>\n",
       "<table border=\"1\" class=\"dataframe\">\n",
       "  <thead>\n",
       "    <tr style=\"text-align: right;\">\n",
       "      <th></th>\n",
       "      <th>VendorID</th>\n",
       "      <th>tpep_pickup_datetime</th>\n",
       "      <th>tpep_dropoff_datetime</th>\n",
       "      <th>passenger_count</th>\n",
       "      <th>trip_distance</th>\n",
       "      <th>RatecodeID</th>\n",
       "      <th>store_and_fwd_flag</th>\n",
       "      <th>PULocationID</th>\n",
       "      <th>DOLocationID</th>\n",
       "      <th>payment_type</th>\n",
       "      <th>fare_amount</th>\n",
       "      <th>extra</th>\n",
       "      <th>mta_tax</th>\n",
       "      <th>tip_amount</th>\n",
       "      <th>tolls_amount</th>\n",
       "      <th>improvement_surcharge</th>\n",
       "      <th>total_amount</th>\n",
       "      <th>congestion_surcharge</th>\n",
       "    </tr>\n",
       "  </thead>\n",
       "  <tbody>\n",
       "    <tr>\n",
       "      <th>0</th>\n",
       "      <td>1</td>\n",
       "      <td>01/01/2020 12:28:15 AM</td>\n",
       "      <td>01/01/2020 12:33:03 AM</td>\n",
       "      <td>1.0</td>\n",
       "      <td>1.2</td>\n",
       "      <td>1.0</td>\n",
       "      <td>N</td>\n",
       "      <td>238.0</td>\n",
       "      <td>239.0</td>\n",
       "      <td>1.0</td>\n",
       "      <td>6.0</td>\n",
       "      <td>3.0</td>\n",
       "      <td>0.5</td>\n",
       "      <td>1.47</td>\n",
       "      <td>0.0</td>\n",
       "      <td>0.3</td>\n",
       "      <td>11.27</td>\n",
       "      <td>2.5</td>\n",
       "    </tr>\n",
       "    <tr>\n",
       "      <th>1</th>\n",
       "      <td>1</td>\n",
       "      <td>01/01/2020 12:35:39 AM</td>\n",
       "      <td>01/01/2020 12:43:04 AM</td>\n",
       "      <td>1.0</td>\n",
       "      <td>1.2</td>\n",
       "      <td>1.0</td>\n",
       "      <td>N</td>\n",
       "      <td>239.0</td>\n",
       "      <td>238.0</td>\n",
       "      <td>1.0</td>\n",
       "      <td>7.0</td>\n",
       "      <td>3.0</td>\n",
       "      <td>0.5</td>\n",
       "      <td>1.50</td>\n",
       "      <td>0.0</td>\n",
       "      <td>0.3</td>\n",
       "      <td>12.30</td>\n",
       "      <td>2.5</td>\n",
       "    </tr>\n",
       "    <tr>\n",
       "      <th>2</th>\n",
       "      <td>1</td>\n",
       "      <td>01/01/2020 12:47:41 AM</td>\n",
       "      <td>01/01/2020 12:53:52 AM</td>\n",
       "      <td>1.0</td>\n",
       "      <td>0.6</td>\n",
       "      <td>1.0</td>\n",
       "      <td>N</td>\n",
       "      <td>238.0</td>\n",
       "      <td>238.0</td>\n",
       "      <td>1.0</td>\n",
       "      <td>6.0</td>\n",
       "      <td>3.0</td>\n",
       "      <td>0.5</td>\n",
       "      <td>1.00</td>\n",
       "      <td>0.0</td>\n",
       "      <td>0.3</td>\n",
       "      <td>10.80</td>\n",
       "      <td>2.5</td>\n",
       "    </tr>\n",
       "    <tr>\n",
       "      <th>3</th>\n",
       "      <td>1</td>\n",
       "      <td>01/01/2020 12:55:23 AM</td>\n",
       "      <td>01/01/2020 01:00:14 AM</td>\n",
       "      <td>1.0</td>\n",
       "      <td>0.8</td>\n",
       "      <td>1.0</td>\n",
       "      <td>N</td>\n",
       "      <td>238.0</td>\n",
       "      <td>151.0</td>\n",
       "      <td>1.0</td>\n",
       "      <td>5.5</td>\n",
       "      <td>0.5</td>\n",
       "      <td>0.5</td>\n",
       "      <td>1.36</td>\n",
       "      <td>0.0</td>\n",
       "      <td>0.3</td>\n",
       "      <td>8.16</td>\n",
       "      <td>0.0</td>\n",
       "    </tr>\n",
       "    <tr>\n",
       "      <th>4</th>\n",
       "      <td>2</td>\n",
       "      <td>01/01/2020 12:01:58 AM</td>\n",
       "      <td>01/01/2020 12:04:16 AM</td>\n",
       "      <td>1.0</td>\n",
       "      <td>0.0</td>\n",
       "      <td>1.0</td>\n",
       "      <td>N</td>\n",
       "      <td>193.0</td>\n",
       "      <td>193.0</td>\n",
       "      <td>2.0</td>\n",
       "      <td>3.5</td>\n",
       "      <td>0.5</td>\n",
       "      <td>0.5</td>\n",
       "      <td>0.00</td>\n",
       "      <td>0.0</td>\n",
       "      <td>0.3</td>\n",
       "      <td>4.80</td>\n",
       "      <td>0.0</td>\n",
       "    </tr>\n",
       "  </tbody>\n",
       "</table>\n",
       "</div>"
      ],
      "text/plain": [
       "  VendorID    tpep_pickup_datetime   tpep_dropoff_datetime  passenger_count  \\\n",
       "0        1  01/01/2020 12:28:15 AM  01/01/2020 12:33:03 AM              1.0   \n",
       "1        1  01/01/2020 12:35:39 AM  01/01/2020 12:43:04 AM              1.0   \n",
       "2        1  01/01/2020 12:47:41 AM  01/01/2020 12:53:52 AM              1.0   \n",
       "3        1  01/01/2020 12:55:23 AM  01/01/2020 01:00:14 AM              1.0   \n",
       "4        2  01/01/2020 12:01:58 AM  01/01/2020 12:04:16 AM              1.0   \n",
       "\n",
       "   trip_distance  RatecodeID store_and_fwd_flag  PULocationID  DOLocationID  \\\n",
       "0            1.2         1.0                  N         238.0         239.0   \n",
       "1            1.2         1.0                  N         239.0         238.0   \n",
       "2            0.6         1.0                  N         238.0         238.0   \n",
       "3            0.8         1.0                  N         238.0         151.0   \n",
       "4            0.0         1.0                  N         193.0         193.0   \n",
       "\n",
       "   payment_type  fare_amount  extra  mta_tax  tip_amount  tolls_amount  \\\n",
       "0           1.0          6.0    3.0      0.5        1.47           0.0   \n",
       "1           1.0          7.0    3.0      0.5        1.50           0.0   \n",
       "2           1.0          6.0    3.0      0.5        1.00           0.0   \n",
       "3           1.0          5.5    0.5      0.5        1.36           0.0   \n",
       "4           2.0          3.5    0.5      0.5        0.00           0.0   \n",
       "\n",
       "   improvement_surcharge  total_amount  congestion_surcharge  \n",
       "0                    0.3         11.27                   2.5  \n",
       "1                    0.3         12.30                   2.5  \n",
       "2                    0.3         10.80                   2.5  \n",
       "3                    0.3          8.16                   0.0  \n",
       "4                    0.3          4.80                   0.0  "
      ]
     },
     "execution_count": 3,
     "metadata": {},
     "output_type": "execute_result"
    }
   ],
   "source": [
    "taxi_df.head()"
   ]
  },
  {
   "cell_type": "markdown",
   "id": "3a649e26",
   "metadata": {},
   "source": [
    "1.0.3 Step 2. Data Exploration (Initial EDA and data cleaning)"
   ]
  },
  {
   "cell_type": "code",
   "execution_count": 4,
   "id": "e7920809",
   "metadata": {},
   "outputs": [
    {
     "data": {
      "text/plain": [
       "(11916667, 18)"
      ]
     },
     "execution_count": 4,
     "metadata": {},
     "output_type": "execute_result"
    }
   ],
   "source": [
    "taxi_df.shape"
   ]
  },
  {
   "cell_type": "markdown",
   "id": "76219118",
   "metadata": {},
   "source": [
    "As we can see using the shape function the data almost have 12 million rows. If there is a possibility of filtering the data and use less of it we will do it. In order to check this we will look at 'tpep_pickup_datetime' and 'tpep_dropoff_datetime' variables. "
   ]
  },
  {
   "cell_type": "code",
   "execution_count": 5,
   "id": "3bba0db0",
   "metadata": {},
   "outputs": [
    {
     "name": "stdout",
     "output_type": "stream",
     "text": [
      "<class 'pandas.core.frame.DataFrame'>\n",
      "RangeIndex: 11916667 entries, 0 to 11916666\n",
      "Data columns (total 18 columns):\n",
      " #   Column                 Dtype  \n",
      "---  ------                 -----  \n",
      " 0   VendorID               object \n",
      " 1   tpep_pickup_datetime   object \n",
      " 2   tpep_dropoff_datetime  object \n",
      " 3   passenger_count        float64\n",
      " 4   trip_distance          float64\n",
      " 5   RatecodeID             float64\n",
      " 6   store_and_fwd_flag     object \n",
      " 7   PULocationID           float64\n",
      " 8   DOLocationID           float64\n",
      " 9   payment_type           float64\n",
      " 10  fare_amount            float64\n",
      " 11  extra                  float64\n",
      " 12  mta_tax                float64\n",
      " 13  tip_amount             float64\n",
      " 14  tolls_amount           float64\n",
      " 15  improvement_surcharge  float64\n",
      " 16  total_amount           float64\n",
      " 17  congestion_surcharge   float64\n",
      "dtypes: float64(14), object(4)\n",
      "memory usage: 1.6+ GB\n"
     ]
    }
   ],
   "source": [
    "taxi_df.info()"
   ]
  },
  {
   "cell_type": "markdown",
   "id": "9f33c785",
   "metadata": {},
   "source": [
    "First thing we have encountered is that pickup and dropoff are not datetime type variables. In order to be able to work with them and filter the data we need to transform them into datetime variables."
   ]
  },
  {
   "cell_type": "code",
   "execution_count": 6,
   "id": "5c5b9461",
   "metadata": {},
   "outputs": [
    {
     "data": {
      "text/plain": [
       "0    01/01/2020 12:28:15 AM\n",
       "1    01/01/2020 12:35:39 AM\n",
       "2    01/01/2020 12:47:41 AM\n",
       "3    01/01/2020 12:55:23 AM\n",
       "4    01/01/2020 12:01:58 AM\n",
       "Name: tpep_pickup_datetime, dtype: object"
      ]
     },
     "execution_count": 6,
     "metadata": {},
     "output_type": "execute_result"
    }
   ],
   "source": [
    "taxi_df['tpep_pickup_datetime'].head()"
   ]
  },
  {
   "cell_type": "markdown",
   "id": "5e119b82",
   "metadata": {},
   "source": [
    "In order to transform the variable into datetime we need to know what is the string format. Using head() we saw that we were not able to see if first and second position of the string corresponded to days or months and what type of hour clock it used. By using iloc[ ] and selecting a random number we can now see what is the string format used in the data set."
   ]
  },
  {
   "cell_type": "code",
   "execution_count": 7,
   "id": "5e38164a",
   "metadata": {},
   "outputs": [
    {
     "data": {
      "text/plain": [
       "'01/25/2020 06:04:12 PM'"
      ]
     },
     "execution_count": 7,
     "metadata": {},
     "output_type": "execute_result"
    }
   ],
   "source": [
    "taxi_df['tpep_pickup_datetime'].iloc[5000000]"
   ]
  },
  {
   "cell_type": "code",
   "execution_count": 8,
   "id": "f21681d5",
   "metadata": {},
   "outputs": [],
   "source": [
    "# Assuming most data follows MM/DD/YYYY HH:MM:SS format\n",
    "format_string = '%m/%d/%Y %I:%M:%S %p'\n",
    "\n",
    "# Convert columns to datetime with specified format\n",
    "taxi_df['tpep_pickup_datetime'] = pd.to_datetime(taxi_df['tpep_pickup_datetime'], format=format_string)\n",
    "taxi_df['tpep_dropoff_datetime'] = pd.to_datetime(taxi_df['tpep_dropoff_datetime'], format=format_string)"
   ]
  },
  {
   "cell_type": "code",
   "execution_count": 9,
   "id": "d1dfd8aa",
   "metadata": {},
   "outputs": [
    {
     "name": "stdout",
     "output_type": "stream",
     "text": [
      "datetime64[ns]\n",
      "datetime64[ns]\n",
      "0   2020-01-01 00:28:15\n",
      "1   2020-01-01 00:35:39\n",
      "2   2020-01-01 00:47:41\n",
      "3   2020-01-01 00:55:23\n",
      "4   2020-01-01 00:01:58\n",
      "Name: tpep_pickup_datetime, dtype: datetime64[ns]\n"
     ]
    }
   ],
   "source": [
    "# checking dtype and transformation\n",
    "print(taxi_df['tpep_pickup_datetime'].dtype)\n",
    "print(taxi_df['tpep_dropoff_datetime'].dtype)\n",
    "print(taxi_df['tpep_pickup_datetime'].head())"
   ]
  },
  {
   "cell_type": "markdown",
   "id": "2e75c850",
   "metadata": {},
   "source": [
    "Now, we are going to check what is the minimun and maximun value for each variable. Why doing this? As said previously we are going to filter if possible as the data set is really large. With this approach we can easily see what how many years the dataset have."
   ]
  },
  {
   "cell_type": "code",
   "execution_count": 10,
   "id": "3aa48520",
   "metadata": {},
   "outputs": [
    {
     "name": "stdout",
     "output_type": "stream",
     "text": [
      "\n",
      "Pickup datetime\n",
      "2003-01-01 00:07:17\n",
      "2021-01-02 01:12:10\n",
      "\n",
      "Dropoff datetime\n",
      "2003-01-01 14:16:59\n",
      "2021-01-02 01:25:01\n"
     ]
    }
   ],
   "source": [
    "print()\n",
    "print('Pickup datetime')\n",
    "print(taxi_df['tpep_pickup_datetime'].min())\n",
    "print(taxi_df['tpep_pickup_datetime'].max())\n",
    "print()\n",
    "print('Dropoff datetime')\n",
    "print(taxi_df['tpep_dropoff_datetime'].min())\n",
    "print(taxi_df['tpep_dropoff_datetime'].max())"
   ]
  },
  {
   "cell_type": "markdown",
   "id": "5c1c820b",
   "metadata": {},
   "source": [
    "As a first look we can see that data is splitted from year 2003 to 2021. 18 years of data is a lot. We will take a deeper look to see how data is splitted."
   ]
  },
  {
   "cell_type": "code",
   "execution_count": 11,
   "id": "d9a0a850",
   "metadata": {},
   "outputs": [
    {
     "data": {
      "text/plain": [
       "0           2020.0\n",
       "1           2020.0\n",
       "2           2020.0\n",
       "3           2020.0\n",
       "4           2020.0\n",
       "             ...  \n",
       "11916662       NaN\n",
       "11916663       NaN\n",
       "11916664       NaN\n",
       "11916665       NaN\n",
       "11916666       NaN\n",
       "Name: tpep_pickup_year, Length: 11916667, dtype: float64"
      ]
     },
     "execution_count": 11,
     "metadata": {},
     "output_type": "execute_result"
    }
   ],
   "source": [
    "taxi_df['tpep_pickup_year'] = taxi_df['tpep_pickup_datetime'].dt.year\n",
    "taxi_df['tpep_pickup_year']"
   ]
  },
  {
   "cell_type": "markdown",
   "id": "e359a516",
   "metadata": {},
   "source": [
    "We have created a new column called 'tpep_pickup_year' so we can split the data better but we saw that data has NaN and the year is represented as float. In order to get year as int we have to use astype(int) but having NaN we would encounter and error.\n",
    "\n",
    "Before further filtering in the datetime we are going to see how much data is missing and we will take a decision on wether or not to drop it just in the datetime column or in the entire dataset."
   ]
  },
  {
   "cell_type": "code",
   "execution_count": 12,
   "id": "dc556670",
   "metadata": {},
   "outputs": [
    {
     "data": {
      "text/plain": [
       "VendorID                 91448\n",
       "tpep_pickup_datetime         5\n",
       "tpep_dropoff_datetime        5\n",
       "passenger_count          91453\n",
       "trip_distance                5\n",
       "RatecodeID               91453\n",
       "store_and_fwd_flag       91453\n",
       "PULocationID                 5\n",
       "DOLocationID                 5\n",
       "payment_type             91453\n",
       "fare_amount                  5\n",
       "extra                        5\n",
       "mta_tax                      5\n",
       "tip_amount                   5\n",
       "tolls_amount                 5\n",
       "improvement_surcharge        5\n",
       "total_amount                 5\n",
       "congestion_surcharge         5\n",
       "tpep_pickup_year             5\n",
       "dtype: int64"
      ]
     },
     "execution_count": 12,
     "metadata": {},
     "output_type": "execute_result"
    }
   ],
   "source": [
    "#checking for missing data\n",
    "taxi_df.isna().sum()"
   ]
  },
  {
   "cell_type": "markdown",
   "id": "47118291",
   "metadata": {},
   "source": [
    "There are 91453 missing values in some of the columns. Taking into account that we are dealing with almos twelve million rows we have decided to drop them as they only represent 0.76% of the total data set.\n",
    "\n",
    "*We now that missing values should be taken into account when cleaning data for the different machine learning models and analysis that may be created but in order to be able to work easily and seeing such a low percentage we believe is a good decision to drop them.*"
   ]
  },
  {
   "cell_type": "code",
   "execution_count": 13,
   "id": "dcfa39d5",
   "metadata": {},
   "outputs": [
    {
     "data": {
      "text/plain": [
       "VendorID                 0\n",
       "tpep_pickup_datetime     0\n",
       "tpep_dropoff_datetime    0\n",
       "passenger_count          0\n",
       "trip_distance            0\n",
       "RatecodeID               0\n",
       "store_and_fwd_flag       0\n",
       "PULocationID             0\n",
       "DOLocationID             0\n",
       "payment_type             0\n",
       "fare_amount              0\n",
       "extra                    0\n",
       "mta_tax                  0\n",
       "tip_amount               0\n",
       "tolls_amount             0\n",
       "improvement_surcharge    0\n",
       "total_amount             0\n",
       "congestion_surcharge     0\n",
       "tpep_pickup_year         0\n",
       "dtype: int64"
      ]
     },
     "execution_count": 13,
     "metadata": {},
     "output_type": "execute_result"
    }
   ],
   "source": [
    "# dropping missing values\n",
    "taxi_df = taxi_df.dropna()\n",
    "# checking missing values after dropping them\n",
    "taxi_df.isna().sum()"
   ]
  },
  {
   "cell_type": "markdown",
   "id": "4566442b",
   "metadata": {},
   "source": [
    "Now we can proceed and continue working with datetime variables."
   ]
  },
  {
   "cell_type": "code",
   "execution_count": 14,
   "id": "fe0b2375",
   "metadata": {},
   "outputs": [
    {
     "data": {
      "text/plain": [
       "0    2020\n",
       "1    2020\n",
       "2    2020\n",
       "3    2020\n",
       "4    2020\n",
       "Name: tpep_pickup_year, dtype: int32"
      ]
     },
     "execution_count": 14,
     "metadata": {},
     "output_type": "execute_result"
    }
   ],
   "source": [
    "# transforming year into integer\n",
    "taxi_df['tpep_pickup_year'] = taxi_df['tpep_pickup_year'].astype(int)\n",
    "taxi_df['tpep_pickup_year'].head()"
   ]
  },
  {
   "cell_type": "markdown",
   "id": "d763412f",
   "metadata": {},
   "source": [
    "Next step is to see how data is splitted."
   ]
  },
  {
   "cell_type": "code",
   "execution_count": 15,
   "id": "c8655e13",
   "metadata": {},
   "outputs": [
    {
     "data": {
      "text/plain": [
       "tpep_pickup_year\n",
       "2003           1\n",
       "2008          16\n",
       "2009          40\n",
       "2019         131\n",
       "2020    11825023\n",
       "2021           3\n",
       "Name: tpep_pickup_year, dtype: int64"
      ]
     },
     "execution_count": 15,
     "metadata": {},
     "output_type": "execute_result"
    }
   ],
   "source": [
    "taxi_df.groupby('tpep_pickup_year')['tpep_pickup_year'].size()"
   ]
  },
  {
   "cell_type": "markdown",
   "id": "fad17831",
   "metadata": {},
   "source": [
    "We have achieved a really good insigth as most of the data is from 2020. As the rest of the years are not significant we will just work with 2020 data.\n",
    "\n",
    "As we are going to work with 2020 data but we have not yet finish cleaning and structuring the data we are going to keep working on the data and when it is cleaned as desired we will filter for year 2020."
   ]
  },
  {
   "cell_type": "code",
   "execution_count": 16,
   "id": "e4109d7d",
   "metadata": {},
   "outputs": [
    {
     "name": "stdout",
     "output_type": "stream",
     "text": [
      "Passenger count dtype:  int32\n",
      "RatecodeID dtype:  int32\n",
      "Pickup dtype:  int32\n",
      "Dropoff dtype:  int32\n",
      "Payment type:  int32\n"
     ]
    }
   ],
   "source": [
    "# Passenger count to integer\n",
    "taxi_df['passenger_count'] = taxi_df['passenger_count'].astype(int)\n",
    "print('Passenger count dtype: ', taxi_df['passenger_count'].dtype)\n",
    "# RatecodeID represents the final rate code in effect at the end of the trip\n",
    "taxi_df['RatecodeID'] = taxi_df['RatecodeID'].astype(int)\n",
    "print('RatecodeID dtype: ', taxi_df['RatecodeID'].dtype)\n",
    "# PULocationID and DOLocationID to integers (pickup and dropoff location)\n",
    "taxi_df['PULocationID'] = taxi_df['PULocationID'].astype(int)\n",
    "taxi_df['DOLocationID'] = taxi_df['DOLocationID'].astype(int)\n",
    "print('Pickup dtype: ', taxi_df['PULocationID'].dtype)\n",
    "print('Dropoff dtype: ', taxi_df['DOLocationID'].dtype)\n",
    "# Payment type to integers (A numeric code signifying how the passenger paid for the trip.)\n",
    "taxi_df['payment_type'] = taxi_df['payment_type'].astype(int)\n",
    "print('Payment type: ', taxi_df['payment_type'].dtype)"
   ]
  },
  {
   "cell_type": "code",
   "execution_count": 17,
   "id": "7228ad27",
   "metadata": {},
   "outputs": [
    {
     "data": {
      "text/plain": [
       "VendorID                         object\n",
       "tpep_pickup_datetime     datetime64[ns]\n",
       "tpep_dropoff_datetime    datetime64[ns]\n",
       "passenger_count                   int32\n",
       "trip_distance                   float64\n",
       "RatecodeID                        int32\n",
       "store_and_fwd_flag               object\n",
       "PULocationID                      int32\n",
       "DOLocationID                      int32\n",
       "payment_type                      int32\n",
       "fare_amount                     float64\n",
       "extra                           float64\n",
       "mta_tax                         float64\n",
       "tip_amount                      float64\n",
       "tolls_amount                    float64\n",
       "improvement_surcharge           float64\n",
       "total_amount                    float64\n",
       "congestion_surcharge            float64\n",
       "tpep_pickup_year                  int32\n",
       "dtype: object"
      ]
     },
     "execution_count": 17,
     "metadata": {},
     "output_type": "execute_result"
    }
   ],
   "source": [
    "taxi_df.dtypes"
   ]
  },
  {
   "cell_type": "code",
   "execution_count": 18,
   "id": "dfc803a3",
   "metadata": {},
   "outputs": [
    {
     "data": {
      "text/plain": [
       "0"
      ]
     },
     "execution_count": 18,
     "metadata": {},
     "output_type": "execute_result"
    }
   ],
   "source": [
    "# Checking for duplicates\n",
    "taxi_df.duplicated().sum()"
   ]
  },
  {
   "cell_type": "markdown",
   "id": "2b2664d4",
   "metadata": {},
   "source": [
    "We have finished first part of EDA (Initial EDA and data cleaning). From here we can start working on our analysis with a good base and knowledge of how the data is structure and formated. \n",
    "\n",
    "Now we will filter the data to 2020."
   ]
  },
  {
   "cell_type": "code",
   "execution_count": 19,
   "id": "cda16be9",
   "metadata": {},
   "outputs": [],
   "source": [
    "# We create a new filtered dataframe selecting year 2020\n",
    "taxi_filtered_df = taxi_df[taxi_df['tpep_pickup_year']==2020]"
   ]
  },
  {
   "cell_type": "code",
   "execution_count": 20,
   "id": "5d903a08",
   "metadata": {},
   "outputs": [
    {
     "data": {
      "text/plain": [
       "tpep_pickup_year\n",
       "2020    11825023\n",
       "Name: tpep_pickup_year, dtype: int64"
      ]
     },
     "execution_count": 20,
     "metadata": {},
     "output_type": "execute_result"
    }
   ],
   "source": [
    "# We can reuse the code from above and check if the dataframe was succesfully filtered.\n",
    "taxi_filtered_df.groupby('tpep_pickup_year')['tpep_pickup_year'].size()"
   ]
  },
  {
   "cell_type": "code",
   "execution_count": 21,
   "id": "2cf7ab7f",
   "metadata": {},
   "outputs": [
    {
     "data": {
      "text/html": [
       "<div>\n",
       "<style scoped>\n",
       "    .dataframe tbody tr th:only-of-type {\n",
       "        vertical-align: middle;\n",
       "    }\n",
       "\n",
       "    .dataframe tbody tr th {\n",
       "        vertical-align: top;\n",
       "    }\n",
       "\n",
       "    .dataframe thead th {\n",
       "        text-align: right;\n",
       "    }\n",
       "</style>\n",
       "<table border=\"1\" class=\"dataframe\">\n",
       "  <thead>\n",
       "    <tr style=\"text-align: right;\">\n",
       "      <th></th>\n",
       "      <th>tpep_pickup_datetime</th>\n",
       "      <th>tpep_dropoff_datetime</th>\n",
       "      <th>passenger_count</th>\n",
       "      <th>trip_distance</th>\n",
       "      <th>RatecodeID</th>\n",
       "      <th>PULocationID</th>\n",
       "      <th>DOLocationID</th>\n",
       "      <th>payment_type</th>\n",
       "      <th>fare_amount</th>\n",
       "      <th>extra</th>\n",
       "      <th>mta_tax</th>\n",
       "      <th>tip_amount</th>\n",
       "      <th>tolls_amount</th>\n",
       "      <th>improvement_surcharge</th>\n",
       "      <th>total_amount</th>\n",
       "      <th>congestion_surcharge</th>\n",
       "      <th>tpep_pickup_year</th>\n",
       "    </tr>\n",
       "  </thead>\n",
       "  <tbody>\n",
       "    <tr>\n",
       "      <th>count</th>\n",
       "      <td>11825023</td>\n",
       "      <td>11825023</td>\n",
       "      <td>1.182502e+07</td>\n",
       "      <td>1.182502e+07</td>\n",
       "      <td>1.182502e+07</td>\n",
       "      <td>1.182502e+07</td>\n",
       "      <td>1.182502e+07</td>\n",
       "      <td>1.182502e+07</td>\n",
       "      <td>1.182502e+07</td>\n",
       "      <td>1.182502e+07</td>\n",
       "      <td>1.182502e+07</td>\n",
       "      <td>1.182502e+07</td>\n",
       "      <td>1.182502e+07</td>\n",
       "      <td>1.182502e+07</td>\n",
       "      <td>1.182502e+07</td>\n",
       "      <td>1.182502e+07</td>\n",
       "      <td>11825023.0</td>\n",
       "    </tr>\n",
       "    <tr>\n",
       "      <th>mean</th>\n",
       "      <td>2020-01-30 01:23:28.626809600</td>\n",
       "      <td>2020-01-30 01:39:23.017398528</td>\n",
       "      <td>1.510425e+00</td>\n",
       "      <td>2.824260e+00</td>\n",
       "      <td>1.058356e+00</td>\n",
       "      <td>1.649607e+02</td>\n",
       "      <td>1.629489e+02</td>\n",
       "      <td>1.265057e+00</td>\n",
       "      <td>1.248276e+01</td>\n",
       "      <td>1.096072e+00</td>\n",
       "      <td>4.938125e-01</td>\n",
       "      <td>2.223564e+00</td>\n",
       "      <td>3.282526e-01</td>\n",
       "      <td>2.979414e-01</td>\n",
       "      <td>1.846652e+01</td>\n",
       "      <td>2.302985e+00</td>\n",
       "      <td>2020.0</td>\n",
       "    </tr>\n",
       "    <tr>\n",
       "      <th>min</th>\n",
       "      <td>2020-01-01 00:00:00</td>\n",
       "      <td>2020-01-01 00:01:17</td>\n",
       "      <td>0.000000e+00</td>\n",
       "      <td>-2.218000e+01</td>\n",
       "      <td>1.000000e+00</td>\n",
       "      <td>1.000000e+00</td>\n",
       "      <td>1.000000e+00</td>\n",
       "      <td>1.000000e+00</td>\n",
       "      <td>-1.238000e+03</td>\n",
       "      <td>-2.700000e+01</td>\n",
       "      <td>-5.000000e-01</td>\n",
       "      <td>-9.300000e+01</td>\n",
       "      <td>-3.823000e+01</td>\n",
       "      <td>-3.000000e-01</td>\n",
       "      <td>-1.242300e+03</td>\n",
       "      <td>-2.500000e+00</td>\n",
       "      <td>2020.0</td>\n",
       "    </tr>\n",
       "    <tr>\n",
       "      <th>25%</th>\n",
       "      <td>2020-01-16 07:57:06.500000</td>\n",
       "      <td>2020-01-16 08:11:34.500000</td>\n",
       "      <td>1.000000e+00</td>\n",
       "      <td>9.600000e-01</td>\n",
       "      <td>1.000000e+00</td>\n",
       "      <td>1.320000e+02</td>\n",
       "      <td>1.130000e+02</td>\n",
       "      <td>1.000000e+00</td>\n",
       "      <td>6.500000e+00</td>\n",
       "      <td>0.000000e+00</td>\n",
       "      <td>5.000000e-01</td>\n",
       "      <td>0.000000e+00</td>\n",
       "      <td>0.000000e+00</td>\n",
       "      <td>3.000000e-01</td>\n",
       "      <td>1.116000e+01</td>\n",
       "      <td>2.500000e+00</td>\n",
       "      <td>2020.0</td>\n",
       "    </tr>\n",
       "    <tr>\n",
       "      <th>50%</th>\n",
       "      <td>2020-01-30 09:33:42</td>\n",
       "      <td>2020-01-30 09:50:32</td>\n",
       "      <td>1.000000e+00</td>\n",
       "      <td>1.600000e+00</td>\n",
       "      <td>1.000000e+00</td>\n",
       "      <td>1.620000e+02</td>\n",
       "      <td>1.620000e+02</td>\n",
       "      <td>1.000000e+00</td>\n",
       "      <td>9.000000e+00</td>\n",
       "      <td>5.000000e-01</td>\n",
       "      <td>5.000000e-01</td>\n",
       "      <td>1.960000e+00</td>\n",
       "      <td>0.000000e+00</td>\n",
       "      <td>3.000000e-01</td>\n",
       "      <td>1.430000e+01</td>\n",
       "      <td>2.500000e+00</td>\n",
       "      <td>2020.0</td>\n",
       "    </tr>\n",
       "    <tr>\n",
       "      <th>75%</th>\n",
       "      <td>2020-02-12 19:14:56.500000</td>\n",
       "      <td>2020-02-12 19:29:40</td>\n",
       "      <td>2.000000e+00</td>\n",
       "      <td>2.880000e+00</td>\n",
       "      <td>1.000000e+00</td>\n",
       "      <td>2.340000e+02</td>\n",
       "      <td>2.340000e+02</td>\n",
       "      <td>2.000000e+00</td>\n",
       "      <td>1.350000e+01</td>\n",
       "      <td>2.500000e+00</td>\n",
       "      <td>5.000000e-01</td>\n",
       "      <td>2.940000e+00</td>\n",
       "      <td>0.000000e+00</td>\n",
       "      <td>3.000000e-01</td>\n",
       "      <td>1.975000e+01</td>\n",
       "      <td>2.500000e+00</td>\n",
       "      <td>2020.0</td>\n",
       "    </tr>\n",
       "    <tr>\n",
       "      <th>max</th>\n",
       "      <td>2020-07-31 18:50:41</td>\n",
       "      <td>2020-07-31 18:54:12</td>\n",
       "      <td>9.000000e+00</td>\n",
       "      <td>3.699400e+02</td>\n",
       "      <td>9.900000e+01</td>\n",
       "      <td>2.650000e+02</td>\n",
       "      <td>2.650000e+02</td>\n",
       "      <td>5.000000e+00</td>\n",
       "      <td>4.265000e+03</td>\n",
       "      <td>1.130100e+02</td>\n",
       "      <td>3.951000e+01</td>\n",
       "      <td>1.100000e+03</td>\n",
       "      <td>9.255000e+02</td>\n",
       "      <td>3.000000e-01</td>\n",
       "      <td>4.268300e+03</td>\n",
       "      <td>2.750000e+00</td>\n",
       "      <td>2020.0</td>\n",
       "    </tr>\n",
       "    <tr>\n",
       "      <th>std</th>\n",
       "      <td>NaN</td>\n",
       "      <td>NaN</td>\n",
       "      <td>1.148948e+00</td>\n",
       "      <td>3.710346e+00</td>\n",
       "      <td>7.988824e-01</td>\n",
       "      <td>6.537098e+01</td>\n",
       "      <td>6.970159e+01</td>\n",
       "      <td>4.715760e-01</td>\n",
       "      <td>1.176840e+01</td>\n",
       "      <td>1.251105e+00</td>\n",
       "      <td>6.954457e-02</td>\n",
       "      <td>2.719858e+00</td>\n",
       "      <td>1.714911e+00</td>\n",
       "      <td>3.427594e-02</td>\n",
       "      <td>1.443884e+01</td>\n",
       "      <td>6.962740e-01</td>\n",
       "      <td>0.0</td>\n",
       "    </tr>\n",
       "  </tbody>\n",
       "</table>\n",
       "</div>"
      ],
      "text/plain": [
       "                tpep_pickup_datetime          tpep_dropoff_datetime  \\\n",
       "count                       11825023                       11825023   \n",
       "mean   2020-01-30 01:23:28.626809600  2020-01-30 01:39:23.017398528   \n",
       "min              2020-01-01 00:00:00            2020-01-01 00:01:17   \n",
       "25%       2020-01-16 07:57:06.500000     2020-01-16 08:11:34.500000   \n",
       "50%              2020-01-30 09:33:42            2020-01-30 09:50:32   \n",
       "75%       2020-02-12 19:14:56.500000            2020-02-12 19:29:40   \n",
       "max              2020-07-31 18:50:41            2020-07-31 18:54:12   \n",
       "std                              NaN                            NaN   \n",
       "\n",
       "       passenger_count  trip_distance    RatecodeID  PULocationID  \\\n",
       "count     1.182502e+07   1.182502e+07  1.182502e+07  1.182502e+07   \n",
       "mean      1.510425e+00   2.824260e+00  1.058356e+00  1.649607e+02   \n",
       "min       0.000000e+00  -2.218000e+01  1.000000e+00  1.000000e+00   \n",
       "25%       1.000000e+00   9.600000e-01  1.000000e+00  1.320000e+02   \n",
       "50%       1.000000e+00   1.600000e+00  1.000000e+00  1.620000e+02   \n",
       "75%       2.000000e+00   2.880000e+00  1.000000e+00  2.340000e+02   \n",
       "max       9.000000e+00   3.699400e+02  9.900000e+01  2.650000e+02   \n",
       "std       1.148948e+00   3.710346e+00  7.988824e-01  6.537098e+01   \n",
       "\n",
       "       DOLocationID  payment_type   fare_amount         extra       mta_tax  \\\n",
       "count  1.182502e+07  1.182502e+07  1.182502e+07  1.182502e+07  1.182502e+07   \n",
       "mean   1.629489e+02  1.265057e+00  1.248276e+01  1.096072e+00  4.938125e-01   \n",
       "min    1.000000e+00  1.000000e+00 -1.238000e+03 -2.700000e+01 -5.000000e-01   \n",
       "25%    1.130000e+02  1.000000e+00  6.500000e+00  0.000000e+00  5.000000e-01   \n",
       "50%    1.620000e+02  1.000000e+00  9.000000e+00  5.000000e-01  5.000000e-01   \n",
       "75%    2.340000e+02  2.000000e+00  1.350000e+01  2.500000e+00  5.000000e-01   \n",
       "max    2.650000e+02  5.000000e+00  4.265000e+03  1.130100e+02  3.951000e+01   \n",
       "std    6.970159e+01  4.715760e-01  1.176840e+01  1.251105e+00  6.954457e-02   \n",
       "\n",
       "         tip_amount  tolls_amount  improvement_surcharge  total_amount  \\\n",
       "count  1.182502e+07  1.182502e+07           1.182502e+07  1.182502e+07   \n",
       "mean   2.223564e+00  3.282526e-01           2.979414e-01  1.846652e+01   \n",
       "min   -9.300000e+01 -3.823000e+01          -3.000000e-01 -1.242300e+03   \n",
       "25%    0.000000e+00  0.000000e+00           3.000000e-01  1.116000e+01   \n",
       "50%    1.960000e+00  0.000000e+00           3.000000e-01  1.430000e+01   \n",
       "75%    2.940000e+00  0.000000e+00           3.000000e-01  1.975000e+01   \n",
       "max    1.100000e+03  9.255000e+02           3.000000e-01  4.268300e+03   \n",
       "std    2.719858e+00  1.714911e+00           3.427594e-02  1.443884e+01   \n",
       "\n",
       "       congestion_surcharge  tpep_pickup_year  \n",
       "count          1.182502e+07        11825023.0  \n",
       "mean           2.302985e+00            2020.0  \n",
       "min           -2.500000e+00            2020.0  \n",
       "25%            2.500000e+00            2020.0  \n",
       "50%            2.500000e+00            2020.0  \n",
       "75%            2.500000e+00            2020.0  \n",
       "max            2.750000e+00            2020.0  \n",
       "std            6.962740e-01               0.0  "
      ]
     },
     "execution_count": 21,
     "metadata": {},
     "output_type": "execute_result"
    }
   ],
   "source": [
    "taxi_filtered_df.describe()"
   ]
  },
  {
   "cell_type": "markdown",
   "id": "8f33bed9",
   "metadata": {},
   "source": [
    "From this first view of the data that we are going to work we can infer some basic insights.\n",
    "- Data range goes from Jan 1st 2020 to July 31st. We will build our conclusions and models based on 7 months data.\n",
    "- Passenger count goes from 0 to 9 passenger. For those with 0 passenger we will have to take o better look as it migth by people that finally cancel the trip. We will also look at the total amount charge and the amount of rows in order to decide what to do with them.\n",
    "- Trip distance has negative values that should not be possible. We will handle those values. Maximum trip distance is 369 miles. A taxi trip for suck a distance is really long. We may see outliers here.\n",
    "- All variables related to the amount charge to the customer have also negative values and really high values. We will investigate it and make sure if data is available to work with it."
   ]
  },
  {
   "cell_type": "code",
   "execution_count": 22,
   "id": "67c63799",
   "metadata": {},
   "outputs": [
    {
     "name": "stdout",
     "output_type": "stream",
     "text": [
      "Number of entries with 0 passengers:  222229\n"
     ]
    },
    {
     "data": {
      "text/html": [
       "<div>\n",
       "<style scoped>\n",
       "    .dataframe tbody tr th:only-of-type {\n",
       "        vertical-align: middle;\n",
       "    }\n",
       "\n",
       "    .dataframe tbody tr th {\n",
       "        vertical-align: top;\n",
       "    }\n",
       "\n",
       "    .dataframe thead th {\n",
       "        text-align: right;\n",
       "    }\n",
       "</style>\n",
       "<table border=\"1\" class=\"dataframe\">\n",
       "  <thead>\n",
       "    <tr style=\"text-align: right;\">\n",
       "      <th></th>\n",
       "      <th>passenger_count</th>\n",
       "      <th>total_amount</th>\n",
       "    </tr>\n",
       "  </thead>\n",
       "  <tbody>\n",
       "    <tr>\n",
       "      <th>263</th>\n",
       "      <td>0</td>\n",
       "      <td>13.55</td>\n",
       "    </tr>\n",
       "    <tr>\n",
       "      <th>264</th>\n",
       "      <td>0</td>\n",
       "      <td>14.15</td>\n",
       "    </tr>\n",
       "    <tr>\n",
       "      <th>265</th>\n",
       "      <td>0</td>\n",
       "      <td>15.30</td>\n",
       "    </tr>\n",
       "    <tr>\n",
       "      <th>280</th>\n",
       "      <td>0</td>\n",
       "      <td>20.92</td>\n",
       "    </tr>\n",
       "    <tr>\n",
       "      <th>282</th>\n",
       "      <td>0</td>\n",
       "      <td>18.35</td>\n",
       "    </tr>\n",
       "    <tr>\n",
       "      <th>...</th>\n",
       "      <td>...</td>\n",
       "      <td>...</td>\n",
       "    </tr>\n",
       "    <tr>\n",
       "      <th>11916575</th>\n",
       "      <td>0</td>\n",
       "      <td>12.35</td>\n",
       "    </tr>\n",
       "    <tr>\n",
       "      <th>11916576</th>\n",
       "      <td>0</td>\n",
       "      <td>15.30</td>\n",
       "    </tr>\n",
       "    <tr>\n",
       "      <th>11916598</th>\n",
       "      <td>0</td>\n",
       "      <td>10.55</td>\n",
       "    </tr>\n",
       "    <tr>\n",
       "      <th>11916599</th>\n",
       "      <td>0</td>\n",
       "      <td>9.95</td>\n",
       "    </tr>\n",
       "    <tr>\n",
       "      <th>11916600</th>\n",
       "      <td>0</td>\n",
       "      <td>26.75</td>\n",
       "    </tr>\n",
       "  </tbody>\n",
       "</table>\n",
       "<p>222229 rows × 2 columns</p>\n",
       "</div>"
      ],
      "text/plain": [
       "          passenger_count  total_amount\n",
       "263                     0         13.55\n",
       "264                     0         14.15\n",
       "265                     0         15.30\n",
       "280                     0         20.92\n",
       "282                     0         18.35\n",
       "...                   ...           ...\n",
       "11916575                0         12.35\n",
       "11916576                0         15.30\n",
       "11916598                0         10.55\n",
       "11916599                0          9.95\n",
       "11916600                0         26.75\n",
       "\n",
       "[222229 rows x 2 columns]"
      ]
     },
     "execution_count": 22,
     "metadata": {},
     "output_type": "execute_result"
    }
   ],
   "source": [
    "# Checking possible misleading data from variables\n",
    "# 1. Number of passenger = 0\n",
    "print('Number of entries with 0 passengers: ', taxi_filtered_df[taxi_filtered_df['passenger_count']==0].count()['passenger_count'])\n",
    "taxi_filtered_df[taxi_filtered_df['passenger_count']==0][['passenger_count','total_amount']]"
   ]
  },
  {
   "cell_type": "code",
   "execution_count": 23,
   "id": "29ccdb7a",
   "metadata": {},
   "outputs": [
    {
     "data": {
      "text/plain": [
       "total_amount\n",
       "9.30            4589\n",
       "10.30           4551\n",
       "9.80            4549\n",
       "10.80           4498\n",
       "8.80            4226\n",
       "                ... \n",
       "45.85              1\n",
       "45.60              1\n",
       "45.56              1\n",
       "45.43              1\n",
       "435.42             1\n",
       "Name: count, Length: 3142, dtype: int64"
      ]
     },
     "execution_count": 23,
     "metadata": {},
     "output_type": "execute_result"
    }
   ],
   "source": [
    "taxi_filtered_df[taxi_filtered_df['passenger_count']==0][['total_amount']].value_counts()"
   ]
  },
  {
   "cell_type": "code",
   "execution_count": 24,
   "id": "7add0415",
   "metadata": {},
   "outputs": [
    {
     "data": {
      "text/html": [
       "<div>\n",
       "<style scoped>\n",
       "    .dataframe tbody tr th:only-of-type {\n",
       "        vertical-align: middle;\n",
       "    }\n",
       "\n",
       "    .dataframe tbody tr th {\n",
       "        vertical-align: top;\n",
       "    }\n",
       "\n",
       "    .dataframe thead th {\n",
       "        text-align: right;\n",
       "    }\n",
       "</style>\n",
       "<table border=\"1\" class=\"dataframe\">\n",
       "  <thead>\n",
       "    <tr style=\"text-align: right;\">\n",
       "      <th></th>\n",
       "      <th>passenger_count</th>\n",
       "      <th>tpep_pickup_datetime</th>\n",
       "      <th>tpep_dropoff_datetime</th>\n",
       "    </tr>\n",
       "  </thead>\n",
       "  <tbody>\n",
       "    <tr>\n",
       "      <th>263</th>\n",
       "      <td>0</td>\n",
       "      <td>2020-01-01 00:30:01</td>\n",
       "      <td>2020-01-01 00:39:06</td>\n",
       "    </tr>\n",
       "    <tr>\n",
       "      <th>264</th>\n",
       "      <td>0</td>\n",
       "      <td>2020-01-01 00:40:50</td>\n",
       "      <td>2020-01-01 00:50:05</td>\n",
       "    </tr>\n",
       "    <tr>\n",
       "      <th>265</th>\n",
       "      <td>0</td>\n",
       "      <td>2020-01-01 00:54:17</td>\n",
       "      <td>2020-01-01 01:08:08</td>\n",
       "    </tr>\n",
       "    <tr>\n",
       "      <th>280</th>\n",
       "      <td>0</td>\n",
       "      <td>2020-01-01 00:34:58</td>\n",
       "      <td>2020-01-01 00:45:28</td>\n",
       "    </tr>\n",
       "    <tr>\n",
       "      <th>282</th>\n",
       "      <td>0</td>\n",
       "      <td>2020-01-01 00:55:25</td>\n",
       "      <td>2020-01-01 01:10:34</td>\n",
       "    </tr>\n",
       "    <tr>\n",
       "      <th>...</th>\n",
       "      <td>...</td>\n",
       "      <td>...</td>\n",
       "      <td>...</td>\n",
       "    </tr>\n",
       "    <tr>\n",
       "      <th>11916575</th>\n",
       "      <td>0</td>\n",
       "      <td>2020-02-26 21:01:49</td>\n",
       "      <td>2020-02-26 21:07:32</td>\n",
       "    </tr>\n",
       "    <tr>\n",
       "      <th>11916576</th>\n",
       "      <td>0</td>\n",
       "      <td>2020-02-26 21:31:44</td>\n",
       "      <td>2020-02-26 21:46:39</td>\n",
       "    </tr>\n",
       "    <tr>\n",
       "      <th>11916598</th>\n",
       "      <td>0</td>\n",
       "      <td>2020-02-26 21:13:19</td>\n",
       "      <td>2020-02-26 21:18:10</td>\n",
       "    </tr>\n",
       "    <tr>\n",
       "      <th>11916599</th>\n",
       "      <td>0</td>\n",
       "      <td>2020-02-26 21:22:13</td>\n",
       "      <td>2020-02-26 21:24:24</td>\n",
       "    </tr>\n",
       "    <tr>\n",
       "      <th>11916600</th>\n",
       "      <td>0</td>\n",
       "      <td>2020-02-26 21:55:30</td>\n",
       "      <td>2020-02-26 22:08:47</td>\n",
       "    </tr>\n",
       "  </tbody>\n",
       "</table>\n",
       "<p>222229 rows × 3 columns</p>\n",
       "</div>"
      ],
      "text/plain": [
       "          passenger_count tpep_pickup_datetime tpep_dropoff_datetime\n",
       "263                     0  2020-01-01 00:30:01   2020-01-01 00:39:06\n",
       "264                     0  2020-01-01 00:40:50   2020-01-01 00:50:05\n",
       "265                     0  2020-01-01 00:54:17   2020-01-01 01:08:08\n",
       "280                     0  2020-01-01 00:34:58   2020-01-01 00:45:28\n",
       "282                     0  2020-01-01 00:55:25   2020-01-01 01:10:34\n",
       "...                   ...                  ...                   ...\n",
       "11916575                0  2020-02-26 21:01:49   2020-02-26 21:07:32\n",
       "11916576                0  2020-02-26 21:31:44   2020-02-26 21:46:39\n",
       "11916598                0  2020-02-26 21:13:19   2020-02-26 21:18:10\n",
       "11916599                0  2020-02-26 21:22:13   2020-02-26 21:24:24\n",
       "11916600                0  2020-02-26 21:55:30   2020-02-26 22:08:47\n",
       "\n",
       "[222229 rows x 3 columns]"
      ]
     },
     "execution_count": 24,
     "metadata": {},
     "output_type": "execute_result"
    }
   ],
   "source": [
    "# Quick check on for passenger = 0 in time difference by trip.\n",
    "taxi_filtered_df[taxi_filtered_df['passenger_count']==0][['passenger_count','tpep_pickup_datetime','tpep_dropoff_datetime']]"
   ]
  },
  {
   "cell_type": "code",
   "execution_count": 25,
   "id": "22203fba",
   "metadata": {},
   "outputs": [
    {
     "name": "stderr",
     "output_type": "stream",
     "text": [
      "C:\\Users\\Usuario\\AppData\\Local\\Temp\\ipykernel_31368\\2346945767.py:2: SettingWithCopyWarning: \n",
      "A value is trying to be set on a copy of a slice from a DataFrame.\n",
      "Try using .loc[row_indexer,col_indexer] = value instead\n",
      "\n",
      "See the caveats in the documentation: https://pandas.pydata.org/pandas-docs/stable/user_guide/indexing.html#returning-a-view-versus-a-copy\n",
      "  taxi_filtered_df.loc[:, 'dif_pickup_dropoff_mins'] = (taxi_filtered_df['tpep_dropoff_datetime'] - taxi_filtered_df['tpep_pickup_datetime']) / pd.Timedelta(minutes=1)\n"
     ]
    }
   ],
   "source": [
    "# creating a new column with the difference in time by trip\n",
    "taxi_filtered_df.loc[:, 'dif_pickup_dropoff_mins'] = (taxi_filtered_df['tpep_dropoff_datetime'] - taxi_filtered_df['tpep_pickup_datetime']) / pd.Timedelta(minutes=1)"
   ]
  },
  {
   "cell_type": "code",
   "execution_count": 26,
   "id": "f3a49ed1",
   "metadata": {},
   "outputs": [
    {
     "data": {
      "text/plain": [
       "count    222229.000000\n",
       "mean         12.675167\n",
       "std          13.866527\n",
       "min           0.000000\n",
       "25%           6.033333\n",
       "50%          10.083333\n",
       "75%          16.250000\n",
       "max        1439.366667\n",
       "Name: dif_pickup_dropoff_mins, dtype: float64"
      ]
     },
     "execution_count": 26,
     "metadata": {},
     "output_type": "execute_result"
    }
   ],
   "source": [
    "# Creating a boxplot to visualize how data is structure that will help on future data decisions.\n",
    "# First we create a dataframe with passenger = 0\n",
    "no_passenger_df= taxi_filtered_df[taxi_filtered_df['passenger_count']==0]\n",
    "# Second looking at main stats with describe method\n",
    "no_passenger_df['dif_pickup_dropoff_mins'].describe()"
   ]
  },
  {
   "cell_type": "code",
   "execution_count": 27,
   "id": "a4695090",
   "metadata": {},
   "outputs": [
    {
     "data": {
      "image/png": "[encoded data removed]",
      "text/plain": [
       "<Figure size 500x200 with 1 Axes>"
      ]
     },
     "metadata": {},
     "output_type": "display_data"
    }
   ],
   "source": [
    "plt.figure(figsize=(5,2))\n",
    "sns.boxplot(x=no_passenger_df['dif_pickup_dropoff_mins'], fliersize = 1)\n",
    "plt.title('Distribution of Difference in Pickup-Dropoff Time')\n",
    "plt.show()"
   ]
  },
  {
   "cell_type": "code",
   "execution_count": 28,
   "id": "d6bfae06",
   "metadata": {},
   "outputs": [
    {
     "data": {
      "text/plain": [
       "passenger_count\n",
       "1    8494328\n",
       "2    1757979\n",
       "3     461673\n",
       "5     418225\n",
       "6     245808\n",
       "4     224672\n",
       "0     222229\n",
       "7         51\n",
       "8         32\n",
       "9         26\n",
       "Name: count, dtype: int64"
      ]
     },
     "execution_count": 28,
     "metadata": {},
     "output_type": "execute_result"
    }
   ],
   "source": [
    "taxi_filtered_df['passenger_count'].value_counts()"
   ]
  },
  {
   "cell_type": "code",
   "execution_count": 29,
   "id": "649ee7dd",
   "metadata": {},
   "outputs": [
    {
     "data": {
      "text/html": [
       "<div>\n",
       "<style scoped>\n",
       "    .dataframe tbody tr th:only-of-type {\n",
       "        vertical-align: middle;\n",
       "    }\n",
       "\n",
       "    .dataframe tbody tr th {\n",
       "        vertical-align: top;\n",
       "    }\n",
       "\n",
       "    .dataframe thead th {\n",
       "        text-align: right;\n",
       "    }\n",
       "</style>\n",
       "<table border=\"1\" class=\"dataframe\">\n",
       "  <thead>\n",
       "    <tr style=\"text-align: right;\">\n",
       "      <th></th>\n",
       "      <th>tpep_pickup_datetime</th>\n",
       "      <th>tpep_dropoff_datetime</th>\n",
       "      <th>passenger_count</th>\n",
       "      <th>trip_distance</th>\n",
       "      <th>RatecodeID</th>\n",
       "      <th>PULocationID</th>\n",
       "      <th>DOLocationID</th>\n",
       "      <th>payment_type</th>\n",
       "      <th>fare_amount</th>\n",
       "      <th>extra</th>\n",
       "      <th>mta_tax</th>\n",
       "      <th>tip_amount</th>\n",
       "      <th>tolls_amount</th>\n",
       "      <th>improvement_surcharge</th>\n",
       "      <th>total_amount</th>\n",
       "      <th>congestion_surcharge</th>\n",
       "      <th>tpep_pickup_year</th>\n",
       "      <th>dif_pickup_dropoff_mins</th>\n",
       "    </tr>\n",
       "  </thead>\n",
       "  <tbody>\n",
       "    <tr>\n",
       "      <th>count</th>\n",
       "      <td>222229</td>\n",
       "      <td>222229</td>\n",
       "      <td>222229.0</td>\n",
       "      <td>222229.000000</td>\n",
       "      <td>222229.000000</td>\n",
       "      <td>222229.000000</td>\n",
       "      <td>222229.000000</td>\n",
       "      <td>222229.000000</td>\n",
       "      <td>222229.000000</td>\n",
       "      <td>222229.000000</td>\n",
       "      <td>222229.000000</td>\n",
       "      <td>222229.000000</td>\n",
       "      <td>222229.000000</td>\n",
       "      <td>222229.000000</td>\n",
       "      <td>222229.000000</td>\n",
       "      <td>222229.000000</td>\n",
       "      <td>222229.0</td>\n",
       "      <td>222229.000000</td>\n",
       "    </tr>\n",
       "    <tr>\n",
       "      <th>mean</th>\n",
       "      <td>2020-01-30 20:40:35.254732800</td>\n",
       "      <td>2020-01-30 20:53:15.764751616</td>\n",
       "      <td>0.0</td>\n",
       "      <td>2.639580</td>\n",
       "      <td>1.134154</td>\n",
       "      <td>165.118108</td>\n",
       "      <td>163.276112</td>\n",
       "      <td>1.290412</td>\n",
       "      <td>12.131895</td>\n",
       "      <td>2.624917</td>\n",
       "      <td>0.495576</td>\n",
       "      <td>2.127231</td>\n",
       "      <td>0.298035</td>\n",
       "      <td>0.299707</td>\n",
       "      <td>17.982164</td>\n",
       "      <td>2.301162</td>\n",
       "      <td>2020.0</td>\n",
       "      <td>12.675167</td>\n",
       "    </tr>\n",
       "    <tr>\n",
       "      <th>min</th>\n",
       "      <td>2020-01-01 00:00:05</td>\n",
       "      <td>2020-01-01 00:09:20</td>\n",
       "      <td>0.0</td>\n",
       "      <td>0.000000</td>\n",
       "      <td>1.000000</td>\n",
       "      <td>1.000000</td>\n",
       "      <td>1.000000</td>\n",
       "      <td>1.000000</td>\n",
       "      <td>-225.500000</td>\n",
       "      <td>0.000000</td>\n",
       "      <td>-0.500000</td>\n",
       "      <td>0.000000</td>\n",
       "      <td>0.000000</td>\n",
       "      <td>-0.300000</td>\n",
       "      <td>-228.800000</td>\n",
       "      <td>-2.500000</td>\n",
       "      <td>2020.0</td>\n",
       "      <td>0.000000</td>\n",
       "    </tr>\n",
       "    <tr>\n",
       "      <th>25%</th>\n",
       "      <td>2020-01-16 22:52:40</td>\n",
       "      <td>2020-01-16 23:05:26</td>\n",
       "      <td>0.0</td>\n",
       "      <td>0.900000</td>\n",
       "      <td>1.000000</td>\n",
       "      <td>132.000000</td>\n",
       "      <td>113.000000</td>\n",
       "      <td>1.000000</td>\n",
       "      <td>6.000000</td>\n",
       "      <td>2.500000</td>\n",
       "      <td>0.500000</td>\n",
       "      <td>0.000000</td>\n",
       "      <td>0.000000</td>\n",
       "      <td>0.300000</td>\n",
       "      <td>10.800000</td>\n",
       "      <td>2.500000</td>\n",
       "      <td>2020.0</td>\n",
       "      <td>6.033333</td>\n",
       "    </tr>\n",
       "    <tr>\n",
       "      <th>50%</th>\n",
       "      <td>2020-01-31 10:15:17</td>\n",
       "      <td>2020-01-31 10:30:00</td>\n",
       "      <td>0.0</td>\n",
       "      <td>1.500000</td>\n",
       "      <td>1.000000</td>\n",
       "      <td>162.000000</td>\n",
       "      <td>162.000000</td>\n",
       "      <td>1.000000</td>\n",
       "      <td>8.500000</td>\n",
       "      <td>2.500000</td>\n",
       "      <td>0.500000</td>\n",
       "      <td>1.850000</td>\n",
       "      <td>0.000000</td>\n",
       "      <td>0.300000</td>\n",
       "      <td>14.100000</td>\n",
       "      <td>2.500000</td>\n",
       "      <td>2020.0</td>\n",
       "      <td>10.083333</td>\n",
       "    </tr>\n",
       "    <tr>\n",
       "      <th>75%</th>\n",
       "      <td>2020-02-13 14:37:12</td>\n",
       "      <td>2020-02-13 14:51:07</td>\n",
       "      <td>0.0</td>\n",
       "      <td>2.700000</td>\n",
       "      <td>1.000000</td>\n",
       "      <td>234.000000</td>\n",
       "      <td>234.000000</td>\n",
       "      <td>2.000000</td>\n",
       "      <td>13.000000</td>\n",
       "      <td>3.000000</td>\n",
       "      <td>0.500000</td>\n",
       "      <td>2.780000</td>\n",
       "      <td>0.000000</td>\n",
       "      <td>0.300000</td>\n",
       "      <td>18.960000</td>\n",
       "      <td>2.500000</td>\n",
       "      <td>2020.0</td>\n",
       "      <td>16.250000</td>\n",
       "    </tr>\n",
       "    <tr>\n",
       "      <th>max</th>\n",
       "      <td>2020-07-28 09:02:59</td>\n",
       "      <td>2020-07-28 09:08:19</td>\n",
       "      <td>0.0</td>\n",
       "      <td>93.500000</td>\n",
       "      <td>99.000000</td>\n",
       "      <td>265.000000</td>\n",
       "      <td>265.000000</td>\n",
       "      <td>4.000000</td>\n",
       "      <td>428.500000</td>\n",
       "      <td>7.000000</td>\n",
       "      <td>3.300000</td>\n",
       "      <td>309.730000</td>\n",
       "      <td>93.500000</td>\n",
       "      <td>0.300000</td>\n",
       "      <td>435.420000</td>\n",
       "      <td>2.500000</td>\n",
       "      <td>2020.0</td>\n",
       "      <td>1439.366667</td>\n",
       "    </tr>\n",
       "    <tr>\n",
       "      <th>std</th>\n",
       "      <td>NaN</td>\n",
       "      <td>NaN</td>\n",
       "      <td>0.0</td>\n",
       "      <td>3.550434</td>\n",
       "      <td>2.597158</td>\n",
       "      <td>64.936563</td>\n",
       "      <td>69.206114</td>\n",
       "      <td>0.520903</td>\n",
       "      <td>11.386968</td>\n",
       "      <td>0.836462</td>\n",
       "      <td>0.050319</td>\n",
       "      <td>2.791150</td>\n",
       "      <td>1.569106</td>\n",
       "      <td>0.010395</td>\n",
       "      <td>13.834174</td>\n",
       "      <td>0.677014</td>\n",
       "      <td>0.0</td>\n",
       "      <td>13.866527</td>\n",
       "    </tr>\n",
       "  </tbody>\n",
       "</table>\n",
       "</div>"
      ],
      "text/plain": [
       "                tpep_pickup_datetime          tpep_dropoff_datetime  \\\n",
       "count                         222229                         222229   \n",
       "mean   2020-01-30 20:40:35.254732800  2020-01-30 20:53:15.764751616   \n",
       "min              2020-01-01 00:00:05            2020-01-01 00:09:20   \n",
       "25%              2020-01-16 22:52:40            2020-01-16 23:05:26   \n",
       "50%              2020-01-31 10:15:17            2020-01-31 10:30:00   \n",
       "75%              2020-02-13 14:37:12            2020-02-13 14:51:07   \n",
       "max              2020-07-28 09:02:59            2020-07-28 09:08:19   \n",
       "std                              NaN                            NaN   \n",
       "\n",
       "       passenger_count  trip_distance     RatecodeID   PULocationID  \\\n",
       "count         222229.0  222229.000000  222229.000000  222229.000000   \n",
       "mean               0.0       2.639580       1.134154     165.118108   \n",
       "min                0.0       0.000000       1.000000       1.000000   \n",
       "25%                0.0       0.900000       1.000000     132.000000   \n",
       "50%                0.0       1.500000       1.000000     162.000000   \n",
       "75%                0.0       2.700000       1.000000     234.000000   \n",
       "max                0.0      93.500000      99.000000     265.000000   \n",
       "std                0.0       3.550434       2.597158      64.936563   \n",
       "\n",
       "        DOLocationID   payment_type    fare_amount          extra  \\\n",
       "count  222229.000000  222229.000000  222229.000000  222229.000000   \n",
       "mean      163.276112       1.290412      12.131895       2.624917   \n",
       "min         1.000000       1.000000    -225.500000       0.000000   \n",
       "25%       113.000000       1.000000       6.000000       2.500000   \n",
       "50%       162.000000       1.000000       8.500000       2.500000   \n",
       "75%       234.000000       2.000000      13.000000       3.000000   \n",
       "max       265.000000       4.000000     428.500000       7.000000   \n",
       "std        69.206114       0.520903      11.386968       0.836462   \n",
       "\n",
       "             mta_tax     tip_amount   tolls_amount  improvement_surcharge  \\\n",
       "count  222229.000000  222229.000000  222229.000000          222229.000000   \n",
       "mean        0.495576       2.127231       0.298035               0.299707   \n",
       "min        -0.500000       0.000000       0.000000              -0.300000   \n",
       "25%         0.500000       0.000000       0.000000               0.300000   \n",
       "50%         0.500000       1.850000       0.000000               0.300000   \n",
       "75%         0.500000       2.780000       0.000000               0.300000   \n",
       "max         3.300000     309.730000      93.500000               0.300000   \n",
       "std         0.050319       2.791150       1.569106               0.010395   \n",
       "\n",
       "        total_amount  congestion_surcharge  tpep_pickup_year  \\\n",
       "count  222229.000000         222229.000000          222229.0   \n",
       "mean       17.982164              2.301162            2020.0   \n",
       "min      -228.800000             -2.500000            2020.0   \n",
       "25%        10.800000              2.500000            2020.0   \n",
       "50%        14.100000              2.500000            2020.0   \n",
       "75%        18.960000              2.500000            2020.0   \n",
       "max       435.420000              2.500000            2020.0   \n",
       "std        13.834174              0.677014               0.0   \n",
       "\n",
       "       dif_pickup_dropoff_mins  \n",
       "count            222229.000000  \n",
       "mean                 12.675167  \n",
       "min                   0.000000  \n",
       "25%                   6.033333  \n",
       "50%                  10.083333  \n",
       "75%                  16.250000  \n",
       "max                1439.366667  \n",
       "std                  13.866527  "
      ]
     },
     "execution_count": 29,
     "metadata": {},
     "output_type": "execute_result"
    }
   ],
   "source": [
    "no_passenger_df.describe()"
   ]
  },
  {
   "cell_type": "markdown",
   "id": "9719c53c",
   "metadata": {},
   "source": [
    "There are 222229 rows that are filled with zero passenger in a trip. This represents 1.87% of the total data set.\n",
    "We have look for possible patterns in the data that could explain this casuistic.\n",
    "First we looked at the total amount charged to customers and we saw that there is not a usual amount charged. We also looked at the trip time as we thought we could see patterns in the hours or the minutes per trip. It is true that the average trip is around 12.5 minutes (short trips in a city like New York) but invesitigating other variables we did not see a direct connection.\n",
    "We also visualize how data was distributed as we could saw possible outliers and data that might not be correctly inputed in the data set. \n",
    "\n",
    "Taking into account this analysis and the possible explanations of having trips with zero passengers (cancelled trips, forgotten items, very short trips, etc.) we have decided to drop the rows with  zero passengers.\n",
    "\n",
    "For the future purposes of the analysis we think it would lead to more inneficient results than efficieint."
   ]
  },
  {
   "cell_type": "code",
   "execution_count": 30,
   "id": "7dd7374b",
   "metadata": {},
   "outputs": [],
   "source": [
    "# dropping passenger count = 0 from the dataframe\n",
    "taxi_filtered_df = taxi_filtered_df[taxi_filtered_df['passenger_count'] != 0]"
   ]
  },
  {
   "cell_type": "code",
   "execution_count": 31,
   "id": "84399743",
   "metadata": {
    "scrolled": true
   },
   "outputs": [
    {
     "data": {
      "text/plain": [
       "passenger_count\n",
       "1    8494328\n",
       "2    1757979\n",
       "3     461673\n",
       "5     418225\n",
       "6     245808\n",
       "4     224672\n",
       "7         51\n",
       "8         32\n",
       "9         26\n",
       "Name: count, dtype: int64"
      ]
     },
     "execution_count": 31,
     "metadata": {},
     "output_type": "execute_result"
    }
   ],
   "source": [
    "# checking if passenger count = 0 was succesfully dropped\n",
    "taxi_filtered_df['passenger_count'].value_counts()"
   ]
  },
  {
   "cell_type": "code",
   "execution_count": 32,
   "id": "7021cca9",
   "metadata": {
    "scrolled": true
   },
   "outputs": [
    {
     "data": {
      "text/html": [
       "<div>\n",
       "<style scoped>\n",
       "    .dataframe tbody tr th:only-of-type {\n",
       "        vertical-align: middle;\n",
       "    }\n",
       "\n",
       "    .dataframe tbody tr th {\n",
       "        vertical-align: top;\n",
       "    }\n",
       "\n",
       "    .dataframe thead th {\n",
       "        text-align: right;\n",
       "    }\n",
       "</style>\n",
       "<table border=\"1\" class=\"dataframe\">\n",
       "  <thead>\n",
       "    <tr style=\"text-align: right;\">\n",
       "      <th></th>\n",
       "      <th>VendorID</th>\n",
       "      <th>tpep_pickup_datetime</th>\n",
       "      <th>tpep_dropoff_datetime</th>\n",
       "      <th>passenger_count</th>\n",
       "      <th>trip_distance</th>\n",
       "      <th>RatecodeID</th>\n",
       "      <th>store_and_fwd_flag</th>\n",
       "      <th>PULocationID</th>\n",
       "      <th>DOLocationID</th>\n",
       "      <th>payment_type</th>\n",
       "      <th>fare_amount</th>\n",
       "      <th>extra</th>\n",
       "      <th>mta_tax</th>\n",
       "      <th>tip_amount</th>\n",
       "      <th>tolls_amount</th>\n",
       "      <th>improvement_surcharge</th>\n",
       "      <th>total_amount</th>\n",
       "      <th>congestion_surcharge</th>\n",
       "      <th>tpep_pickup_year</th>\n",
       "      <th>dif_pickup_dropoff_mins</th>\n",
       "    </tr>\n",
       "  </thead>\n",
       "  <tbody>\n",
       "    <tr>\n",
       "      <th>count</th>\n",
       "      <td>11602794</td>\n",
       "      <td>11602794</td>\n",
       "      <td>11602794</td>\n",
       "      <td>1.160279e+07</td>\n",
       "      <td>1.160279e+07</td>\n",
       "      <td>1.160279e+07</td>\n",
       "      <td>11602794</td>\n",
       "      <td>1.160279e+07</td>\n",
       "      <td>1.160279e+07</td>\n",
       "      <td>1.160279e+07</td>\n",
       "      <td>1.160279e+07</td>\n",
       "      <td>1.160279e+07</td>\n",
       "      <td>1.160279e+07</td>\n",
       "      <td>1.160279e+07</td>\n",
       "      <td>1.160279e+07</td>\n",
       "      <td>1.160279e+07</td>\n",
       "      <td>1.160279e+07</td>\n",
       "      <td>1.160279e+07</td>\n",
       "      <td>11602794.0</td>\n",
       "      <td>1.160279e+07</td>\n",
       "    </tr>\n",
       "    <tr>\n",
       "      <th>unique</th>\n",
       "      <td>2</td>\n",
       "      <td>NaN</td>\n",
       "      <td>NaN</td>\n",
       "      <td>NaN</td>\n",
       "      <td>NaN</td>\n",
       "      <td>NaN</td>\n",
       "      <td>2</td>\n",
       "      <td>NaN</td>\n",
       "      <td>NaN</td>\n",
       "      <td>NaN</td>\n",
       "      <td>NaN</td>\n",
       "      <td>NaN</td>\n",
       "      <td>NaN</td>\n",
       "      <td>NaN</td>\n",
       "      <td>NaN</td>\n",
       "      <td>NaN</td>\n",
       "      <td>NaN</td>\n",
       "      <td>NaN</td>\n",
       "      <td>NaN</td>\n",
       "      <td>NaN</td>\n",
       "    </tr>\n",
       "    <tr>\n",
       "      <th>top</th>\n",
       "      <td>2</td>\n",
       "      <td>NaN</td>\n",
       "      <td>NaN</td>\n",
       "      <td>NaN</td>\n",
       "      <td>NaN</td>\n",
       "      <td>NaN</td>\n",
       "      <td>N</td>\n",
       "      <td>NaN</td>\n",
       "      <td>NaN</td>\n",
       "      <td>NaN</td>\n",
       "      <td>NaN</td>\n",
       "      <td>NaN</td>\n",
       "      <td>NaN</td>\n",
       "      <td>NaN</td>\n",
       "      <td>NaN</td>\n",
       "      <td>NaN</td>\n",
       "      <td>NaN</td>\n",
       "      <td>NaN</td>\n",
       "      <td>NaN</td>\n",
       "      <td>NaN</td>\n",
       "    </tr>\n",
       "    <tr>\n",
       "      <th>freq</th>\n",
       "      <td>7923662</td>\n",
       "      <td>NaN</td>\n",
       "      <td>NaN</td>\n",
       "      <td>NaN</td>\n",
       "      <td>NaN</td>\n",
       "      <td>NaN</td>\n",
       "      <td>11486670</td>\n",
       "      <td>NaN</td>\n",
       "      <td>NaN</td>\n",
       "      <td>NaN</td>\n",
       "      <td>NaN</td>\n",
       "      <td>NaN</td>\n",
       "      <td>NaN</td>\n",
       "      <td>NaN</td>\n",
       "      <td>NaN</td>\n",
       "      <td>NaN</td>\n",
       "      <td>NaN</td>\n",
       "      <td>NaN</td>\n",
       "      <td>NaN</td>\n",
       "      <td>NaN</td>\n",
       "    </tr>\n",
       "    <tr>\n",
       "      <th>mean</th>\n",
       "      <td>NaN</td>\n",
       "      <td>2020-01-30 01:01:18.894498304</td>\n",
       "      <td>2020-01-30 01:17:16.998491904</td>\n",
       "      <td>1.539354e+00</td>\n",
       "      <td>2.827798e+00</td>\n",
       "      <td>1.056904e+00</td>\n",
       "      <td>NaN</td>\n",
       "      <td>1.649577e+02</td>\n",
       "      <td>1.629427e+02</td>\n",
       "      <td>1.264571e+00</td>\n",
       "      <td>1.248948e+01</td>\n",
       "      <td>1.066790e+00</td>\n",
       "      <td>4.937787e-01</td>\n",
       "      <td>2.225409e+00</td>\n",
       "      <td>3.288314e-01</td>\n",
       "      <td>2.979076e-01</td>\n",
       "      <td>1.847580e+01</td>\n",
       "      <td>2.303020e+00</td>\n",
       "      <td>2020.0</td>\n",
       "      <td>1.596840e+01</td>\n",
       "    </tr>\n",
       "    <tr>\n",
       "      <th>min</th>\n",
       "      <td>NaN</td>\n",
       "      <td>2020-01-01 00:00:00</td>\n",
       "      <td>2020-01-01 00:01:17</td>\n",
       "      <td>1.000000e+00</td>\n",
       "      <td>-2.218000e+01</td>\n",
       "      <td>1.000000e+00</td>\n",
       "      <td>NaN</td>\n",
       "      <td>1.000000e+00</td>\n",
       "      <td>1.000000e+00</td>\n",
       "      <td>1.000000e+00</td>\n",
       "      <td>-1.238000e+03</td>\n",
       "      <td>-2.700000e+01</td>\n",
       "      <td>-5.000000e-01</td>\n",
       "      <td>-9.300000e+01</td>\n",
       "      <td>-3.823000e+01</td>\n",
       "      <td>-3.000000e-01</td>\n",
       "      <td>-1.242300e+03</td>\n",
       "      <td>-2.500000e+00</td>\n",
       "      <td>2020.0</td>\n",
       "      <td>-9.990667e+03</td>\n",
       "    </tr>\n",
       "    <tr>\n",
       "      <th>25%</th>\n",
       "      <td>NaN</td>\n",
       "      <td>2020-01-16 07:39:06</td>\n",
       "      <td>2020-01-16 07:53:20</td>\n",
       "      <td>1.000000e+00</td>\n",
       "      <td>9.600000e-01</td>\n",
       "      <td>1.000000e+00</td>\n",
       "      <td>NaN</td>\n",
       "      <td>1.320000e+02</td>\n",
       "      <td>1.130000e+02</td>\n",
       "      <td>1.000000e+00</td>\n",
       "      <td>6.500000e+00</td>\n",
       "      <td>0.000000e+00</td>\n",
       "      <td>5.000000e-01</td>\n",
       "      <td>0.000000e+00</td>\n",
       "      <td>0.000000e+00</td>\n",
       "      <td>3.000000e-01</td>\n",
       "      <td>1.116000e+01</td>\n",
       "      <td>2.500000e+00</td>\n",
       "      <td>2020.0</td>\n",
       "      <td>6.433333e+00</td>\n",
       "    </tr>\n",
       "    <tr>\n",
       "      <th>50%</th>\n",
       "      <td>NaN</td>\n",
       "      <td>2020-01-30 09:10:56</td>\n",
       "      <td>2020-01-30 09:27:53</td>\n",
       "      <td>1.000000e+00</td>\n",
       "      <td>1.600000e+00</td>\n",
       "      <td>1.000000e+00</td>\n",
       "      <td>NaN</td>\n",
       "      <td>1.620000e+02</td>\n",
       "      <td>1.620000e+02</td>\n",
       "      <td>1.000000e+00</td>\n",
       "      <td>9.000000e+00</td>\n",
       "      <td>5.000000e-01</td>\n",
       "      <td>5.000000e-01</td>\n",
       "      <td>1.960000e+00</td>\n",
       "      <td>0.000000e+00</td>\n",
       "      <td>3.000000e-01</td>\n",
       "      <td>1.430000e+01</td>\n",
       "      <td>2.500000e+00</td>\n",
       "      <td>2020.0</td>\n",
       "      <td>1.056667e+01</td>\n",
       "    </tr>\n",
       "    <tr>\n",
       "      <th>75%</th>\n",
       "      <td>NaN</td>\n",
       "      <td>2020-02-12 19:02:18</td>\n",
       "      <td>2020-02-12 19:17:24</td>\n",
       "      <td>2.000000e+00</td>\n",
       "      <td>2.890000e+00</td>\n",
       "      <td>1.000000e+00</td>\n",
       "      <td>NaN</td>\n",
       "      <td>2.340000e+02</td>\n",
       "      <td>2.340000e+02</td>\n",
       "      <td>2.000000e+00</td>\n",
       "      <td>1.350000e+01</td>\n",
       "      <td>2.500000e+00</td>\n",
       "      <td>5.000000e-01</td>\n",
       "      <td>2.940000e+00</td>\n",
       "      <td>0.000000e+00</td>\n",
       "      <td>3.000000e-01</td>\n",
       "      <td>1.975000e+01</td>\n",
       "      <td>2.500000e+00</td>\n",
       "      <td>2020.0</td>\n",
       "      <td>1.690000e+01</td>\n",
       "    </tr>\n",
       "    <tr>\n",
       "      <th>max</th>\n",
       "      <td>NaN</td>\n",
       "      <td>2020-07-31 18:50:41</td>\n",
       "      <td>2020-07-31 18:54:12</td>\n",
       "      <td>9.000000e+00</td>\n",
       "      <td>3.699400e+02</td>\n",
       "      <td>9.900000e+01</td>\n",
       "      <td>NaN</td>\n",
       "      <td>2.650000e+02</td>\n",
       "      <td>2.650000e+02</td>\n",
       "      <td>5.000000e+00</td>\n",
       "      <td>4.265000e+03</td>\n",
       "      <td>1.130100e+02</td>\n",
       "      <td>3.951000e+01</td>\n",
       "      <td>1.100000e+03</td>\n",
       "      <td>9.255000e+02</td>\n",
       "      <td>3.000000e-01</td>\n",
       "      <td>4.268300e+03</td>\n",
       "      <td>2.750000e+00</td>\n",
       "      <td>2020.0</td>\n",
       "      <td>8.525117e+03</td>\n",
       "    </tr>\n",
       "    <tr>\n",
       "      <th>std</th>\n",
       "      <td>NaN</td>\n",
       "      <td>NaN</td>\n",
       "      <td>NaN</td>\n",
       "      <td>1.140541e+00</td>\n",
       "      <td>3.713252e+00</td>\n",
       "      <td>7.218957e-01</td>\n",
       "      <td>NaN</td>\n",
       "      <td>6.537927e+01</td>\n",
       "      <td>6.971103e+01</td>\n",
       "      <td>4.705675e-01</td>\n",
       "      <td>1.177549e+01</td>\n",
       "      <td>1.239443e+00</td>\n",
       "      <td>6.986075e-02</td>\n",
       "      <td>2.718441e+00</td>\n",
       "      <td>1.717578e+00</td>\n",
       "      <td>3.457183e-02</td>\n",
       "      <td>1.445002e+01</td>\n",
       "      <td>6.966377e-01</td>\n",
       "      <td>0.0</td>\n",
       "      <td>6.324810e+01</td>\n",
       "    </tr>\n",
       "  </tbody>\n",
       "</table>\n",
       "</div>"
      ],
      "text/plain": [
       "        VendorID           tpep_pickup_datetime  \\\n",
       "count   11602794                       11602794   \n",
       "unique         2                            NaN   \n",
       "top            2                            NaN   \n",
       "freq     7923662                            NaN   \n",
       "mean         NaN  2020-01-30 01:01:18.894498304   \n",
       "min          NaN            2020-01-01 00:00:00   \n",
       "25%          NaN            2020-01-16 07:39:06   \n",
       "50%          NaN            2020-01-30 09:10:56   \n",
       "75%          NaN            2020-02-12 19:02:18   \n",
       "max          NaN            2020-07-31 18:50:41   \n",
       "std          NaN                            NaN   \n",
       "\n",
       "                tpep_dropoff_datetime  passenger_count  trip_distance  \\\n",
       "count                        11602794     1.160279e+07   1.160279e+07   \n",
       "unique                            NaN              NaN            NaN   \n",
       "top                               NaN              NaN            NaN   \n",
       "freq                              NaN              NaN            NaN   \n",
       "mean    2020-01-30 01:17:16.998491904     1.539354e+00   2.827798e+00   \n",
       "min               2020-01-01 00:01:17     1.000000e+00  -2.218000e+01   \n",
       "25%               2020-01-16 07:53:20     1.000000e+00   9.600000e-01   \n",
       "50%               2020-01-30 09:27:53     1.000000e+00   1.600000e+00   \n",
       "75%               2020-02-12 19:17:24     2.000000e+00   2.890000e+00   \n",
       "max               2020-07-31 18:54:12     9.000000e+00   3.699400e+02   \n",
       "std                               NaN     1.140541e+00   3.713252e+00   \n",
       "\n",
       "          RatecodeID store_and_fwd_flag  PULocationID  DOLocationID  \\\n",
       "count   1.160279e+07           11602794  1.160279e+07  1.160279e+07   \n",
       "unique           NaN                  2           NaN           NaN   \n",
       "top              NaN                  N           NaN           NaN   \n",
       "freq             NaN           11486670           NaN           NaN   \n",
       "mean    1.056904e+00                NaN  1.649577e+02  1.629427e+02   \n",
       "min     1.000000e+00                NaN  1.000000e+00  1.000000e+00   \n",
       "25%     1.000000e+00                NaN  1.320000e+02  1.130000e+02   \n",
       "50%     1.000000e+00                NaN  1.620000e+02  1.620000e+02   \n",
       "75%     1.000000e+00                NaN  2.340000e+02  2.340000e+02   \n",
       "max     9.900000e+01                NaN  2.650000e+02  2.650000e+02   \n",
       "std     7.218957e-01                NaN  6.537927e+01  6.971103e+01   \n",
       "\n",
       "        payment_type   fare_amount         extra       mta_tax    tip_amount  \\\n",
       "count   1.160279e+07  1.160279e+07  1.160279e+07  1.160279e+07  1.160279e+07   \n",
       "unique           NaN           NaN           NaN           NaN           NaN   \n",
       "top              NaN           NaN           NaN           NaN           NaN   \n",
       "freq             NaN           NaN           NaN           NaN           NaN   \n",
       "mean    1.264571e+00  1.248948e+01  1.066790e+00  4.937787e-01  2.225409e+00   \n",
       "min     1.000000e+00 -1.238000e+03 -2.700000e+01 -5.000000e-01 -9.300000e+01   \n",
       "25%     1.000000e+00  6.500000e+00  0.000000e+00  5.000000e-01  0.000000e+00   \n",
       "50%     1.000000e+00  9.000000e+00  5.000000e-01  5.000000e-01  1.960000e+00   \n",
       "75%     2.000000e+00  1.350000e+01  2.500000e+00  5.000000e-01  2.940000e+00   \n",
       "max     5.000000e+00  4.265000e+03  1.130100e+02  3.951000e+01  1.100000e+03   \n",
       "std     4.705675e-01  1.177549e+01  1.239443e+00  6.986075e-02  2.718441e+00   \n",
       "\n",
       "        tolls_amount  improvement_surcharge  total_amount  \\\n",
       "count   1.160279e+07           1.160279e+07  1.160279e+07   \n",
       "unique           NaN                    NaN           NaN   \n",
       "top              NaN                    NaN           NaN   \n",
       "freq             NaN                    NaN           NaN   \n",
       "mean    3.288314e-01           2.979076e-01  1.847580e+01   \n",
       "min    -3.823000e+01          -3.000000e-01 -1.242300e+03   \n",
       "25%     0.000000e+00           3.000000e-01  1.116000e+01   \n",
       "50%     0.000000e+00           3.000000e-01  1.430000e+01   \n",
       "75%     0.000000e+00           3.000000e-01  1.975000e+01   \n",
       "max     9.255000e+02           3.000000e-01  4.268300e+03   \n",
       "std     1.717578e+00           3.457183e-02  1.445002e+01   \n",
       "\n",
       "        congestion_surcharge  tpep_pickup_year  dif_pickup_dropoff_mins  \n",
       "count           1.160279e+07        11602794.0             1.160279e+07  \n",
       "unique                   NaN               NaN                      NaN  \n",
       "top                      NaN               NaN                      NaN  \n",
       "freq                     NaN               NaN                      NaN  \n",
       "mean            2.303020e+00            2020.0             1.596840e+01  \n",
       "min            -2.500000e+00            2020.0            -9.990667e+03  \n",
       "25%             2.500000e+00            2020.0             6.433333e+00  \n",
       "50%             2.500000e+00            2020.0             1.056667e+01  \n",
       "75%             2.500000e+00            2020.0             1.690000e+01  \n",
       "max             2.750000e+00            2020.0             8.525117e+03  \n",
       "std             6.966377e-01               0.0             6.324810e+01  "
      ]
     },
     "execution_count": 32,
     "metadata": {},
     "output_type": "execute_result"
    }
   ],
   "source": [
    "taxi_filtered_df.describe(include='all')"
   ]
  },
  {
   "cell_type": "code",
   "execution_count": 33,
   "id": "03da7ea7",
   "metadata": {},
   "outputs": [
    {
     "data": {
      "image/png": "[encoded data removed]",
      "text/plain": [
       "<Figure size 1000x200 with 1 Axes>"
      ]
     },
     "metadata": {},
     "output_type": "display_data"
    }
   ],
   "source": [
    "# 2. Trip distance\n",
    "# Visualizing distribution\n",
    "plt.figure(figsize=(10,2))\n",
    "sns.boxplot(x= taxi_filtered_df['trip_distance'])\n",
    "plt.title('Trip distance distribution')\n",
    "plt.show()"
   ]
  },
  {
   "cell_type": "markdown",
   "id": "6cbf929a",
   "metadata": {},
   "source": [
    "As shown in the boxplot we have negative values and outliers. \n",
    "\n",
    "Negative trip distances does not make sense so we will drop them from the data. Later we will handle outliers."
   ]
  },
  {
   "cell_type": "code",
   "execution_count": 34,
   "id": "11d22008",
   "metadata": {},
   "outputs": [],
   "source": [
    "# Handling negative values\n",
    "negative_trip_distance_df = taxi_filtered_df[taxi_filtered_df['trip_distance']< 0]"
   ]
  },
  {
   "cell_type": "code",
   "execution_count": 35,
   "id": "5829e1c4",
   "metadata": {},
   "outputs": [
    {
     "data": {
      "text/plain": [
       "trip_distance\n",
       "-0.88     2\n",
       "-0.71     1\n",
       "-9.29     1\n",
       "-1.79     1\n",
       "-22.18    1\n",
       "-1.25     1\n",
       "-1.32     1\n",
       "-1.48     1\n",
       "-6.33     1\n",
       "-10.94    1\n",
       "-1.44     1\n",
       "-6.40     1\n",
       "Name: count, dtype: int64"
      ]
     },
     "execution_count": 35,
     "metadata": {},
     "output_type": "execute_result"
    }
   ],
   "source": [
    "negative_trip_distance_df['trip_distance'].value_counts()"
   ]
  },
  {
   "cell_type": "code",
   "execution_count": 36,
   "id": "970a7a8c",
   "metadata": {},
   "outputs": [
    {
     "data": {
      "text/plain": [
       "13"
      ]
     },
     "execution_count": 36,
     "metadata": {},
     "output_type": "execute_result"
    }
   ],
   "source": [
    "negative_trip_distance_df['trip_distance'].count().sum()"
   ]
  },
  {
   "cell_type": "code",
   "execution_count": 37,
   "id": "6b37de9a",
   "metadata": {},
   "outputs": [
    {
     "data": {
      "text/plain": [
       "0"
      ]
     },
     "execution_count": 37,
     "metadata": {},
     "output_type": "execute_result"
    }
   ],
   "source": [
    "# Dropping values trip_distance < 0 \n",
    "taxi_filtered_df = taxi_filtered_df[taxi_filtered_df['trip_distance']>=0]\n",
    "# Checking that values are successfully dropped\n",
    "taxi_filtered_df[taxi_filtered_df['trip_distance']< 0].count().sum()"
   ]
  },
  {
   "cell_type": "code",
   "execution_count": 38,
   "id": "dbe4386d",
   "metadata": {},
   "outputs": [
    {
     "data": {
      "image/png": "[encoded data removed]",
      "text/plain": [
       "<Figure size 1000x200 with 1 Axes>"
      ]
     },
     "metadata": {},
     "output_type": "display_data"
    }
   ],
   "source": [
    "plt.figure(figsize=(10,2))\n",
    "sns.boxplot(x= taxi_filtered_df['trip_distance'])\n",
    "plt.title('Trip distance distribution')\n",
    "plt.show()"
   ]
  },
  {
   "cell_type": "code",
   "execution_count": 39,
   "id": "83c23aff",
   "metadata": {},
   "outputs": [
    {
     "data": {
      "text/plain": [
       "trip_distance\n",
       "0.00      117074\n",
       "0.01        6429\n",
       "0.02        4615\n",
       "0.03        3659\n",
       "0.04        2932\n",
       "           ...  \n",
       "241.64         1\n",
       "259.22         1\n",
       "262.88         1\n",
       "274.50         1\n",
       "369.94         1\n",
       "Name: trip_distance, Length: 4995, dtype: int64"
      ]
     },
     "execution_count": 39,
     "metadata": {},
     "output_type": "execute_result"
    }
   ],
   "source": [
    "taxi_filtered_df.groupby('trip_distance')['trip_distance'].count()"
   ]
  },
  {
   "cell_type": "markdown",
   "id": "7b10a9d5",
   "metadata": {},
   "source": [
    "We can observ that there are trip distances equal to zero o very near. As there are still some varibles we want to clean that can be connected with trip distance we are not going to do anything but after checking all the variables we will review the number and see if we need to put a threshold and drop some values. \n",
    "\n",
    "We have decided to take this decision as it may happen that some trips are cancelled but still charged to the customer for example and it's a really low amount of occurencies from all the data."
   ]
  },
  {
   "cell_type": "code",
   "execution_count": 44,
   "id": "a877d537",
   "metadata": {},
   "outputs": [
    {
     "name": "stdout",
     "output_type": "stream",
     "text": [
      "Percintile 25%:  0.96\n",
      "Percintile 75%:  2.89\n",
      "IQR:  1.93\n",
      "Upper limit:  5.785\n"
     ]
    }
   ],
   "source": [
    "# handling outliers (long distances)\n",
    "# We are going to handle outliers taking into consideration what is academically considered an outlier 1.5+-IQR.\n",
    "# We could have put a threshold but as data seems not official we prefer to go for an academic approach.\n",
    "\n",
    "\n",
    "# quantile 0.25\n",
    "percentile_25 = taxi_filtered_df['trip_distance'].quantile(0.25)\n",
    "print('Percintile 25%: ', percentile_25)\n",
    "\n",
    "# quantile 0.75\n",
    "percentile_75 = taxi_filtered_df['trip_distance'].quantile(0.75)\n",
    "print('Percintile 75%: ', percentile_75)\n",
    "\n",
    "# IQR \n",
    "iqr = round(percentile_75 - percentile_25, 2) \n",
    "print('IQR: ', iqr)\n",
    "\n",
    "# upper limit\n",
    "upper_limit = percentile_75 + 1.5 * iqr\n",
    "print('Upper limit: ', upper_limit)\n",
    "\n",
    "# defining outliers in taxi_filtered_df\n",
    "outliers = taxi_filtered_df[taxi_filtered_df['trip_distance']> upper_limit]\n"
   ]
  },
  {
   "cell_type": "markdown",
   "id": "8b51dc18",
   "metadata": {},
   "source": [
    "Knowing this values and having identified outliers it would be interesting to see how many of this\n",
    "outliers we do have in the data set. Pulling how many rows we can see the impact of this outliers."
   ]
  },
  {
   "cell_type": "code",
   "execution_count": 42,
   "id": "6b8350c5",
   "metadata": {},
   "outputs": [
    {
     "name": "stdout",
     "output_type": "stream",
     "text": [
      "# of rows with outliers in trip distance: 1282763\n",
      "\n",
      "% of outliers in trip distance against total: 11.06%\n"
     ]
    }
   ],
   "source": [
    "# pulling outliers rows\n",
    "print('# of rows with outliers in trip distance:', len(outliers))\n",
    "print()\n",
    "print(f'% of outliers in trip distance against total: {round(len(outliers)/len(taxi_filtered_df)*100, 2)}%')"
   ]
  },
  {
   "cell_type": "markdown",
   "id": "0196fc3e",
   "metadata": {},
   "source": [
    "Upper limit is 5.785 miles and that's what we are going to use even if it implies dropping 11% of the data. We want to predict how much the total amount will be depedending on different features and as the data is large that quantity of rows should not be a problem."
   ]
  },
  {
   "cell_type": "code",
   "execution_count": 45,
   "id": "13785a13",
   "metadata": {},
   "outputs": [],
   "source": [
    "taxi_filtered_df = taxi_filtered_df[taxi_filtered_df['trip_distance'] <= upper_limit]"
   ]
  },
  {
   "cell_type": "code",
   "execution_count": 46,
   "id": "a26c51bc",
   "metadata": {},
   "outputs": [
    {
     "data": {
      "text/html": [
       "<div>\n",
       "<style scoped>\n",
       "    .dataframe tbody tr th:only-of-type {\n",
       "        vertical-align: middle;\n",
       "    }\n",
       "\n",
       "    .dataframe tbody tr th {\n",
       "        vertical-align: top;\n",
       "    }\n",
       "\n",
       "    .dataframe thead th {\n",
       "        text-align: right;\n",
       "    }\n",
       "</style>\n",
       "<table border=\"1\" class=\"dataframe\">\n",
       "  <thead>\n",
       "    <tr style=\"text-align: right;\">\n",
       "      <th></th>\n",
       "      <th>tpep_pickup_datetime</th>\n",
       "      <th>tpep_dropoff_datetime</th>\n",
       "      <th>passenger_count</th>\n",
       "      <th>trip_distance</th>\n",
       "      <th>RatecodeID</th>\n",
       "      <th>PULocationID</th>\n",
       "      <th>DOLocationID</th>\n",
       "      <th>payment_type</th>\n",
       "      <th>fare_amount</th>\n",
       "      <th>extra</th>\n",
       "      <th>mta_tax</th>\n",
       "      <th>tip_amount</th>\n",
       "      <th>tolls_amount</th>\n",
       "      <th>improvement_surcharge</th>\n",
       "      <th>total_amount</th>\n",
       "      <th>congestion_surcharge</th>\n",
       "      <th>tpep_pickup_year</th>\n",
       "      <th>dif_pickup_dropoff_mins</th>\n",
       "    </tr>\n",
       "  </thead>\n",
       "  <tbody>\n",
       "    <tr>\n",
       "      <th>count</th>\n",
       "      <td>10320018</td>\n",
       "      <td>10320018</td>\n",
       "      <td>1.032002e+07</td>\n",
       "      <td>1.032002e+07</td>\n",
       "      <td>1.032002e+07</td>\n",
       "      <td>1.032002e+07</td>\n",
       "      <td>1.032002e+07</td>\n",
       "      <td>1.032002e+07</td>\n",
       "      <td>1.032002e+07</td>\n",
       "      <td>1.032002e+07</td>\n",
       "      <td>1.032002e+07</td>\n",
       "      <td>1.032002e+07</td>\n",
       "      <td>1.032002e+07</td>\n",
       "      <td>1.032002e+07</td>\n",
       "      <td>1.032002e+07</td>\n",
       "      <td>1.032002e+07</td>\n",
       "      <td>10320018.0</td>\n",
       "      <td>1.032002e+07</td>\n",
       "    </tr>\n",
       "    <tr>\n",
       "      <th>mean</th>\n",
       "      <td>2020-01-30 02:10:51.116020992</td>\n",
       "      <td>2020-01-30 02:24:21.002189056</td>\n",
       "      <td>1.537818e+00</td>\n",
       "      <td>1.743716e+00</td>\n",
       "      <td>1.027067e+00</td>\n",
       "      <td>1.669801e+02</td>\n",
       "      <td>1.654240e+02</td>\n",
       "      <td>1.263886e+00</td>\n",
       "      <td>9.562894e+00</td>\n",
       "      <td>1.075104e+00</td>\n",
       "      <td>4.948194e-01</td>\n",
       "      <td>1.797637e+00</td>\n",
       "      <td>2.973793e-02</td>\n",
       "      <td>2.978415e-01</td>\n",
       "      <td>1.486134e+01</td>\n",
       "      <td>2.354250e+00</td>\n",
       "      <td>2020.0</td>\n",
       "      <td>1.349810e+01</td>\n",
       "    </tr>\n",
       "    <tr>\n",
       "      <th>min</th>\n",
       "      <td>2020-01-01 00:00:00</td>\n",
       "      <td>2020-01-01 00:01:17</td>\n",
       "      <td>1.000000e+00</td>\n",
       "      <td>0.000000e+00</td>\n",
       "      <td>1.000000e+00</td>\n",
       "      <td>1.000000e+00</td>\n",
       "      <td>1.000000e+00</td>\n",
       "      <td>1.000000e+00</td>\n",
       "      <td>-7.500000e+02</td>\n",
       "      <td>-2.700000e+01</td>\n",
       "      <td>-5.000000e-01</td>\n",
       "      <td>-9.300000e+01</td>\n",
       "      <td>-3.574000e+01</td>\n",
       "      <td>-3.000000e-01</td>\n",
       "      <td>-7.503000e+02</td>\n",
       "      <td>-2.500000e+00</td>\n",
       "      <td>2020.0</td>\n",
       "      <td>-2.860967e+03</td>\n",
       "    </tr>\n",
       "    <tr>\n",
       "      <th>25%</th>\n",
       "      <td>2020-01-16 09:15:53</td>\n",
       "      <td>2020-01-16 09:31:24.249999872</td>\n",
       "      <td>1.000000e+00</td>\n",
       "      <td>9.000000e-01</td>\n",
       "      <td>1.000000e+00</td>\n",
       "      <td>1.250000e+02</td>\n",
       "      <td>1.140000e+02</td>\n",
       "      <td>1.000000e+00</td>\n",
       "      <td>6.000000e+00</td>\n",
       "      <td>0.000000e+00</td>\n",
       "      <td>5.000000e-01</td>\n",
       "      <td>0.000000e+00</td>\n",
       "      <td>0.000000e+00</td>\n",
       "      <td>3.000000e-01</td>\n",
       "      <td>1.080000e+01</td>\n",
       "      <td>2.500000e+00</td>\n",
       "      <td>2020.0</td>\n",
       "      <td>6.016667e+00</td>\n",
       "    </tr>\n",
       "    <tr>\n",
       "      <th>50%</th>\n",
       "      <td>2020-01-30 10:16:13</td>\n",
       "      <td>2020-01-30 10:31:23</td>\n",
       "      <td>1.000000e+00</td>\n",
       "      <td>1.420000e+00</td>\n",
       "      <td>1.000000e+00</td>\n",
       "      <td>1.630000e+02</td>\n",
       "      <td>1.630000e+02</td>\n",
       "      <td>1.000000e+00</td>\n",
       "      <td>8.500000e+00</td>\n",
       "      <td>5.000000e-01</td>\n",
       "      <td>5.000000e-01</td>\n",
       "      <td>1.860000e+00</td>\n",
       "      <td>0.000000e+00</td>\n",
       "      <td>3.000000e-01</td>\n",
       "      <td>1.356000e+01</td>\n",
       "      <td>2.500000e+00</td>\n",
       "      <td>2020.0</td>\n",
       "      <td>9.566667e+00</td>\n",
       "    </tr>\n",
       "    <tr>\n",
       "      <th>75%</th>\n",
       "      <td>2020-02-12 18:43:23.750000128</td>\n",
       "      <td>2020-02-12 18:56:42</td>\n",
       "      <td>2.000000e+00</td>\n",
       "      <td>2.300000e+00</td>\n",
       "      <td>1.000000e+00</td>\n",
       "      <td>2.340000e+02</td>\n",
       "      <td>2.340000e+02</td>\n",
       "      <td>2.000000e+00</td>\n",
       "      <td>1.150000e+01</td>\n",
       "      <td>2.500000e+00</td>\n",
       "      <td>5.000000e-01</td>\n",
       "      <td>2.660000e+00</td>\n",
       "      <td>0.000000e+00</td>\n",
       "      <td>3.000000e-01</td>\n",
       "      <td>1.730000e+01</td>\n",
       "      <td>2.500000e+00</td>\n",
       "      <td>2020.0</td>\n",
       "      <td>1.440000e+01</td>\n",
       "    </tr>\n",
       "    <tr>\n",
       "      <th>max</th>\n",
       "      <td>2020-07-31 18:50:41</td>\n",
       "      <td>2020-07-31 18:54:12</td>\n",
       "      <td>9.000000e+00</td>\n",
       "      <td>5.780000e+00</td>\n",
       "      <td>9.900000e+01</td>\n",
       "      <td>2.650000e+02</td>\n",
       "      <td>2.650000e+02</td>\n",
       "      <td>5.000000e+00</td>\n",
       "      <td>4.265000e+03</td>\n",
       "      <td>1.130100e+02</td>\n",
       "      <td>3.951000e+01</td>\n",
       "      <td>1.100000e+03</td>\n",
       "      <td>9.255000e+02</td>\n",
       "      <td>3.000000e-01</td>\n",
       "      <td>4.268300e+03</td>\n",
       "      <td>2.750000e+00</td>\n",
       "      <td>2020.0</td>\n",
       "      <td>8.525117e+03</td>\n",
       "    </tr>\n",
       "    <tr>\n",
       "      <th>std</th>\n",
       "      <td>NaN</td>\n",
       "      <td>NaN</td>\n",
       "      <td>1.140253e+00</td>\n",
       "      <td>1.169619e+00</td>\n",
       "      <td>7.020182e-01</td>\n",
       "      <td>6.612715e+01</td>\n",
       "      <td>6.869151e+01</td>\n",
       "      <td>4.695245e-01</td>\n",
       "      <td>6.741937e+00</td>\n",
       "      <td>1.221553e+00</td>\n",
       "      <td>6.672115e-02</td>\n",
       "      <td>1.829724e+00</td>\n",
       "      <td>7.312288e-01</td>\n",
       "      <td>3.511367e-02</td>\n",
       "      <td>7.840977e+00</td>\n",
       "      <td>6.137729e-01</td>\n",
       "      <td>0.0</td>\n",
       "      <td>6.059831e+01</td>\n",
       "    </tr>\n",
       "  </tbody>\n",
       "</table>\n",
       "</div>"
      ],
      "text/plain": [
       "                tpep_pickup_datetime          tpep_dropoff_datetime  \\\n",
       "count                       10320018                       10320018   \n",
       "mean   2020-01-30 02:10:51.116020992  2020-01-30 02:24:21.002189056   \n",
       "min              2020-01-01 00:00:00            2020-01-01 00:01:17   \n",
       "25%              2020-01-16 09:15:53  2020-01-16 09:31:24.249999872   \n",
       "50%              2020-01-30 10:16:13            2020-01-30 10:31:23   \n",
       "75%    2020-02-12 18:43:23.750000128            2020-02-12 18:56:42   \n",
       "max              2020-07-31 18:50:41            2020-07-31 18:54:12   \n",
       "std                              NaN                            NaN   \n",
       "\n",
       "       passenger_count  trip_distance    RatecodeID  PULocationID  \\\n",
       "count     1.032002e+07   1.032002e+07  1.032002e+07  1.032002e+07   \n",
       "mean      1.537818e+00   1.743716e+00  1.027067e+00  1.669801e+02   \n",
       "min       1.000000e+00   0.000000e+00  1.000000e+00  1.000000e+00   \n",
       "25%       1.000000e+00   9.000000e-01  1.000000e+00  1.250000e+02   \n",
       "50%       1.000000e+00   1.420000e+00  1.000000e+00  1.630000e+02   \n",
       "75%       2.000000e+00   2.300000e+00  1.000000e+00  2.340000e+02   \n",
       "max       9.000000e+00   5.780000e+00  9.900000e+01  2.650000e+02   \n",
       "std       1.140253e+00   1.169619e+00  7.020182e-01  6.612715e+01   \n",
       "\n",
       "       DOLocationID  payment_type   fare_amount         extra       mta_tax  \\\n",
       "count  1.032002e+07  1.032002e+07  1.032002e+07  1.032002e+07  1.032002e+07   \n",
       "mean   1.654240e+02  1.263886e+00  9.562894e+00  1.075104e+00  4.948194e-01   \n",
       "min    1.000000e+00  1.000000e+00 -7.500000e+02 -2.700000e+01 -5.000000e-01   \n",
       "25%    1.140000e+02  1.000000e+00  6.000000e+00  0.000000e+00  5.000000e-01   \n",
       "50%    1.630000e+02  1.000000e+00  8.500000e+00  5.000000e-01  5.000000e-01   \n",
       "75%    2.340000e+02  2.000000e+00  1.150000e+01  2.500000e+00  5.000000e-01   \n",
       "max    2.650000e+02  5.000000e+00  4.265000e+03  1.130100e+02  3.951000e+01   \n",
       "std    6.869151e+01  4.695245e-01  6.741937e+00  1.221553e+00  6.672115e-02   \n",
       "\n",
       "         tip_amount  tolls_amount  improvement_surcharge  total_amount  \\\n",
       "count  1.032002e+07  1.032002e+07           1.032002e+07  1.032002e+07   \n",
       "mean   1.797637e+00  2.973793e-02           2.978415e-01  1.486134e+01   \n",
       "min   -9.300000e+01 -3.574000e+01          -3.000000e-01 -7.503000e+02   \n",
       "25%    0.000000e+00  0.000000e+00           3.000000e-01  1.080000e+01   \n",
       "50%    1.860000e+00  0.000000e+00           3.000000e-01  1.356000e+01   \n",
       "75%    2.660000e+00  0.000000e+00           3.000000e-01  1.730000e+01   \n",
       "max    1.100000e+03  9.255000e+02           3.000000e-01  4.268300e+03   \n",
       "std    1.829724e+00  7.312288e-01           3.511367e-02  7.840977e+00   \n",
       "\n",
       "       congestion_surcharge  tpep_pickup_year  dif_pickup_dropoff_mins  \n",
       "count          1.032002e+07        10320018.0             1.032002e+07  \n",
       "mean           2.354250e+00            2020.0             1.349810e+01  \n",
       "min           -2.500000e+00            2020.0            -2.860967e+03  \n",
       "25%            2.500000e+00            2020.0             6.016667e+00  \n",
       "50%            2.500000e+00            2020.0             9.566667e+00  \n",
       "75%            2.500000e+00            2020.0             1.440000e+01  \n",
       "max            2.750000e+00            2020.0             8.525117e+03  \n",
       "std            6.137729e-01               0.0             6.059831e+01  "
      ]
     },
     "execution_count": 46,
     "metadata": {},
     "output_type": "execute_result"
    }
   ],
   "source": [
    "taxi_filtered_df.describe()"
   ]
  },
  {
   "cell_type": "markdown",
   "id": "75aa8325",
   "metadata": {},
   "source": [
    "After cleaning the data from trip distance we have all the features related to the amount charge to the customers. All of them from fare amount to total amount have negative values. \n",
    "\n",
    "Those numbers does not make sense also so we are going to dropp them from the dataframe. To begin with, we will drop total amount negative values as it is the total and it is connected to the others."
   ]
  },
  {
   "cell_type": "code",
   "execution_count": 49,
   "id": "a12c59f0",
   "metadata": {},
   "outputs": [
    {
     "data": {
      "text/plain": [
       "total_amount\n",
       "-8.30      2402\n",
       "-7.80      2281\n",
       "-8.80      2244\n",
       "-6.80      2128\n",
       "-7.30      2052\n",
       "           ... \n",
       "-17.28        1\n",
       "-214.30       1\n",
       "-38.90        1\n",
       "-49.60        1\n",
       "-50.74        1\n",
       "Name: count, Length: 551, dtype: int64"
      ]
     },
     "execution_count": 49,
     "metadata": {},
     "output_type": "execute_result"
    }
   ],
   "source": [
    "# Checking what are the negative values\n",
    "taxi_filtered_df[taxi_filtered_df['total_amount']<0]['total_amount'].value_counts()"
   ]
  },
  {
   "cell_type": "code",
   "execution_count": 50,
   "id": "4be4892f",
   "metadata": {},
   "outputs": [
    {
     "data": {
      "text/plain": [
       "33839"
      ]
     },
     "execution_count": 50,
     "metadata": {},
     "output_type": "execute_result"
    }
   ],
   "source": [
    "# Checking how  many rows\n",
    "taxi_filtered_df[taxi_filtered_df['total_amount']<0]['total_amount'].count().sum()"
   ]
  },
  {
   "cell_type": "code",
   "execution_count": 51,
   "id": "5442ab05",
   "metadata": {},
   "outputs": [],
   "source": [
    "taxi_filtered_df = taxi_filtered_df[taxi_filtered_df['total_amount']>=0]"
   ]
  },
  {
   "cell_type": "code",
   "execution_count": 54,
   "id": "15e83a8e",
   "metadata": {},
   "outputs": [
    {
     "data": {
      "text/plain": [
       "3"
      ]
     },
     "execution_count": 54,
     "metadata": {},
     "output_type": "execute_result"
    }
   ],
   "source": [
    "taxi_filtered_df[taxi_filtered_df['fare_amount']<0]['fare_amount'].count().sum()"
   ]
  },
  {
   "cell_type": "code",
   "execution_count": 55,
   "id": "9eb780bc",
   "metadata": {},
   "outputs": [],
   "source": [
    "taxi_filtered_df = taxi_filtered_df[taxi_filtered_df['fare_amount']>=0]"
   ]
  },
  {
   "cell_type": "code",
   "execution_count": 57,
   "id": "ddf4d6ce",
   "metadata": {},
   "outputs": [
    {
     "data": {
      "text/plain": [
       "3"
      ]
     },
     "execution_count": 57,
     "metadata": {},
     "output_type": "execute_result"
    }
   ],
   "source": [
    "taxi_filtered_df[taxi_filtered_df['extra']<0]['extra'].count().sum()"
   ]
  },
  {
   "cell_type": "code",
   "execution_count": 58,
   "id": "9c3962c1",
   "metadata": {},
   "outputs": [],
   "source": [
    "taxi_filtered_df = taxi_filtered_df[taxi_filtered_df['extra']>=0]"
   ]
  },
  {
   "cell_type": "code",
   "execution_count": 60,
   "id": "5546ec16",
   "metadata": {},
   "outputs": [
    {
     "data": {
      "text/plain": [
       "1"
      ]
     },
     "execution_count": 60,
     "metadata": {},
     "output_type": "execute_result"
    }
   ],
   "source": [
    "taxi_filtered_df[taxi_filtered_df['tolls_amount']<0]['tolls_amount'].count().sum()"
   ]
  },
  {
   "cell_type": "code",
   "execution_count": 61,
   "id": "9c7d6295",
   "metadata": {},
   "outputs": [],
   "source": [
    "taxi_filtered_df = taxi_filtered_df[taxi_filtered_df['tolls_amount']>=0]"
   ]
  },
  {
   "cell_type": "code",
   "execution_count": 62,
   "id": "234d9e2b",
   "metadata": {},
   "outputs": [
    {
     "data": {
      "text/html": [
       "<div>\n",
       "<style scoped>\n",
       "    .dataframe tbody tr th:only-of-type {\n",
       "        vertical-align: middle;\n",
       "    }\n",
       "\n",
       "    .dataframe tbody tr th {\n",
       "        vertical-align: top;\n",
       "    }\n",
       "\n",
       "    .dataframe thead th {\n",
       "        text-align: right;\n",
       "    }\n",
       "</style>\n",
       "<table border=\"1\" class=\"dataframe\">\n",
       "  <thead>\n",
       "    <tr style=\"text-align: right;\">\n",
       "      <th></th>\n",
       "      <th>tpep_pickup_datetime</th>\n",
       "      <th>tpep_dropoff_datetime</th>\n",
       "      <th>passenger_count</th>\n",
       "      <th>trip_distance</th>\n",
       "      <th>RatecodeID</th>\n",
       "      <th>PULocationID</th>\n",
       "      <th>DOLocationID</th>\n",
       "      <th>payment_type</th>\n",
       "      <th>fare_amount</th>\n",
       "      <th>extra</th>\n",
       "      <th>mta_tax</th>\n",
       "      <th>tip_amount</th>\n",
       "      <th>tolls_amount</th>\n",
       "      <th>improvement_surcharge</th>\n",
       "      <th>total_amount</th>\n",
       "      <th>congestion_surcharge</th>\n",
       "      <th>tpep_pickup_year</th>\n",
       "      <th>dif_pickup_dropoff_mins</th>\n",
       "    </tr>\n",
       "  </thead>\n",
       "  <tbody>\n",
       "    <tr>\n",
       "      <th>count</th>\n",
       "      <td>10286172</td>\n",
       "      <td>10286172</td>\n",
       "      <td>1.028617e+07</td>\n",
       "      <td>1.028617e+07</td>\n",
       "      <td>1.028617e+07</td>\n",
       "      <td>1.028617e+07</td>\n",
       "      <td>1.028617e+07</td>\n",
       "      <td>1.028617e+07</td>\n",
       "      <td>1.028617e+07</td>\n",
       "      <td>1.028617e+07</td>\n",
       "      <td>1.028617e+07</td>\n",
       "      <td>1.028617e+07</td>\n",
       "      <td>1.028617e+07</td>\n",
       "      <td>1.028617e+07</td>\n",
       "      <td>1.028617e+07</td>\n",
       "      <td>1.028617e+07</td>\n",
       "      <td>10286172.0</td>\n",
       "      <td>1.028617e+07</td>\n",
       "    </tr>\n",
       "    <tr>\n",
       "      <th>mean</th>\n",
       "      <td>2020-01-30 02:10:20.175095552</td>\n",
       "      <td>2020-01-30 02:23:51.044186624</td>\n",
       "      <td>1.538071e+00</td>\n",
       "      <td>1.746383e+00</td>\n",
       "      <td>1.026634e+00</td>\n",
       "      <td>1.669937e+02</td>\n",
       "      <td>1.654343e+02</td>\n",
       "      <td>1.257253e+00</td>\n",
       "      <td>9.627847e+00</td>\n",
       "      <td>1.079821e+00</td>\n",
       "      <td>4.980517e-01</td>\n",
       "      <td>1.803526e+00</td>\n",
       "      <td>2.995886e-02</td>\n",
       "      <td>2.998082e-01</td>\n",
       "      <td>1.495434e+01</td>\n",
       "      <td>2.368737e+00</td>\n",
       "      <td>2020.0</td>\n",
       "      <td>1.351448e+01</td>\n",
       "    </tr>\n",
       "    <tr>\n",
       "      <th>min</th>\n",
       "      <td>2020-01-01 00:00:00</td>\n",
       "      <td>2020-01-01 00:01:17</td>\n",
       "      <td>1.000000e+00</td>\n",
       "      <td>0.000000e+00</td>\n",
       "      <td>1.000000e+00</td>\n",
       "      <td>1.000000e+00</td>\n",
       "      <td>1.000000e+00</td>\n",
       "      <td>1.000000e+00</td>\n",
       "      <td>0.000000e+00</td>\n",
       "      <td>0.000000e+00</td>\n",
       "      <td>0.000000e+00</td>\n",
       "      <td>0.000000e+00</td>\n",
       "      <td>0.000000e+00</td>\n",
       "      <td>0.000000e+00</td>\n",
       "      <td>0.000000e+00</td>\n",
       "      <td>0.000000e+00</td>\n",
       "      <td>2020.0</td>\n",
       "      <td>-2.860967e+03</td>\n",
       "    </tr>\n",
       "    <tr>\n",
       "      <th>25%</th>\n",
       "      <td>2020-01-16 09:15:16</td>\n",
       "      <td>2020-01-16 09:30:34</td>\n",
       "      <td>1.000000e+00</td>\n",
       "      <td>9.000000e-01</td>\n",
       "      <td>1.000000e+00</td>\n",
       "      <td>1.250000e+02</td>\n",
       "      <td>1.140000e+02</td>\n",
       "      <td>1.000000e+00</td>\n",
       "      <td>6.000000e+00</td>\n",
       "      <td>0.000000e+00</td>\n",
       "      <td>5.000000e-01</td>\n",
       "      <td>0.000000e+00</td>\n",
       "      <td>0.000000e+00</td>\n",
       "      <td>3.000000e-01</td>\n",
       "      <td>1.080000e+01</td>\n",
       "      <td>2.500000e+00</td>\n",
       "      <td>2020.0</td>\n",
       "      <td>6.033333e+00</td>\n",
       "    </tr>\n",
       "    <tr>\n",
       "      <th>50%</th>\n",
       "      <td>2020-01-30 10:15:01</td>\n",
       "      <td>2020-01-30 10:30:20</td>\n",
       "      <td>1.000000e+00</td>\n",
       "      <td>1.420000e+00</td>\n",
       "      <td>1.000000e+00</td>\n",
       "      <td>1.630000e+02</td>\n",
       "      <td>1.630000e+02</td>\n",
       "      <td>1.000000e+00</td>\n",
       "      <td>8.500000e+00</td>\n",
       "      <td>5.000000e-01</td>\n",
       "      <td>5.000000e-01</td>\n",
       "      <td>1.860000e+00</td>\n",
       "      <td>0.000000e+00</td>\n",
       "      <td>3.000000e-01</td>\n",
       "      <td>1.356000e+01</td>\n",
       "      <td>2.500000e+00</td>\n",
       "      <td>2020.0</td>\n",
       "      <td>9.583333e+00</td>\n",
       "    </tr>\n",
       "    <tr>\n",
       "      <th>75%</th>\n",
       "      <td>2020-02-12 18:42:00</td>\n",
       "      <td>2020-02-12 18:55:09</td>\n",
       "      <td>2.000000e+00</td>\n",
       "      <td>2.300000e+00</td>\n",
       "      <td>1.000000e+00</td>\n",
       "      <td>2.340000e+02</td>\n",
       "      <td>2.340000e+02</td>\n",
       "      <td>2.000000e+00</td>\n",
       "      <td>1.150000e+01</td>\n",
       "      <td>2.500000e+00</td>\n",
       "      <td>5.000000e-01</td>\n",
       "      <td>2.660000e+00</td>\n",
       "      <td>0.000000e+00</td>\n",
       "      <td>3.000000e-01</td>\n",
       "      <td>1.730000e+01</td>\n",
       "      <td>2.500000e+00</td>\n",
       "      <td>2020.0</td>\n",
       "      <td>1.441667e+01</td>\n",
       "    </tr>\n",
       "    <tr>\n",
       "      <th>max</th>\n",
       "      <td>2020-07-31 18:50:41</td>\n",
       "      <td>2020-07-31 18:54:12</td>\n",
       "      <td>9.000000e+00</td>\n",
       "      <td>5.780000e+00</td>\n",
       "      <td>9.900000e+01</td>\n",
       "      <td>2.650000e+02</td>\n",
       "      <td>2.650000e+02</td>\n",
       "      <td>5.000000e+00</td>\n",
       "      <td>4.265000e+03</td>\n",
       "      <td>1.130100e+02</td>\n",
       "      <td>3.951000e+01</td>\n",
       "      <td>1.100000e+03</td>\n",
       "      <td>9.255000e+02</td>\n",
       "      <td>3.000000e-01</td>\n",
       "      <td>4.268300e+03</td>\n",
       "      <td>2.750000e+00</td>\n",
       "      <td>2020.0</td>\n",
       "      <td>8.525117e+03</td>\n",
       "    </tr>\n",
       "    <tr>\n",
       "      <th>std</th>\n",
       "      <td>NaN</td>\n",
       "      <td>NaN</td>\n",
       "      <td>1.140657e+00</td>\n",
       "      <td>1.168710e+00</td>\n",
       "      <td>7.015932e-01</td>\n",
       "      <td>6.612391e+01</td>\n",
       "      <td>6.868860e+01</td>\n",
       "      <td>4.538067e-01</td>\n",
       "      <td>6.521068e+00</td>\n",
       "      <td>1.220316e+00</td>\n",
       "      <td>3.358274e-02</td>\n",
       "      <td>1.828900e+00</td>\n",
       "      <td>7.316718e-01</td>\n",
       "      <td>7.583495e-03</td>\n",
       "      <td>7.565987e+00</td>\n",
       "      <td>5.576027e-01</td>\n",
       "      <td>0.0</td>\n",
       "      <td>6.059891e+01</td>\n",
       "    </tr>\n",
       "  </tbody>\n",
       "</table>\n",
       "</div>"
      ],
      "text/plain": [
       "                tpep_pickup_datetime          tpep_dropoff_datetime  \\\n",
       "count                       10286172                       10286172   \n",
       "mean   2020-01-30 02:10:20.175095552  2020-01-30 02:23:51.044186624   \n",
       "min              2020-01-01 00:00:00            2020-01-01 00:01:17   \n",
       "25%              2020-01-16 09:15:16            2020-01-16 09:30:34   \n",
       "50%              2020-01-30 10:15:01            2020-01-30 10:30:20   \n",
       "75%              2020-02-12 18:42:00            2020-02-12 18:55:09   \n",
       "max              2020-07-31 18:50:41            2020-07-31 18:54:12   \n",
       "std                              NaN                            NaN   \n",
       "\n",
       "       passenger_count  trip_distance    RatecodeID  PULocationID  \\\n",
       "count     1.028617e+07   1.028617e+07  1.028617e+07  1.028617e+07   \n",
       "mean      1.538071e+00   1.746383e+00  1.026634e+00  1.669937e+02   \n",
       "min       1.000000e+00   0.000000e+00  1.000000e+00  1.000000e+00   \n",
       "25%       1.000000e+00   9.000000e-01  1.000000e+00  1.250000e+02   \n",
       "50%       1.000000e+00   1.420000e+00  1.000000e+00  1.630000e+02   \n",
       "75%       2.000000e+00   2.300000e+00  1.000000e+00  2.340000e+02   \n",
       "max       9.000000e+00   5.780000e+00  9.900000e+01  2.650000e+02   \n",
       "std       1.140657e+00   1.168710e+00  7.015932e-01  6.612391e+01   \n",
       "\n",
       "       DOLocationID  payment_type   fare_amount         extra       mta_tax  \\\n",
       "count  1.028617e+07  1.028617e+07  1.028617e+07  1.028617e+07  1.028617e+07   \n",
       "mean   1.654343e+02  1.257253e+00  9.627847e+00  1.079821e+00  4.980517e-01   \n",
       "min    1.000000e+00  1.000000e+00  0.000000e+00  0.000000e+00  0.000000e+00   \n",
       "25%    1.140000e+02  1.000000e+00  6.000000e+00  0.000000e+00  5.000000e-01   \n",
       "50%    1.630000e+02  1.000000e+00  8.500000e+00  5.000000e-01  5.000000e-01   \n",
       "75%    2.340000e+02  2.000000e+00  1.150000e+01  2.500000e+00  5.000000e-01   \n",
       "max    2.650000e+02  5.000000e+00  4.265000e+03  1.130100e+02  3.951000e+01   \n",
       "std    6.868860e+01  4.538067e-01  6.521068e+00  1.220316e+00  3.358274e-02   \n",
       "\n",
       "         tip_amount  tolls_amount  improvement_surcharge  total_amount  \\\n",
       "count  1.028617e+07  1.028617e+07           1.028617e+07  1.028617e+07   \n",
       "mean   1.803526e+00  2.995886e-02           2.998082e-01  1.495434e+01   \n",
       "min    0.000000e+00  0.000000e+00           0.000000e+00  0.000000e+00   \n",
       "25%    0.000000e+00  0.000000e+00           3.000000e-01  1.080000e+01   \n",
       "50%    1.860000e+00  0.000000e+00           3.000000e-01  1.356000e+01   \n",
       "75%    2.660000e+00  0.000000e+00           3.000000e-01  1.730000e+01   \n",
       "max    1.100000e+03  9.255000e+02           3.000000e-01  4.268300e+03   \n",
       "std    1.828900e+00  7.316718e-01           7.583495e-03  7.565987e+00   \n",
       "\n",
       "       congestion_surcharge  tpep_pickup_year  dif_pickup_dropoff_mins  \n",
       "count          1.028617e+07        10286172.0             1.028617e+07  \n",
       "mean           2.368737e+00            2020.0             1.351448e+01  \n",
       "min            0.000000e+00            2020.0            -2.860967e+03  \n",
       "25%            2.500000e+00            2020.0             6.033333e+00  \n",
       "50%            2.500000e+00            2020.0             9.583333e+00  \n",
       "75%            2.500000e+00            2020.0             1.441667e+01  \n",
       "max            2.750000e+00            2020.0             8.525117e+03  \n",
       "std            5.576027e-01               0.0             6.059891e+01  "
      ]
     },
     "execution_count": 62,
     "metadata": {},
     "output_type": "execute_result"
    }
   ],
   "source": [
    "taxi_filtered_df.describe()"
   ]
  },
  {
   "cell_type": "code",
   "execution_count": 75,
   "id": "5454afc6",
   "metadata": {},
   "outputs": [
    {
     "name": "stdout",
     "output_type": "stream",
     "text": [
      "Min fare amount : 0.0\n",
      "Max fare amount : 4265.0\n",
      "\n",
      "Min extra : 0.0\n",
      "Max extra : 113.01\n",
      "\n",
      "Min mta tax : 0.0\n",
      "Max mta tax : 39.51\n",
      "\n",
      "Min tip amount : 0.0\n",
      "Max tip amount : 1100.0\n",
      "\n",
      "Min tolls amount : 0.0\n",
      "Max tolls amount : 925.5\n",
      "\n",
      "Min total amount : 0.0\n",
      "Max total amount : 4268.3\n",
      "\n"
     ]
    }
   ],
   "source": [
    "print('Min fare amount :' , taxi_filtered_df['fare_amount'].min())\n",
    "print('Max fare amount :' , taxi_filtered_df['fare_amount'].max())\n",
    "print()\n",
    "print('Min extra :' , taxi_filtered_df['extra'].min())\n",
    "print('Max extra :' ,taxi_filtered_df['extra'].max())\n",
    "print()\n",
    "print('Min mta tax :' , taxi_filtered_df['mta_tax'].min())\n",
    "print('Max mta tax :' ,taxi_filtered_df['mta_tax'].max())\n",
    "print()\n",
    "print('Min tip amount :' , taxi_filtered_df['tip_amount'].min())\n",
    "print('Max tip amount :' ,taxi_filtered_df['tip_amount'].max())\n",
    "print()\n",
    "print('Min tolls amount :' , taxi_filtered_df['tolls_amount'].min())\n",
    "print('Max tolls amount :' ,taxi_filtered_df['tolls_amount'].max())\n",
    "print()\n",
    "print('Min total amount :' , taxi_filtered_df['total_amount'].min())\n",
    "print('Max total amount :' ,taxi_filtered_df['total_amount'].max())\n",
    "print()"
   ]
  },
  {
   "cell_type": "markdown",
   "id": "704e61b8",
   "metadata": {},
   "source": [
    "In order to decide what to do with the outliers, we are going to visualize the distribution."
   ]
  },
  {
   "cell_type": "code",
   "execution_count": 99,
   "id": "8818395b",
   "metadata": {},
   "outputs": [
    {
     "data": {
      "image/png": "[encoded data removed]",
      "text/plain": [
       "<Figure size 1000x200 with 1 Axes>"
      ]
     },
     "metadata": {},
     "output_type": "display_data"
    }
   ],
   "source": [
    "plt.figure(figsize=(10,2))\n",
    "sns.boxplot(x= taxi_filtered_df['fare_amount'])\n",
    "plt.title('Fare amount distribution')\n",
    "plt.show()"
   ]
  },
  {
   "cell_type": "code",
   "execution_count": 103,
   "id": "86f01b31",
   "metadata": {
    "scrolled": true
   },
   "outputs": [
    {
     "data": {
      "image/png": "[encoded data removed]",
      "text/plain": [
       "<Figure size 1000x200 with 1 Axes>"
      ]
     },
     "metadata": {},
     "output_type": "display_data"
    }
   ],
   "source": [
    "plt.figure(figsize=(10,2))\n",
    "plt.hist(taxi_filtered_df['fare_amount'], bins=range(0,75))\n",
    "plt.title('Fare amount distribution')\n",
    "plt.show()"
   ]
  },
  {
   "cell_type": "code",
   "execution_count": 104,
   "id": "947624b8",
   "metadata": {},
   "outputs": [
    {
     "data": {
      "image/png": "[encoded data removed]",
      "text/plain": [
       "<Figure size 1000x200 with 1 Axes>"
      ]
     },
     "metadata": {},
     "output_type": "display_data"
    }
   ],
   "source": [
    "plt.figure(figsize=(10,2))\n",
    "sns.boxplot(x= taxi_filtered_df['tip_amount'])\n",
    "plt.title('Tip amount distribution')\n",
    "plt.show()"
   ]
  },
  {
   "cell_type": "code",
   "execution_count": 116,
   "id": "9c25baa7",
   "metadata": {},
   "outputs": [
    {
     "data": {
      "image/png": "[encoded data removed]",
      "text/plain": [
       "<Figure size 1000x200 with 1 Axes>"
      ]
     },
     "metadata": {},
     "output_type": "display_data"
    }
   ],
   "source": [
    "plt.figure(figsize=(10,2))\n",
    "plt.hist(taxi_filtered_df['tip_amount'], bins=range(0,15))\n",
    "plt.title('Tip amount distribution')\n",
    "plt.show()"
   ]
  },
  {
   "cell_type": "code",
   "execution_count": 117,
   "id": "473687c1",
   "metadata": {},
   "outputs": [
    {
     "data": {
      "image/png": "[encoded data removed]",
      "text/plain": [
       "<Figure size 1000x200 with 1 Axes>"
      ]
     },
     "metadata": {},
     "output_type": "display_data"
    }
   ],
   "source": [
    "plt.figure(figsize=(10,2))\n",
    "sns.boxplot(x= taxi_filtered_df['tolls_amount'])\n",
    "plt.title('Tolls amount distribution')\n",
    "plt.show()"
   ]
  },
  {
   "cell_type": "code",
   "execution_count": 122,
   "id": "b8d5c4da",
   "metadata": {},
   "outputs": [
    {
     "data": {
      "image/png": "[encoded data removed]",
      "text/plain": [
       "<Figure size 1000x200 with 1 Axes>"
      ]
     },
     "metadata": {},
     "output_type": "display_data"
    }
   ],
   "source": [
    "plt.figure(figsize=(10,2))\n",
    "plt.hist(taxi_filtered_df['tolls_amount'], bins=range(0,15))\n",
    "plt.title('Tolls amount distribution')\n",
    "plt.show()"
   ]
  },
  {
   "cell_type": "code",
   "execution_count": 101,
   "id": "199bb0c6",
   "metadata": {},
   "outputs": [
    {
     "data": {
      "image/png": "[encoded data removed]",
      "text/plain": [
       "<Figure size 1000x200 with 1 Axes>"
      ]
     },
     "metadata": {},
     "output_type": "display_data"
    }
   ],
   "source": [
    "plt.figure(figsize=(10,2))\n",
    "sns.boxplot(x= taxi_filtered_df['extra'])\n",
    "plt.title('Extra distribution')\n",
    "plt.show()"
   ]
  },
  {
   "cell_type": "code",
   "execution_count": 125,
   "id": "1036b3bb",
   "metadata": {},
   "outputs": [
    {
     "data": {
      "image/png": "[encoded data removed]",
      "text/plain": [
       "<Figure size 1000x200 with 1 Axes>"
      ]
     },
     "metadata": {},
     "output_type": "display_data"
    }
   ],
   "source": [
    "plt.figure(figsize=(10,2))\n",
    "plt.hist(taxi_filtered_df['extra'], bins=range(0,20))\n",
    "plt.title('Extra distribution')\n",
    "plt.show()"
   ]
  },
  {
   "cell_type": "code",
   "execution_count": 76,
   "id": "62cda7ad",
   "metadata": {},
   "outputs": [
    {
     "data": {
      "image/png": "[encoded data removed]",
      "text/plain": [
       "<Figure size 1000x200 with 1 Axes>"
      ]
     },
     "metadata": {},
     "output_type": "display_data"
    }
   ],
   "source": [
    "plt.figure(figsize=(10,2))\n",
    "sns.boxplot(x= taxi_filtered_df['total_amount'])\n",
    "plt.title('Total amount distribution')\n",
    "plt.show()"
   ]
  },
  {
   "cell_type": "code",
   "execution_count": 133,
   "id": "87412a2c",
   "metadata": {},
   "outputs": [
    {
     "data": {
      "image/png": "[encoded data removed]",
      "text/plain": [
       "<Figure size 1000x200 with 1 Axes>"
      ]
     },
     "metadata": {},
     "output_type": "display_data"
    }
   ],
   "source": [
    "plt.figure(figsize=(10,2))\n",
    "plt.hist(taxi_filtered_df['total_amount'], bins=range(0,100))\n",
    "plt.title('Total amount distribution')\n",
    "plt.show()"
   ]
  },
  {
   "cell_type": "markdown",
   "id": "f6a40eae",
   "metadata": {},
   "source": [
    "After seeing how data is distributed we are going to work on outliers as before and we will see how data looks afterwards.\n",
    "\n",
    "This time we are going to set a threshold on total amount. We will use 100 dollars as threshold as after doing some research we have seen that for trips between Manhattan to JFK Airport, there's a flat fare of $70, plus tolls and potential surchages. NYC is one of the most visited cities in the world and the trip to Manhattan to the airport or viceversa can be something usual.\n",
    "\n",
    "As previously we are going to begin with total amount."
   ]
  },
  {
   "cell_type": "code",
   "execution_count": 137,
   "id": "87b9e9e8",
   "metadata": {},
   "outputs": [],
   "source": [
    "total_amount_threshold = 100\n",
    "\n",
    "taxi_filtered_df = taxi_filtered_df[taxi_filtered_df['total_amount']<= total_amount_threshold]"
   ]
  },
  {
   "cell_type": "code",
   "execution_count": 138,
   "id": "d3aebc78",
   "metadata": {},
   "outputs": [
    {
     "data": {
      "image/png": "[encoded data removed]",
      "text/plain": [
       "<Figure size 1000x200 with 1 Axes>"
      ]
     },
     "metadata": {},
     "output_type": "display_data"
    }
   ],
   "source": [
    "plt.figure(figsize=(10,2))\n",
    "sns.boxplot(x= taxi_filtered_df['total_amount'])\n",
    "plt.title('Total amount distribution')\n",
    "plt.show()"
   ]
  },
  {
   "cell_type": "code",
   "execution_count": 141,
   "id": "605008f3",
   "metadata": {},
   "outputs": [
    {
     "name": "stdout",
     "output_type": "stream",
     "text": [
      "Min fare amount : 0.0\n",
      "Max fare amount : 100.0\n",
      "\n",
      "Min extra : 0.0\n",
      "Max extra : 18.35\n",
      "\n",
      "Min mta tax : 0.0\n",
      "Max mta tax : 39.51\n",
      "\n",
      "Min tip amount : 0.0\n",
      "Max tip amount : 97.0\n",
      "\n",
      "Min tolls amount : 0.0\n",
      "Max tolls amount : 90.0\n",
      "\n",
      "Min total amount : 0.0\n",
      "Max total amount : 100.0\n",
      "\n"
     ]
    }
   ],
   "source": [
    "print('Min f :' , taxi_filtered_df['fare_amount'].min())\n",
    "print('Max fare amount :' , taxi_filtered_df['fare_amount'].max())\n",
    "print()\n",
    "print('Min extra :' , taxi_filtered_df['extra'].min())\n",
    "print('Max extra :' ,taxi_filtered_df['extra'].max())\n",
    "print()\n",
    "print('Min mta tax :' , taxi_filtered_df['mta_tax'].min())\n",
    "print('Max mta tax :' ,taxi_filtered_df['mta_tax'].max())\n",
    "print()\n",
    "print('Min tip amount :' , taxi_filtered_df['tip_amount'].min())\n",
    "print('Max tip amount :' ,taxi_filtered_df['tip_amount'].max())\n",
    "print()\n",
    "print('Min tolls amount :' , taxi_filtered_df['tolls_amount'].min())\n",
    "print('Max tolls amount :' ,taxi_filtered_df['tolls_amount'].max())\n",
    "print()\n",
    "print('Min total amount :' , taxi_filtered_df['total_amount'].min())\n",
    "print('Max total amount :' ,taxi_filtered_df['total_amount'].max())\n",
    "print()"
   ]
  },
  {
   "cell_type": "code",
   "execution_count": 153,
   "id": "80207b2a",
   "metadata": {},
   "outputs": [],
   "source": [
    "taxi_filtered_100 = taxi_filtered_df[taxi_filtered_df['total_amount']==100.0]"
   ]
  },
  {
   "cell_type": "code",
   "execution_count": 155,
   "id": "998f785c",
   "metadata": {},
   "outputs": [
    {
     "data": {
      "text/html": [
       "<div>\n",
       "<style scoped>\n",
       "    .dataframe tbody tr th:only-of-type {\n",
       "        vertical-align: middle;\n",
       "    }\n",
       "\n",
       "    .dataframe tbody tr th {\n",
       "        vertical-align: top;\n",
       "    }\n",
       "\n",
       "    .dataframe thead th {\n",
       "        text-align: right;\n",
       "    }\n",
       "</style>\n",
       "<table border=\"1\" class=\"dataframe\">\n",
       "  <thead>\n",
       "    <tr style=\"text-align: right;\">\n",
       "      <th></th>\n",
       "      <th>fare_amount</th>\n",
       "      <th>extra</th>\n",
       "      <th>mta_tax</th>\n",
       "      <th>tip_amount</th>\n",
       "      <th>tolls_amount</th>\n",
       "      <th>total_amount</th>\n",
       "    </tr>\n",
       "  </thead>\n",
       "  <tbody>\n",
       "    <tr>\n",
       "      <th>34171</th>\n",
       "      <td>96.00</td>\n",
       "      <td>0.0</td>\n",
       "      <td>0.5</td>\n",
       "      <td>3.20</td>\n",
       "      <td>0.0</td>\n",
       "      <td>100.0</td>\n",
       "    </tr>\n",
       "    <tr>\n",
       "      <th>41775</th>\n",
       "      <td>76.00</td>\n",
       "      <td>0.0</td>\n",
       "      <td>0.0</td>\n",
       "      <td>23.70</td>\n",
       "      <td>0.0</td>\n",
       "      <td>100.0</td>\n",
       "    </tr>\n",
       "    <tr>\n",
       "      <th>105279</th>\n",
       "      <td>99.70</td>\n",
       "      <td>0.0</td>\n",
       "      <td>0.0</td>\n",
       "      <td>0.00</td>\n",
       "      <td>0.0</td>\n",
       "      <td>100.0</td>\n",
       "    </tr>\n",
       "    <tr>\n",
       "      <th>465109</th>\n",
       "      <td>79.00</td>\n",
       "      <td>0.0</td>\n",
       "      <td>0.0</td>\n",
       "      <td>2.20</td>\n",
       "      <td>18.5</td>\n",
       "      <td>100.0</td>\n",
       "    </tr>\n",
       "    <tr>\n",
       "      <th>2276740</th>\n",
       "      <td>89.00</td>\n",
       "      <td>0.0</td>\n",
       "      <td>0.0</td>\n",
       "      <td>10.70</td>\n",
       "      <td>0.0</td>\n",
       "      <td>100.0</td>\n",
       "    </tr>\n",
       "    <tr>\n",
       "      <th>2826657</th>\n",
       "      <td>85.00</td>\n",
       "      <td>0.0</td>\n",
       "      <td>0.5</td>\n",
       "      <td>14.20</td>\n",
       "      <td>0.0</td>\n",
       "      <td>100.0</td>\n",
       "    </tr>\n",
       "    <tr>\n",
       "      <th>2833462</th>\n",
       "      <td>85.00</td>\n",
       "      <td>0.0</td>\n",
       "      <td>0.0</td>\n",
       "      <td>14.70</td>\n",
       "      <td>0.0</td>\n",
       "      <td>100.0</td>\n",
       "    </tr>\n",
       "    <tr>\n",
       "      <th>3749273</th>\n",
       "      <td>76.12</td>\n",
       "      <td>0.0</td>\n",
       "      <td>0.5</td>\n",
       "      <td>23.08</td>\n",
       "      <td>0.0</td>\n",
       "      <td>100.0</td>\n",
       "    </tr>\n",
       "    <tr>\n",
       "      <th>4270761</th>\n",
       "      <td>84.70</td>\n",
       "      <td>0.0</td>\n",
       "      <td>0.0</td>\n",
       "      <td>15.00</td>\n",
       "      <td>0.0</td>\n",
       "      <td>100.0</td>\n",
       "    </tr>\n",
       "    <tr>\n",
       "      <th>4312919</th>\n",
       "      <td>70.00</td>\n",
       "      <td>0.0</td>\n",
       "      <td>0.0</td>\n",
       "      <td>29.70</td>\n",
       "      <td>0.0</td>\n",
       "      <td>100.0</td>\n",
       "    </tr>\n",
       "    <tr>\n",
       "      <th>5272722</th>\n",
       "      <td>83.05</td>\n",
       "      <td>0.0</td>\n",
       "      <td>0.0</td>\n",
       "      <td>16.65</td>\n",
       "      <td>0.0</td>\n",
       "      <td>100.0</td>\n",
       "    </tr>\n",
       "    <tr>\n",
       "      <th>6139856</th>\n",
       "      <td>85.00</td>\n",
       "      <td>0.0</td>\n",
       "      <td>0.0</td>\n",
       "      <td>14.70</td>\n",
       "      <td>0.0</td>\n",
       "      <td>100.0</td>\n",
       "    </tr>\n",
       "    <tr>\n",
       "      <th>7963320</th>\n",
       "      <td>2.50</td>\n",
       "      <td>0.5</td>\n",
       "      <td>0.5</td>\n",
       "      <td>96.20</td>\n",
       "      <td>0.0</td>\n",
       "      <td>100.0</td>\n",
       "    </tr>\n",
       "    <tr>\n",
       "      <th>8201119</th>\n",
       "      <td>9.00</td>\n",
       "      <td>0.5</td>\n",
       "      <td>0.5</td>\n",
       "      <td>89.70</td>\n",
       "      <td>0.0</td>\n",
       "      <td>100.0</td>\n",
       "    </tr>\n",
       "    <tr>\n",
       "      <th>9416795</th>\n",
       "      <td>85.00</td>\n",
       "      <td>0.0</td>\n",
       "      <td>0.0</td>\n",
       "      <td>14.70</td>\n",
       "      <td>0.0</td>\n",
       "      <td>100.0</td>\n",
       "    </tr>\n",
       "    <tr>\n",
       "      <th>9991888</th>\n",
       "      <td>85.00</td>\n",
       "      <td>0.0</td>\n",
       "      <td>0.0</td>\n",
       "      <td>14.70</td>\n",
       "      <td>0.0</td>\n",
       "      <td>100.0</td>\n",
       "    </tr>\n",
       "    <tr>\n",
       "      <th>11034356</th>\n",
       "      <td>100.00</td>\n",
       "      <td>0.0</td>\n",
       "      <td>0.0</td>\n",
       "      <td>0.00</td>\n",
       "      <td>0.0</td>\n",
       "      <td>100.0</td>\n",
       "    </tr>\n",
       "    <tr>\n",
       "      <th>11522941</th>\n",
       "      <td>90.00</td>\n",
       "      <td>0.0</td>\n",
       "      <td>0.0</td>\n",
       "      <td>9.70</td>\n",
       "      <td>0.0</td>\n",
       "      <td>100.0</td>\n",
       "    </tr>\n",
       "  </tbody>\n",
       "</table>\n",
       "</div>"
      ],
      "text/plain": [
       "          fare_amount  extra  mta_tax  tip_amount  tolls_amount  total_amount\n",
       "34171           96.00    0.0      0.5        3.20           0.0         100.0\n",
       "41775           76.00    0.0      0.0       23.70           0.0         100.0\n",
       "105279          99.70    0.0      0.0        0.00           0.0         100.0\n",
       "465109          79.00    0.0      0.0        2.20          18.5         100.0\n",
       "2276740         89.00    0.0      0.0       10.70           0.0         100.0\n",
       "2826657         85.00    0.0      0.5       14.20           0.0         100.0\n",
       "2833462         85.00    0.0      0.0       14.70           0.0         100.0\n",
       "3749273         76.12    0.0      0.5       23.08           0.0         100.0\n",
       "4270761         84.70    0.0      0.0       15.00           0.0         100.0\n",
       "4312919         70.00    0.0      0.0       29.70           0.0         100.0\n",
       "5272722         83.05    0.0      0.0       16.65           0.0         100.0\n",
       "6139856         85.00    0.0      0.0       14.70           0.0         100.0\n",
       "7963320          2.50    0.5      0.5       96.20           0.0         100.0\n",
       "8201119          9.00    0.5      0.5       89.70           0.0         100.0\n",
       "9416795         85.00    0.0      0.0       14.70           0.0         100.0\n",
       "9991888         85.00    0.0      0.0       14.70           0.0         100.0\n",
       "11034356       100.00    0.0      0.0        0.00           0.0         100.0\n",
       "11522941        90.00    0.0      0.0        9.70           0.0         100.0"
      ]
     },
     "execution_count": 155,
     "metadata": {},
     "output_type": "execute_result"
    }
   ],
   "source": [
    "taxi_filtered_100[['fare_amount','extra','mta_tax','tip_amount','tolls_amount','total_amount']]"
   ]
  },
  {
   "cell_type": "code",
   "execution_count": null,
   "id": "22ec3e23",
   "metadata": {},
   "outputs": [],
   "source": []
  }
 ],
 "metadata": {
  "kernelspec": {
   "display_name": "Python 3 (ipykernel)",
   "language": "python",
   "name": "python3"
  },
  "language_info": {
   "codemirror_mode": {
    "name": "ipython",
    "version": 3
   },
   "file_extension": ".py",
   "mimetype": "text/x-python",
   "name": "python",
   "nbconvert_exporter": "python",
   "pygments_lexer": "ipython3",
   "version": "3.11.5"
  }
 },
 "nbformat": 4,
 "nbformat_minor": 5
}
