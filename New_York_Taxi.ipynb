{
 "cells": [
  {
   "cell_type": "markdown",
   "id": "9010c40d",
   "metadata": {},
   "source": [
    "1.New York Taxis:\n",
    "\n",
    "1.0.1 Goal and description (describir objetivo y description del proyecto)\n",
    "\n",
    "1.0.2 Step 1. Imports and loading datasets"
   ]
  },
  {
   "cell_type": "code",
   "execution_count": 1,
   "id": "443c3e69",
   "metadata": {},
   "outputs": [],
   "source": [
    "# Import packages\n",
    "\n",
    "# data manipulation packages\n",
    "import numpy as np\n",
    "import pandas as pd\n",
    "\n",
    "# data visualization packages\n",
    "from matplotlib import pyplot as plt\n",
    "import seaborn as sns\n",
    "\n",
    "# For metrics and helpful functions\n",
    "from sklearn.model_selection import GridSearchCV, train_test_split\n",
    "from sklearn.metrics import accuracy_score, precision_score, recall_score, f1_score, confusion_matrix, ConfusionMatrixDisplay, classification_report\n",
    "from sklearn.metrics import roc_auc_score, roc_curve\n",
    "\n",
    "# For data modeling\n",
    "from sklearn.linear_model import LogisticRegression\n",
    "from sklearn.ensemble import RandomForestClassifier\n",
    "\n",
    "\n",
    "import re #re module, which provides regular expression functionalities. Regular expressions are a powerful tool for searching and manipulating text based on patterns."
   ]
  },
  {
   "cell_type": "code",
   "execution_count": 2,
   "id": "5ba63fa6",
   "metadata": {},
   "outputs": [],
   "source": [
    "# Load dataset into a dataframe\n",
    "taxi_df = pd.read_csv('Taxi_dataset.csv', low_memory=False)\n",
    "\n",
    "# For displaying all of the columns in dataframes\n",
    "pd.set_option('display.max_columns', None)"
   ]
  },
  {
   "cell_type": "code",
   "execution_count": 3,
   "id": "2a9ecc08",
   "metadata": {},
   "outputs": [
    {
     "data": {
      "text/html": [
       "<div>\n",
       "<style scoped>\n",
       "    .dataframe tbody tr th:only-of-type {\n",
       "        vertical-align: middle;\n",
       "    }\n",
       "\n",
       "    .dataframe tbody tr th {\n",
       "        vertical-align: top;\n",
       "    }\n",
       "\n",
       "    .dataframe thead th {\n",
       "        text-align: right;\n",
       "    }\n",
       "</style>\n",
       "<table border=\"1\" class=\"dataframe\">\n",
       "  <thead>\n",
       "    <tr style=\"text-align: right;\">\n",
       "      <th></th>\n",
       "      <th>VendorID</th>\n",
       "      <th>tpep_pickup_datetime</th>\n",
       "      <th>tpep_dropoff_datetime</th>\n",
       "      <th>passenger_count</th>\n",
       "      <th>trip_distance</th>\n",
       "      <th>RatecodeID</th>\n",
       "      <th>store_and_fwd_flag</th>\n",
       "      <th>PULocationID</th>\n",
       "      <th>DOLocationID</th>\n",
       "      <th>payment_type</th>\n",
       "      <th>fare_amount</th>\n",
       "      <th>extra</th>\n",
       "      <th>mta_tax</th>\n",
       "      <th>tip_amount</th>\n",
       "      <th>tolls_amount</th>\n",
       "      <th>improvement_surcharge</th>\n",
       "      <th>total_amount</th>\n",
       "      <th>congestion_surcharge</th>\n",
       "    </tr>\n",
       "  </thead>\n",
       "  <tbody>\n",
       "    <tr>\n",
       "      <th>0</th>\n",
       "      <td>1</td>\n",
       "      <td>01/01/2020 12:28:15 AM</td>\n",
       "      <td>01/01/2020 12:33:03 AM</td>\n",
       "      <td>1.0</td>\n",
       "      <td>1.2</td>\n",
       "      <td>1.0</td>\n",
       "      <td>N</td>\n",
       "      <td>238.0</td>\n",
       "      <td>239.0</td>\n",
       "      <td>1.0</td>\n",
       "      <td>6.0</td>\n",
       "      <td>3.0</td>\n",
       "      <td>0.5</td>\n",
       "      <td>1.47</td>\n",
       "      <td>0.0</td>\n",
       "      <td>0.3</td>\n",
       "      <td>11.27</td>\n",
       "      <td>2.5</td>\n",
       "    </tr>\n",
       "    <tr>\n",
       "      <th>1</th>\n",
       "      <td>1</td>\n",
       "      <td>01/01/2020 12:35:39 AM</td>\n",
       "      <td>01/01/2020 12:43:04 AM</td>\n",
       "      <td>1.0</td>\n",
       "      <td>1.2</td>\n",
       "      <td>1.0</td>\n",
       "      <td>N</td>\n",
       "      <td>239.0</td>\n",
       "      <td>238.0</td>\n",
       "      <td>1.0</td>\n",
       "      <td>7.0</td>\n",
       "      <td>3.0</td>\n",
       "      <td>0.5</td>\n",
       "      <td>1.50</td>\n",
       "      <td>0.0</td>\n",
       "      <td>0.3</td>\n",
       "      <td>12.30</td>\n",
       "      <td>2.5</td>\n",
       "    </tr>\n",
       "    <tr>\n",
       "      <th>2</th>\n",
       "      <td>1</td>\n",
       "      <td>01/01/2020 12:47:41 AM</td>\n",
       "      <td>01/01/2020 12:53:52 AM</td>\n",
       "      <td>1.0</td>\n",
       "      <td>0.6</td>\n",
       "      <td>1.0</td>\n",
       "      <td>N</td>\n",
       "      <td>238.0</td>\n",
       "      <td>238.0</td>\n",
       "      <td>1.0</td>\n",
       "      <td>6.0</td>\n",
       "      <td>3.0</td>\n",
       "      <td>0.5</td>\n",
       "      <td>1.00</td>\n",
       "      <td>0.0</td>\n",
       "      <td>0.3</td>\n",
       "      <td>10.80</td>\n",
       "      <td>2.5</td>\n",
       "    </tr>\n",
       "    <tr>\n",
       "      <th>3</th>\n",
       "      <td>1</td>\n",
       "      <td>01/01/2020 12:55:23 AM</td>\n",
       "      <td>01/01/2020 01:00:14 AM</td>\n",
       "      <td>1.0</td>\n",
       "      <td>0.8</td>\n",
       "      <td>1.0</td>\n",
       "      <td>N</td>\n",
       "      <td>238.0</td>\n",
       "      <td>151.0</td>\n",
       "      <td>1.0</td>\n",
       "      <td>5.5</td>\n",
       "      <td>0.5</td>\n",
       "      <td>0.5</td>\n",
       "      <td>1.36</td>\n",
       "      <td>0.0</td>\n",
       "      <td>0.3</td>\n",
       "      <td>8.16</td>\n",
       "      <td>0.0</td>\n",
       "    </tr>\n",
       "    <tr>\n",
       "      <th>4</th>\n",
       "      <td>2</td>\n",
       "      <td>01/01/2020 12:01:58 AM</td>\n",
       "      <td>01/01/2020 12:04:16 AM</td>\n",
       "      <td>1.0</td>\n",
       "      <td>0.0</td>\n",
       "      <td>1.0</td>\n",
       "      <td>N</td>\n",
       "      <td>193.0</td>\n",
       "      <td>193.0</td>\n",
       "      <td>2.0</td>\n",
       "      <td>3.5</td>\n",
       "      <td>0.5</td>\n",
       "      <td>0.5</td>\n",
       "      <td>0.00</td>\n",
       "      <td>0.0</td>\n",
       "      <td>0.3</td>\n",
       "      <td>4.80</td>\n",
       "      <td>0.0</td>\n",
       "    </tr>\n",
       "  </tbody>\n",
       "</table>\n",
       "</div>"
      ],
      "text/plain": [
       "  VendorID    tpep_pickup_datetime   tpep_dropoff_datetime  passenger_count  \\\n",
       "0        1  01/01/2020 12:28:15 AM  01/01/2020 12:33:03 AM              1.0   \n",
       "1        1  01/01/2020 12:35:39 AM  01/01/2020 12:43:04 AM              1.0   \n",
       "2        1  01/01/2020 12:47:41 AM  01/01/2020 12:53:52 AM              1.0   \n",
       "3        1  01/01/2020 12:55:23 AM  01/01/2020 01:00:14 AM              1.0   \n",
       "4        2  01/01/2020 12:01:58 AM  01/01/2020 12:04:16 AM              1.0   \n",
       "\n",
       "   trip_distance  RatecodeID store_and_fwd_flag  PULocationID  DOLocationID  \\\n",
       "0            1.2         1.0                  N         238.0         239.0   \n",
       "1            1.2         1.0                  N         239.0         238.0   \n",
       "2            0.6         1.0                  N         238.0         238.0   \n",
       "3            0.8         1.0                  N         238.0         151.0   \n",
       "4            0.0         1.0                  N         193.0         193.0   \n",
       "\n",
       "   payment_type  fare_amount  extra  mta_tax  tip_amount  tolls_amount  \\\n",
       "0           1.0          6.0    3.0      0.5        1.47           0.0   \n",
       "1           1.0          7.0    3.0      0.5        1.50           0.0   \n",
       "2           1.0          6.0    3.0      0.5        1.00           0.0   \n",
       "3           1.0          5.5    0.5      0.5        1.36           0.0   \n",
       "4           2.0          3.5    0.5      0.5        0.00           0.0   \n",
       "\n",
       "   improvement_surcharge  total_amount  congestion_surcharge  \n",
       "0                    0.3         11.27                   2.5  \n",
       "1                    0.3         12.30                   2.5  \n",
       "2                    0.3         10.80                   2.5  \n",
       "3                    0.3          8.16                   0.0  \n",
       "4                    0.3          4.80                   0.0  "
      ]
     },
     "execution_count": 3,
     "metadata": {},
     "output_type": "execute_result"
    }
   ],
   "source": [
    "taxi_df.head()"
   ]
  },
  {
   "cell_type": "markdown",
   "id": "3a649e26",
   "metadata": {},
   "source": [
    "1.0.3 Step 2. Data Exploration (Initial EDA and data cleaning)"
   ]
  },
  {
   "cell_type": "code",
   "execution_count": 4,
   "id": "e7920809",
   "metadata": {},
   "outputs": [
    {
     "data": {
      "text/plain": [
       "(11916667, 18)"
      ]
     },
     "execution_count": 4,
     "metadata": {},
     "output_type": "execute_result"
    }
   ],
   "source": [
    "taxi_df.shape"
   ]
  },
  {
   "cell_type": "markdown",
   "id": "76219118",
   "metadata": {},
   "source": [
    "As we can see using the shape function the data almost have 12 million rows. If there is a possibility of filtering the data and use less of it we will do it. In order to check this we will look at 'tpep_pickup_datetime' and 'tpep_dropoff_datetime' variables. "
   ]
  },
  {
   "cell_type": "code",
   "execution_count": 5,
   "id": "3bba0db0",
   "metadata": {},
   "outputs": [
    {
     "name": "stdout",
     "output_type": "stream",
     "text": [
      "<class 'pandas.core.frame.DataFrame'>\n",
      "RangeIndex: 11916667 entries, 0 to 11916666\n",
      "Data columns (total 18 columns):\n",
      " #   Column                 Dtype  \n",
      "---  ------                 -----  \n",
      " 0   VendorID               object \n",
      " 1   tpep_pickup_datetime   object \n",
      " 2   tpep_dropoff_datetime  object \n",
      " 3   passenger_count        float64\n",
      " 4   trip_distance          float64\n",
      " 5   RatecodeID             float64\n",
      " 6   store_and_fwd_flag     object \n",
      " 7   PULocationID           float64\n",
      " 8   DOLocationID           float64\n",
      " 9   payment_type           float64\n",
      " 10  fare_amount            float64\n",
      " 11  extra                  float64\n",
      " 12  mta_tax                float64\n",
      " 13  tip_amount             float64\n",
      " 14  tolls_amount           float64\n",
      " 15  improvement_surcharge  float64\n",
      " 16  total_amount           float64\n",
      " 17  congestion_surcharge   float64\n",
      "dtypes: float64(14), object(4)\n",
      "memory usage: 1.6+ GB\n"
     ]
    }
   ],
   "source": [
    "taxi_df.info()"
   ]
  },
  {
   "cell_type": "markdown",
   "id": "9f33c785",
   "metadata": {},
   "source": [
    "First thing we have encountered is that pickup and dropoff are not datetime type variables. In order to be able to work with them and filter the data we need to transform them into datetime variables."
   ]
  },
  {
   "cell_type": "code",
   "execution_count": 6,
   "id": "5c5b9461",
   "metadata": {},
   "outputs": [
    {
     "data": {
      "text/plain": [
       "0    01/01/2020 12:28:15 AM\n",
       "1    01/01/2020 12:35:39 AM\n",
       "2    01/01/2020 12:47:41 AM\n",
       "3    01/01/2020 12:55:23 AM\n",
       "4    01/01/2020 12:01:58 AM\n",
       "Name: tpep_pickup_datetime, dtype: object"
      ]
     },
     "execution_count": 6,
     "metadata": {},
     "output_type": "execute_result"
    }
   ],
   "source": [
    "taxi_df['tpep_pickup_datetime'].head()"
   ]
  },
  {
   "cell_type": "markdown",
   "id": "5e119b82",
   "metadata": {},
   "source": [
    "In order to transform the variable into datetime we need to know what is the string format. Using head() we saw that we were not able to see if first and second position of the string corresponded to days or months and what type of hour clock it used. By using iloc[ ] and selecting a random number we can now see what is the string format used in the data set."
   ]
  },
  {
   "cell_type": "code",
   "execution_count": 7,
   "id": "5e38164a",
   "metadata": {},
   "outputs": [
    {
     "data": {
      "text/plain": [
       "'01/25/2020 06:04:12 PM'"
      ]
     },
     "execution_count": 7,
     "metadata": {},
     "output_type": "execute_result"
    }
   ],
   "source": [
    "taxi_df['tpep_pickup_datetime'].iloc[5000000]"
   ]
  },
  {
   "cell_type": "code",
   "execution_count": 8,
   "id": "f21681d5",
   "metadata": {},
   "outputs": [],
   "source": [
    "# Assuming most data follows MM/DD/YYYY HH:MM:SS format\n",
    "format_string = '%m/%d/%Y %I:%M:%S %p'\n",
    "\n",
    "# Convert columns to datetime with specified format\n",
    "taxi_df['tpep_pickup_datetime'] = pd.to_datetime(taxi_df['tpep_pickup_datetime'], format=format_string)\n",
    "taxi_df['tpep_dropoff_datetime'] = pd.to_datetime(taxi_df['tpep_dropoff_datetime'], format=format_string)"
   ]
  },
  {
   "cell_type": "code",
   "execution_count": 9,
   "id": "d1dfd8aa",
   "metadata": {},
   "outputs": [
    {
     "name": "stdout",
     "output_type": "stream",
     "text": [
      "datetime64[ns]\n",
      "datetime64[ns]\n",
      "0   2020-01-01 00:28:15\n",
      "1   2020-01-01 00:35:39\n",
      "2   2020-01-01 00:47:41\n",
      "3   2020-01-01 00:55:23\n",
      "4   2020-01-01 00:01:58\n",
      "Name: tpep_pickup_datetime, dtype: datetime64[ns]\n"
     ]
    }
   ],
   "source": [
    "# checking dtype and transformation\n",
    "print(taxi_df['tpep_pickup_datetime'].dtype)\n",
    "print(taxi_df['tpep_dropoff_datetime'].dtype)\n",
    "print(taxi_df['tpep_pickup_datetime'].head())"
   ]
  },
  {
   "cell_type": "markdown",
   "id": "2e75c850",
   "metadata": {},
   "source": [
    "Now, we are going to check what is the minimun and maximun value for each variable. Why doing this? As said previously we are going to filter if possible as the data set is really large. With this approach we can easily see what how many years the dataset have."
   ]
  },
  {
   "cell_type": "code",
   "execution_count": 10,
   "id": "3aa48520",
   "metadata": {},
   "outputs": [
    {
     "name": "stdout",
     "output_type": "stream",
     "text": [
      "\n",
      "Pickup datetime\n",
      "2003-01-01 00:07:17\n",
      "2021-01-02 01:12:10\n",
      "\n",
      "Dropoff datetime\n",
      "2003-01-01 14:16:59\n",
      "2021-01-02 01:25:01\n"
     ]
    }
   ],
   "source": [
    "print()\n",
    "print('Pickup datetime')\n",
    "print(taxi_df['tpep_pickup_datetime'].min())\n",
    "print(taxi_df['tpep_pickup_datetime'].max())\n",
    "print()\n",
    "print('Dropoff datetime')\n",
    "print(taxi_df['tpep_dropoff_datetime'].min())\n",
    "print(taxi_df['tpep_dropoff_datetime'].max())"
   ]
  },
  {
   "cell_type": "markdown",
   "id": "5c1c820b",
   "metadata": {},
   "source": [
    "As a first look we can see that data is splitted from year 2003 to 2021. 18 years of data is a lot. We will take a deeper look to see how data is splitted."
   ]
  },
  {
   "cell_type": "code",
   "execution_count": 11,
   "id": "d9a0a850",
   "metadata": {},
   "outputs": [
    {
     "data": {
      "text/plain": [
       "0           2020.0\n",
       "1           2020.0\n",
       "2           2020.0\n",
       "3           2020.0\n",
       "4           2020.0\n",
       "             ...  \n",
       "11916662       NaN\n",
       "11916663       NaN\n",
       "11916664       NaN\n",
       "11916665       NaN\n",
       "11916666       NaN\n",
       "Name: tpep_pickup_year, Length: 11916667, dtype: float64"
      ]
     },
     "execution_count": 11,
     "metadata": {},
     "output_type": "execute_result"
    }
   ],
   "source": [
    "taxi_df['tpep_pickup_year'] = taxi_df['tpep_pickup_datetime'].dt.year\n",
    "taxi_df['tpep_pickup_year']"
   ]
  },
  {
   "cell_type": "markdown",
   "id": "e359a516",
   "metadata": {},
   "source": [
    "We have created a new column called 'tpep_pickup_year' so we can split the data better but we saw that data has NaN and the year is represented as float. In order to get year as int we have to use astype(int) but having NaN we would encounter and error.\n",
    "\n",
    "Before further filtering in the datetime we are going to see how much data is missing and we will take a decision on wether or not to drop it just in the datetime column or in the entire dataset."
   ]
  },
  {
   "cell_type": "code",
   "execution_count": 12,
   "id": "dc556670",
   "metadata": {},
   "outputs": [
    {
     "data": {
      "text/plain": [
       "VendorID                 91448\n",
       "tpep_pickup_datetime         5\n",
       "tpep_dropoff_datetime        5\n",
       "passenger_count          91453\n",
       "trip_distance                5\n",
       "RatecodeID               91453\n",
       "store_and_fwd_flag       91453\n",
       "PULocationID                 5\n",
       "DOLocationID                 5\n",
       "payment_type             91453\n",
       "fare_amount                  5\n",
       "extra                        5\n",
       "mta_tax                      5\n",
       "tip_amount                   5\n",
       "tolls_amount                 5\n",
       "improvement_surcharge        5\n",
       "total_amount                 5\n",
       "congestion_surcharge         5\n",
       "tpep_pickup_year             5\n",
       "dtype: int64"
      ]
     },
     "execution_count": 12,
     "metadata": {},
     "output_type": "execute_result"
    }
   ],
   "source": [
    "#checking for missing data\n",
    "taxi_df.isna().sum()"
   ]
  },
  {
   "cell_type": "markdown",
   "id": "47118291",
   "metadata": {},
   "source": [
    "There are 91453 missing values in some of the columns. Taking into account that we are dealing with almos twelve million rows we have decided to drop them as they only represent 0.76% of the total data set.\n",
    "\n",
    "*We now that missing values should be taken into account when cleaning data for the different machine learning models and analysis that may be created but in order to be able to work easily and seeing such a low percentage we believe is a good decision to drop them.*"
   ]
  },
  {
   "cell_type": "code",
   "execution_count": 13,
   "id": "dcfa39d5",
   "metadata": {},
   "outputs": [
    {
     "data": {
      "text/plain": [
       "VendorID                 0\n",
       "tpep_pickup_datetime     0\n",
       "tpep_dropoff_datetime    0\n",
       "passenger_count          0\n",
       "trip_distance            0\n",
       "RatecodeID               0\n",
       "store_and_fwd_flag       0\n",
       "PULocationID             0\n",
       "DOLocationID             0\n",
       "payment_type             0\n",
       "fare_amount              0\n",
       "extra                    0\n",
       "mta_tax                  0\n",
       "tip_amount               0\n",
       "tolls_amount             0\n",
       "improvement_surcharge    0\n",
       "total_amount             0\n",
       "congestion_surcharge     0\n",
       "tpep_pickup_year         0\n",
       "dtype: int64"
      ]
     },
     "execution_count": 13,
     "metadata": {},
     "output_type": "execute_result"
    }
   ],
   "source": [
    "# dropping missing values\n",
    "taxi_df = taxi_df.dropna()\n",
    "# checking missing values after dropping them\n",
    "taxi_df.isna().sum()"
   ]
  },
  {
   "cell_type": "markdown",
   "id": "4566442b",
   "metadata": {},
   "source": [
    "Now we can proceed and continue working with datetime variables."
   ]
  },
  {
   "cell_type": "code",
   "execution_count": 34,
   "id": "fe0b2375",
   "metadata": {},
   "outputs": [
    {
     "data": {
      "text/plain": [
       "0    2020\n",
       "1    2020\n",
       "2    2020\n",
       "3    2020\n",
       "4    2020\n",
       "Name: tpep_pickup_year, dtype: int32"
      ]
     },
     "execution_count": 34,
     "metadata": {},
     "output_type": "execute_result"
    }
   ],
   "source": [
    "# transforming year into integer\n",
    "taxi_df['tpep_pickup_year'] = taxi_df['tpep_pickup_year'].astype(int)\n",
    "taxi_df['tpep_pickup_year'].head()"
   ]
  },
  {
   "cell_type": "markdown",
   "id": "d763412f",
   "metadata": {},
   "source": [
    "Next step is to see how data is splitted."
   ]
  },
  {
   "cell_type": "code",
   "execution_count": 35,
   "id": "c8655e13",
   "metadata": {},
   "outputs": [
    {
     "data": {
      "text/plain": [
       "tpep_pickup_year\n",
       "2003           1\n",
       "2008          16\n",
       "2009          40\n",
       "2019         131\n",
       "2020    11825023\n",
       "2021           3\n",
       "Name: tpep_pickup_year, dtype: int64"
      ]
     },
     "execution_count": 35,
     "metadata": {},
     "output_type": "execute_result"
    }
   ],
   "source": [
    "taxi_df.groupby('tpep_pickup_year')['tpep_pickup_year'].size()"
   ]
  },
  {
   "cell_type": "markdown",
   "id": "fad17831",
   "metadata": {},
   "source": [
    "We have achieved a really good insigth as most of the data is from 2020. As the rest of the years are not significant we will just work with 2020 data.\n",
    "\n",
    "As we are going to work with 2020 data but we have not yet finish cleaning and structuring the data we are going to keep working on the data and when it is cleaned as desired we will filter for year 2020."
   ]
  },
  {
   "cell_type": "code",
   "execution_count": 59,
   "id": "d0d84eb8",
   "metadata": {},
   "outputs": [
    {
     "name": "stdout",
     "output_type": "stream",
     "text": [
      "Passenger count dtype:  int32\n",
      "RatecodeID dtype:  int32\n",
      "Pickup dtype:  int32\n",
      "Dropoff dtype:  int32\n",
      "Payment type:  int32\n"
     ]
    }
   ],
   "source": [
    "# Passenger count to integer\n",
    "taxi_df['passenger_count'] = taxi_df['passenger_count'].astype(int)\n",
    "print('Passenger count dtype: ', taxi_df['passenger_count'].dtype)\n",
    "# RatecodeID represents the final rate code in effect at the end of the trip\n",
    "taxi_df['RatecodeID'] = taxi_df['RatecodeID'].astype(int)\n",
    "print('RatecodeID dtype: ', taxi_df['RatecodeID'].dtype)\n",
    "# PULocationID and DOLocationID to integers (pickup and dropoff location)\n",
    "taxi_df['PULocationID'] = taxi_df['PULocationID'].astype(int)\n",
    "taxi_df['DOLocationID'] = taxi_df['DOLocationID'].astype(int)\n",
    "print('Pickup dtype: ', taxi_df['PULocationID'].dtype)\n",
    "print('Dropoff dtype: ', taxi_df['DOLocationID'].dtype)\n",
    "# Payment type to integers (A numeric code signifying how the passenger paid for the trip.)\n",
    "taxi_df['payment_type'] = taxi_df['payment_type'].astype(int)\n",
    "print('Payment type: ', taxi_df['payment_type'].dtype)"
   ]
  },
  {
   "cell_type": "code",
   "execution_count": 62,
   "id": "dd0b6700",
   "metadata": {},
   "outputs": [
    {
     "data": {
      "text/plain": [
       "VendorID                         object\n",
       "tpep_pickup_datetime     datetime64[ns]\n",
       "tpep_dropoff_datetime    datetime64[ns]\n",
       "passenger_count                   int32\n",
       "trip_distance                   float64\n",
       "RatecodeID                        int32\n",
       "store_and_fwd_flag               object\n",
       "PULocationID                      int32\n",
       "DOLocationID                      int32\n",
       "payment_type                      int32\n",
       "fare_amount                     float64\n",
       "extra                           float64\n",
       "mta_tax                         float64\n",
       "tip_amount                      float64\n",
       "tolls_amount                    float64\n",
       "improvement_surcharge           float64\n",
       "total_amount                    float64\n",
       "congestion_surcharge            float64\n",
       "tpep_pickup_year                  int32\n",
       "dtype: object"
      ]
     },
     "execution_count": 62,
     "metadata": {},
     "output_type": "execute_result"
    }
   ],
   "source": [
    "taxi_df.dtypes"
   ]
  },
  {
   "cell_type": "code",
   "execution_count": 82,
   "id": "adbf5792",
   "metadata": {},
   "outputs": [
    {
     "data": {
      "text/plain": [
       "0"
      ]
     },
     "execution_count": 82,
     "metadata": {},
     "output_type": "execute_result"
    }
   ],
   "source": [
    "# Checking for duplicates\n",
    "taxi_df.duplicated().sum()"
   ]
  },
  {
   "cell_type": "markdown",
   "id": "2b2664d4",
   "metadata": {},
   "source": [
    "We have finished first part of EDA (Initial EDA and data cleaning). From here we can start working on our analysis with a good base and knowledge of how the data is structure and formated. \n",
    "\n",
    "Now we will filter the data to 2020."
   ]
  },
  {
   "cell_type": "code",
   "execution_count": 76,
   "id": "cda16be9",
   "metadata": {},
   "outputs": [],
   "source": [
    "# We create a new filtered dataframe selecting year 2020\n",
    "taxi_filtered_df = taxi_df[taxi_df['tpep_pickup_year']==2020]"
   ]
  },
  {
   "cell_type": "code",
   "execution_count": 77,
   "id": "5d903a08",
   "metadata": {},
   "outputs": [
    {
     "data": {
      "text/plain": [
       "tpep_pickup_year\n",
       "2020    11825023\n",
       "Name: tpep_pickup_year, dtype: int64"
      ]
     },
     "execution_count": 77,
     "metadata": {},
     "output_type": "execute_result"
    }
   ],
   "source": [
    "# We can reuse the code from above and check if the dataframe was succesfully filtered.\n",
    "taxi_filtered_df.groupby('tpep_pickup_year')['tpep_pickup_year'].size()"
   ]
  },
  {
   "cell_type": "code",
   "execution_count": 83,
   "id": "9a430e8d",
   "metadata": {},
   "outputs": [
    {
     "data": {
      "text/html": [
       "<div>\n",
       "<style scoped>\n",
       "    .dataframe tbody tr th:only-of-type {\n",
       "        vertical-align: middle;\n",
       "    }\n",
       "\n",
       "    .dataframe tbody tr th {\n",
       "        vertical-align: top;\n",
       "    }\n",
       "\n",
       "    .dataframe thead th {\n",
       "        text-align: right;\n",
       "    }\n",
       "</style>\n",
       "<table border=\"1\" class=\"dataframe\">\n",
       "  <thead>\n",
       "    <tr style=\"text-align: right;\">\n",
       "      <th></th>\n",
       "      <th>tpep_pickup_datetime</th>\n",
       "      <th>tpep_dropoff_datetime</th>\n",
       "      <th>passenger_count</th>\n",
       "      <th>trip_distance</th>\n",
       "      <th>RatecodeID</th>\n",
       "      <th>PULocationID</th>\n",
       "      <th>DOLocationID</th>\n",
       "      <th>payment_type</th>\n",
       "      <th>fare_amount</th>\n",
       "      <th>extra</th>\n",
       "      <th>mta_tax</th>\n",
       "      <th>tip_amount</th>\n",
       "      <th>tolls_amount</th>\n",
       "      <th>improvement_surcharge</th>\n",
       "      <th>total_amount</th>\n",
       "      <th>congestion_surcharge</th>\n",
       "      <th>tpep_pickup_year</th>\n",
       "    </tr>\n",
       "  </thead>\n",
       "  <tbody>\n",
       "    <tr>\n",
       "      <th>count</th>\n",
       "      <td>11825023</td>\n",
       "      <td>11825023</td>\n",
       "      <td>1.182502e+07</td>\n",
       "      <td>1.182502e+07</td>\n",
       "      <td>1.182502e+07</td>\n",
       "      <td>1.182502e+07</td>\n",
       "      <td>1.182502e+07</td>\n",
       "      <td>1.182502e+07</td>\n",
       "      <td>1.182502e+07</td>\n",
       "      <td>1.182502e+07</td>\n",
       "      <td>1.182502e+07</td>\n",
       "      <td>1.182502e+07</td>\n",
       "      <td>1.182502e+07</td>\n",
       "      <td>1.182502e+07</td>\n",
       "      <td>1.182502e+07</td>\n",
       "      <td>1.182502e+07</td>\n",
       "      <td>11825023.0</td>\n",
       "    </tr>\n",
       "    <tr>\n",
       "      <th>mean</th>\n",
       "      <td>2020-01-30 01:23:28.626809600</td>\n",
       "      <td>2020-01-30 01:39:23.017398528</td>\n",
       "      <td>1.510425e+00</td>\n",
       "      <td>2.824260e+00</td>\n",
       "      <td>1.058356e+00</td>\n",
       "      <td>1.649607e+02</td>\n",
       "      <td>1.629489e+02</td>\n",
       "      <td>1.265057e+00</td>\n",
       "      <td>1.248276e+01</td>\n",
       "      <td>1.096072e+00</td>\n",
       "      <td>4.938125e-01</td>\n",
       "      <td>2.223564e+00</td>\n",
       "      <td>3.282526e-01</td>\n",
       "      <td>2.979414e-01</td>\n",
       "      <td>1.846652e+01</td>\n",
       "      <td>2.302985e+00</td>\n",
       "      <td>2020.0</td>\n",
       "    </tr>\n",
       "    <tr>\n",
       "      <th>min</th>\n",
       "      <td>2020-01-01 00:00:00</td>\n",
       "      <td>2020-01-01 00:01:17</td>\n",
       "      <td>0.000000e+00</td>\n",
       "      <td>-2.218000e+01</td>\n",
       "      <td>1.000000e+00</td>\n",
       "      <td>1.000000e+00</td>\n",
       "      <td>1.000000e+00</td>\n",
       "      <td>1.000000e+00</td>\n",
       "      <td>-1.238000e+03</td>\n",
       "      <td>-2.700000e+01</td>\n",
       "      <td>-5.000000e-01</td>\n",
       "      <td>-9.300000e+01</td>\n",
       "      <td>-3.823000e+01</td>\n",
       "      <td>-3.000000e-01</td>\n",
       "      <td>-1.242300e+03</td>\n",
       "      <td>-2.500000e+00</td>\n",
       "      <td>2020.0</td>\n",
       "    </tr>\n",
       "    <tr>\n",
       "      <th>25%</th>\n",
       "      <td>2020-01-16 07:57:06.500000</td>\n",
       "      <td>2020-01-16 08:11:34.500000</td>\n",
       "      <td>1.000000e+00</td>\n",
       "      <td>9.600000e-01</td>\n",
       "      <td>1.000000e+00</td>\n",
       "      <td>1.320000e+02</td>\n",
       "      <td>1.130000e+02</td>\n",
       "      <td>1.000000e+00</td>\n",
       "      <td>6.500000e+00</td>\n",
       "      <td>0.000000e+00</td>\n",
       "      <td>5.000000e-01</td>\n",
       "      <td>0.000000e+00</td>\n",
       "      <td>0.000000e+00</td>\n",
       "      <td>3.000000e-01</td>\n",
       "      <td>1.116000e+01</td>\n",
       "      <td>2.500000e+00</td>\n",
       "      <td>2020.0</td>\n",
       "    </tr>\n",
       "    <tr>\n",
       "      <th>50%</th>\n",
       "      <td>2020-01-30 09:33:42</td>\n",
       "      <td>2020-01-30 09:50:32</td>\n",
       "      <td>1.000000e+00</td>\n",
       "      <td>1.600000e+00</td>\n",
       "      <td>1.000000e+00</td>\n",
       "      <td>1.620000e+02</td>\n",
       "      <td>1.620000e+02</td>\n",
       "      <td>1.000000e+00</td>\n",
       "      <td>9.000000e+00</td>\n",
       "      <td>5.000000e-01</td>\n",
       "      <td>5.000000e-01</td>\n",
       "      <td>1.960000e+00</td>\n",
       "      <td>0.000000e+00</td>\n",
       "      <td>3.000000e-01</td>\n",
       "      <td>1.430000e+01</td>\n",
       "      <td>2.500000e+00</td>\n",
       "      <td>2020.0</td>\n",
       "    </tr>\n",
       "    <tr>\n",
       "      <th>75%</th>\n",
       "      <td>2020-02-12 19:14:56.500000</td>\n",
       "      <td>2020-02-12 19:29:40</td>\n",
       "      <td>2.000000e+00</td>\n",
       "      <td>2.880000e+00</td>\n",
       "      <td>1.000000e+00</td>\n",
       "      <td>2.340000e+02</td>\n",
       "      <td>2.340000e+02</td>\n",
       "      <td>2.000000e+00</td>\n",
       "      <td>1.350000e+01</td>\n",
       "      <td>2.500000e+00</td>\n",
       "      <td>5.000000e-01</td>\n",
       "      <td>2.940000e+00</td>\n",
       "      <td>0.000000e+00</td>\n",
       "      <td>3.000000e-01</td>\n",
       "      <td>1.975000e+01</td>\n",
       "      <td>2.500000e+00</td>\n",
       "      <td>2020.0</td>\n",
       "    </tr>\n",
       "    <tr>\n",
       "      <th>max</th>\n",
       "      <td>2020-07-31 18:50:41</td>\n",
       "      <td>2020-07-31 18:54:12</td>\n",
       "      <td>9.000000e+00</td>\n",
       "      <td>3.699400e+02</td>\n",
       "      <td>9.900000e+01</td>\n",
       "      <td>2.650000e+02</td>\n",
       "      <td>2.650000e+02</td>\n",
       "      <td>5.000000e+00</td>\n",
       "      <td>4.265000e+03</td>\n",
       "      <td>1.130100e+02</td>\n",
       "      <td>3.951000e+01</td>\n",
       "      <td>1.100000e+03</td>\n",
       "      <td>9.255000e+02</td>\n",
       "      <td>3.000000e-01</td>\n",
       "      <td>4.268300e+03</td>\n",
       "      <td>2.750000e+00</td>\n",
       "      <td>2020.0</td>\n",
       "    </tr>\n",
       "    <tr>\n",
       "      <th>std</th>\n",
       "      <td>NaN</td>\n",
       "      <td>NaN</td>\n",
       "      <td>1.148948e+00</td>\n",
       "      <td>3.710346e+00</td>\n",
       "      <td>7.988824e-01</td>\n",
       "      <td>6.537098e+01</td>\n",
       "      <td>6.970159e+01</td>\n",
       "      <td>4.715760e-01</td>\n",
       "      <td>1.176840e+01</td>\n",
       "      <td>1.251105e+00</td>\n",
       "      <td>6.954457e-02</td>\n",
       "      <td>2.719858e+00</td>\n",
       "      <td>1.714911e+00</td>\n",
       "      <td>3.427594e-02</td>\n",
       "      <td>1.443884e+01</td>\n",
       "      <td>6.962740e-01</td>\n",
       "      <td>0.0</td>\n",
       "    </tr>\n",
       "  </tbody>\n",
       "</table>\n",
       "</div>"
      ],
      "text/plain": [
       "                tpep_pickup_datetime          tpep_dropoff_datetime  \\\n",
       "count                       11825023                       11825023   \n",
       "mean   2020-01-30 01:23:28.626809600  2020-01-30 01:39:23.017398528   \n",
       "min              2020-01-01 00:00:00            2020-01-01 00:01:17   \n",
       "25%       2020-01-16 07:57:06.500000     2020-01-16 08:11:34.500000   \n",
       "50%              2020-01-30 09:33:42            2020-01-30 09:50:32   \n",
       "75%       2020-02-12 19:14:56.500000            2020-02-12 19:29:40   \n",
       "max              2020-07-31 18:50:41            2020-07-31 18:54:12   \n",
       "std                              NaN                            NaN   \n",
       "\n",
       "       passenger_count  trip_distance    RatecodeID  PULocationID  \\\n",
       "count     1.182502e+07   1.182502e+07  1.182502e+07  1.182502e+07   \n",
       "mean      1.510425e+00   2.824260e+00  1.058356e+00  1.649607e+02   \n",
       "min       0.000000e+00  -2.218000e+01  1.000000e+00  1.000000e+00   \n",
       "25%       1.000000e+00   9.600000e-01  1.000000e+00  1.320000e+02   \n",
       "50%       1.000000e+00   1.600000e+00  1.000000e+00  1.620000e+02   \n",
       "75%       2.000000e+00   2.880000e+00  1.000000e+00  2.340000e+02   \n",
       "max       9.000000e+00   3.699400e+02  9.900000e+01  2.650000e+02   \n",
       "std       1.148948e+00   3.710346e+00  7.988824e-01  6.537098e+01   \n",
       "\n",
       "       DOLocationID  payment_type   fare_amount         extra       mta_tax  \\\n",
       "count  1.182502e+07  1.182502e+07  1.182502e+07  1.182502e+07  1.182502e+07   \n",
       "mean   1.629489e+02  1.265057e+00  1.248276e+01  1.096072e+00  4.938125e-01   \n",
       "min    1.000000e+00  1.000000e+00 -1.238000e+03 -2.700000e+01 -5.000000e-01   \n",
       "25%    1.130000e+02  1.000000e+00  6.500000e+00  0.000000e+00  5.000000e-01   \n",
       "50%    1.620000e+02  1.000000e+00  9.000000e+00  5.000000e-01  5.000000e-01   \n",
       "75%    2.340000e+02  2.000000e+00  1.350000e+01  2.500000e+00  5.000000e-01   \n",
       "max    2.650000e+02  5.000000e+00  4.265000e+03  1.130100e+02  3.951000e+01   \n",
       "std    6.970159e+01  4.715760e-01  1.176840e+01  1.251105e+00  6.954457e-02   \n",
       "\n",
       "         tip_amount  tolls_amount  improvement_surcharge  total_amount  \\\n",
       "count  1.182502e+07  1.182502e+07           1.182502e+07  1.182502e+07   \n",
       "mean   2.223564e+00  3.282526e-01           2.979414e-01  1.846652e+01   \n",
       "min   -9.300000e+01 -3.823000e+01          -3.000000e-01 -1.242300e+03   \n",
       "25%    0.000000e+00  0.000000e+00           3.000000e-01  1.116000e+01   \n",
       "50%    1.960000e+00  0.000000e+00           3.000000e-01  1.430000e+01   \n",
       "75%    2.940000e+00  0.000000e+00           3.000000e-01  1.975000e+01   \n",
       "max    1.100000e+03  9.255000e+02           3.000000e-01  4.268300e+03   \n",
       "std    2.719858e+00  1.714911e+00           3.427594e-02  1.443884e+01   \n",
       "\n",
       "       congestion_surcharge  tpep_pickup_year  \n",
       "count          1.182502e+07        11825023.0  \n",
       "mean           2.302985e+00            2020.0  \n",
       "min           -2.500000e+00            2020.0  \n",
       "25%            2.500000e+00            2020.0  \n",
       "50%            2.500000e+00            2020.0  \n",
       "75%            2.500000e+00            2020.0  \n",
       "max            2.750000e+00            2020.0  \n",
       "std            6.962740e-01               0.0  "
      ]
     },
     "execution_count": 83,
     "metadata": {},
     "output_type": "execute_result"
    }
   ],
   "source": [
    "taxi_filtered_df.describe()"
   ]
  },
  {
   "cell_type": "markdown",
   "id": "0025e3d7",
   "metadata": {},
   "source": [
    "From this first view of the data that we are going to work we can infer some basic insights.\n",
    "- Data range goes from Jan 1st 2020 to July 31st. We will build our conclusions and models based on 7 months data.\n",
    "- Passenger count goes from 0 to 9 passenger. For those with 0 passenger we will have to take o better look as it migth by people that finally cancel the trip. We will also look at the total amount charge and the amount of rows in order to decide what to do with them.\n",
    "- Trip distance has negative values that should not be possible. We will handle those values. Maximum trip distance is 369 miles. A taxi trip for suck a distance is really long. We may see outliers here.\n",
    "- All variables related to the amount charge to the customer have also negative values and really high values. We will investigate it and make sure if data is available to work with it."
   ]
  },
  {
   "cell_type": "code",
   "execution_count": 94,
   "id": "b3a36f3b",
   "metadata": {},
   "outputs": [
    {
     "name": "stdout",
     "output_type": "stream",
     "text": [
      "Number of entries with 0 passengers:  222229\n"
     ]
    },
    {
     "data": {
      "text/html": [
       "<div>\n",
       "<style scoped>\n",
       "    .dataframe tbody tr th:only-of-type {\n",
       "        vertical-align: middle;\n",
       "    }\n",
       "\n",
       "    .dataframe tbody tr th {\n",
       "        vertical-align: top;\n",
       "    }\n",
       "\n",
       "    .dataframe thead th {\n",
       "        text-align: right;\n",
       "    }\n",
       "</style>\n",
       "<table border=\"1\" class=\"dataframe\">\n",
       "  <thead>\n",
       "    <tr style=\"text-align: right;\">\n",
       "      <th></th>\n",
       "      <th>passenger_count</th>\n",
       "      <th>total_amount</th>\n",
       "    </tr>\n",
       "  </thead>\n",
       "  <tbody>\n",
       "    <tr>\n",
       "      <th>263</th>\n",
       "      <td>0</td>\n",
       "      <td>13.55</td>\n",
       "    </tr>\n",
       "    <tr>\n",
       "      <th>264</th>\n",
       "      <td>0</td>\n",
       "      <td>14.15</td>\n",
       "    </tr>\n",
       "    <tr>\n",
       "      <th>265</th>\n",
       "      <td>0</td>\n",
       "      <td>15.30</td>\n",
       "    </tr>\n",
       "    <tr>\n",
       "      <th>280</th>\n",
       "      <td>0</td>\n",
       "      <td>20.92</td>\n",
       "    </tr>\n",
       "    <tr>\n",
       "      <th>282</th>\n",
       "      <td>0</td>\n",
       "      <td>18.35</td>\n",
       "    </tr>\n",
       "    <tr>\n",
       "      <th>...</th>\n",
       "      <td>...</td>\n",
       "      <td>...</td>\n",
       "    </tr>\n",
       "    <tr>\n",
       "      <th>11916575</th>\n",
       "      <td>0</td>\n",
       "      <td>12.35</td>\n",
       "    </tr>\n",
       "    <tr>\n",
       "      <th>11916576</th>\n",
       "      <td>0</td>\n",
       "      <td>15.30</td>\n",
       "    </tr>\n",
       "    <tr>\n",
       "      <th>11916598</th>\n",
       "      <td>0</td>\n",
       "      <td>10.55</td>\n",
       "    </tr>\n",
       "    <tr>\n",
       "      <th>11916599</th>\n",
       "      <td>0</td>\n",
       "      <td>9.95</td>\n",
       "    </tr>\n",
       "    <tr>\n",
       "      <th>11916600</th>\n",
       "      <td>0</td>\n",
       "      <td>26.75</td>\n",
       "    </tr>\n",
       "  </tbody>\n",
       "</table>\n",
       "<p>222229 rows × 2 columns</p>\n",
       "</div>"
      ],
      "text/plain": [
       "          passenger_count  total_amount\n",
       "263                     0         13.55\n",
       "264                     0         14.15\n",
       "265                     0         15.30\n",
       "280                     0         20.92\n",
       "282                     0         18.35\n",
       "...                   ...           ...\n",
       "11916575                0         12.35\n",
       "11916576                0         15.30\n",
       "11916598                0         10.55\n",
       "11916599                0          9.95\n",
       "11916600                0         26.75\n",
       "\n",
       "[222229 rows x 2 columns]"
      ]
     },
     "execution_count": 94,
     "metadata": {},
     "output_type": "execute_result"
    }
   ],
   "source": [
    "# Checking possible misleading data from variables\n",
    "# 1. Number of passenger = 0\n",
    "print('Number of entries with 0 passengers: ', taxi_filtered_df[taxi_filtered_df['passenger_count']==0].count()['passenger_count'])\n",
    "taxi_filtered_df[taxi_filtered_df['passenger_count']==0][['passenger_count','total_amount']]"
   ]
  },
  {
   "cell_type": "code",
   "execution_count": 173,
   "id": "9a044ada",
   "metadata": {},
   "outputs": [
    {
     "data": {
      "text/plain": [
       "total_amount\n",
       "9.30            4589\n",
       "10.30           4551\n",
       "9.80            4549\n",
       "10.80           4498\n",
       "8.80            4226\n",
       "                ... \n",
       "45.85              1\n",
       "45.60              1\n",
       "45.56              1\n",
       "45.43              1\n",
       "435.42             1\n",
       "Name: count, Length: 3142, dtype: int64"
      ]
     },
     "execution_count": 173,
     "metadata": {},
     "output_type": "execute_result"
    }
   ],
   "source": [
    "taxi_filtered_df[taxi_filtered_df['passenger_count']==0][['total_amount']].value_counts()"
   ]
  },
  {
   "cell_type": "code",
   "execution_count": 96,
   "id": "7da1777f",
   "metadata": {},
   "outputs": [
    {
     "data": {
      "text/html": [
       "<div>\n",
       "<style scoped>\n",
       "    .dataframe tbody tr th:only-of-type {\n",
       "        vertical-align: middle;\n",
       "    }\n",
       "\n",
       "    .dataframe tbody tr th {\n",
       "        vertical-align: top;\n",
       "    }\n",
       "\n",
       "    .dataframe thead th {\n",
       "        text-align: right;\n",
       "    }\n",
       "</style>\n",
       "<table border=\"1\" class=\"dataframe\">\n",
       "  <thead>\n",
       "    <tr style=\"text-align: right;\">\n",
       "      <th></th>\n",
       "      <th>passenger_count</th>\n",
       "      <th>tpep_pickup_datetime</th>\n",
       "      <th>tpep_dropoff_datetime</th>\n",
       "    </tr>\n",
       "  </thead>\n",
       "  <tbody>\n",
       "    <tr>\n",
       "      <th>263</th>\n",
       "      <td>0</td>\n",
       "      <td>2020-01-01 00:30:01</td>\n",
       "      <td>2020-01-01 00:39:06</td>\n",
       "    </tr>\n",
       "    <tr>\n",
       "      <th>264</th>\n",
       "      <td>0</td>\n",
       "      <td>2020-01-01 00:40:50</td>\n",
       "      <td>2020-01-01 00:50:05</td>\n",
       "    </tr>\n",
       "    <tr>\n",
       "      <th>265</th>\n",
       "      <td>0</td>\n",
       "      <td>2020-01-01 00:54:17</td>\n",
       "      <td>2020-01-01 01:08:08</td>\n",
       "    </tr>\n",
       "    <tr>\n",
       "      <th>280</th>\n",
       "      <td>0</td>\n",
       "      <td>2020-01-01 00:34:58</td>\n",
       "      <td>2020-01-01 00:45:28</td>\n",
       "    </tr>\n",
       "    <tr>\n",
       "      <th>282</th>\n",
       "      <td>0</td>\n",
       "      <td>2020-01-01 00:55:25</td>\n",
       "      <td>2020-01-01 01:10:34</td>\n",
       "    </tr>\n",
       "    <tr>\n",
       "      <th>...</th>\n",
       "      <td>...</td>\n",
       "      <td>...</td>\n",
       "      <td>...</td>\n",
       "    </tr>\n",
       "    <tr>\n",
       "      <th>11916575</th>\n",
       "      <td>0</td>\n",
       "      <td>2020-02-26 21:01:49</td>\n",
       "      <td>2020-02-26 21:07:32</td>\n",
       "    </tr>\n",
       "    <tr>\n",
       "      <th>11916576</th>\n",
       "      <td>0</td>\n",
       "      <td>2020-02-26 21:31:44</td>\n",
       "      <td>2020-02-26 21:46:39</td>\n",
       "    </tr>\n",
       "    <tr>\n",
       "      <th>11916598</th>\n",
       "      <td>0</td>\n",
       "      <td>2020-02-26 21:13:19</td>\n",
       "      <td>2020-02-26 21:18:10</td>\n",
       "    </tr>\n",
       "    <tr>\n",
       "      <th>11916599</th>\n",
       "      <td>0</td>\n",
       "      <td>2020-02-26 21:22:13</td>\n",
       "      <td>2020-02-26 21:24:24</td>\n",
       "    </tr>\n",
       "    <tr>\n",
       "      <th>11916600</th>\n",
       "      <td>0</td>\n",
       "      <td>2020-02-26 21:55:30</td>\n",
       "      <td>2020-02-26 22:08:47</td>\n",
       "    </tr>\n",
       "  </tbody>\n",
       "</table>\n",
       "<p>222229 rows × 3 columns</p>\n",
       "</div>"
      ],
      "text/plain": [
       "          passenger_count tpep_pickup_datetime tpep_dropoff_datetime\n",
       "263                     0  2020-01-01 00:30:01   2020-01-01 00:39:06\n",
       "264                     0  2020-01-01 00:40:50   2020-01-01 00:50:05\n",
       "265                     0  2020-01-01 00:54:17   2020-01-01 01:08:08\n",
       "280                     0  2020-01-01 00:34:58   2020-01-01 00:45:28\n",
       "282                     0  2020-01-01 00:55:25   2020-01-01 01:10:34\n",
       "...                   ...                  ...                   ...\n",
       "11916575                0  2020-02-26 21:01:49   2020-02-26 21:07:32\n",
       "11916576                0  2020-02-26 21:31:44   2020-02-26 21:46:39\n",
       "11916598                0  2020-02-26 21:13:19   2020-02-26 21:18:10\n",
       "11916599                0  2020-02-26 21:22:13   2020-02-26 21:24:24\n",
       "11916600                0  2020-02-26 21:55:30   2020-02-26 22:08:47\n",
       "\n",
       "[222229 rows x 3 columns]"
      ]
     },
     "execution_count": 96,
     "metadata": {},
     "output_type": "execute_result"
    }
   ],
   "source": [
    "# Quick check on for passenger = 0 in time difference by trip.\n",
    "taxi_filtered_df[taxi_filtered_df['passenger_count']==0][['passenger_count','tpep_pickup_datetime','tpep_dropoff_datetime']]"
   ]
  },
  {
   "cell_type": "code",
   "execution_count": 133,
   "id": "8ab0ba0a",
   "metadata": {},
   "outputs": [],
   "source": [
    "# creating a new column with the difference in time by trip\n",
    "taxi_filtered_df.loc[:, 'dif_pickup_dropoff_mins'] = (taxi_filtered_df['tpep_dropoff_datetime'] - taxi_filtered_df['tpep_pickup_datetime']) / pd.Timedelta(minutes=1)"
   ]
  },
  {
   "cell_type": "code",
   "execution_count": 154,
   "id": "a27728bf",
   "metadata": {},
   "outputs": [
    {
     "data": {
      "text/plain": [
       "count    222229.000000\n",
       "mean         12.675167\n",
       "std          13.866527\n",
       "min           0.000000\n",
       "25%           6.033333\n",
       "50%          10.083333\n",
       "75%          16.250000\n",
       "max        1439.366667\n",
       "Name: dif_pickup_dropoff_mins, dtype: float64"
      ]
     },
     "execution_count": 154,
     "metadata": {},
     "output_type": "execute_result"
    }
   ],
   "source": [
    "# Creating a boxplot to visualize how data is structure that will help on future data decisions.\n",
    "# First we create a dataframe with passenger = 0\n",
    "no_passenger_df= taxi_filtered_df[taxi_filtered_df['passenger_count']==0]\n",
    "# Second looking at main stats with describe method\n",
    "no_passenger_df['dif_pickup_dropoff_mins'].describe()"
   ]
  },
  {
   "cell_type": "code",
   "execution_count": 164,
   "id": "524bb4cf",
   "metadata": {},
   "outputs": [
    {
     "data": {
      "image/png": "[encoded data removed]",
      "text/plain": [
       "<Figure size 500x200 with 1 Axes>"
      ]
     },
     "metadata": {},
     "output_type": "display_data"
    }
   ],
   "source": [
    "plt.figure(figsize=(5,2))\n",
    "sns.boxplot(x=no_passenger_df['dif_pickup_dropoff_mins'], fliersize = 1)\n",
    "plt.title('Distribution of Difference in Pickup-Dropoff Time')\n",
    "plt.show()"
   ]
  },
  {
   "cell_type": "code",
   "execution_count": 165,
   "id": "0dbac48d",
   "metadata": {},
   "outputs": [
    {
     "data": {
      "text/plain": [
       "passenger_count\n",
       "1    8494328\n",
       "2    1757979\n",
       "3     461673\n",
       "5     418225\n",
       "6     245808\n",
       "4     224672\n",
       "0     222229\n",
       "7         51\n",
       "8         32\n",
       "9         26\n",
       "Name: count, dtype: int64"
      ]
     },
     "execution_count": 165,
     "metadata": {},
     "output_type": "execute_result"
    }
   ],
   "source": [
    "taxi_filtered_df['passenger_count'].value_counts()"
   ]
  },
  {
   "cell_type": "code",
   "execution_count": 166,
   "id": "0e37ab7d",
   "metadata": {},
   "outputs": [
    {
     "data": {
      "text/html": [
       "<div>\n",
       "<style scoped>\n",
       "    .dataframe tbody tr th:only-of-type {\n",
       "        vertical-align: middle;\n",
       "    }\n",
       "\n",
       "    .dataframe tbody tr th {\n",
       "        vertical-align: top;\n",
       "    }\n",
       "\n",
       "    .dataframe thead th {\n",
       "        text-align: right;\n",
       "    }\n",
       "</style>\n",
       "<table border=\"1\" class=\"dataframe\">\n",
       "  <thead>\n",
       "    <tr style=\"text-align: right;\">\n",
       "      <th></th>\n",
       "      <th>tpep_pickup_datetime</th>\n",
       "      <th>tpep_dropoff_datetime</th>\n",
       "      <th>passenger_count</th>\n",
       "      <th>trip_distance</th>\n",
       "      <th>RatecodeID</th>\n",
       "      <th>PULocationID</th>\n",
       "      <th>DOLocationID</th>\n",
       "      <th>payment_type</th>\n",
       "      <th>fare_amount</th>\n",
       "      <th>extra</th>\n",
       "      <th>mta_tax</th>\n",
       "      <th>tip_amount</th>\n",
       "      <th>tolls_amount</th>\n",
       "      <th>improvement_surcharge</th>\n",
       "      <th>total_amount</th>\n",
       "      <th>congestion_surcharge</th>\n",
       "      <th>tpep_pickup_year</th>\n",
       "      <th>dif_pickup_dropoff</th>\n",
       "      <th>dif_pickup_dropoff_mins</th>\n",
       "    </tr>\n",
       "  </thead>\n",
       "  <tbody>\n",
       "    <tr>\n",
       "      <th>count</th>\n",
       "      <td>222229</td>\n",
       "      <td>222229</td>\n",
       "      <td>222229.0</td>\n",
       "      <td>222229.000000</td>\n",
       "      <td>222229.000000</td>\n",
       "      <td>222229.000000</td>\n",
       "      <td>222229.000000</td>\n",
       "      <td>222229.000000</td>\n",
       "      <td>222229.000000</td>\n",
       "      <td>222229.000000</td>\n",
       "      <td>222229.000000</td>\n",
       "      <td>222229.000000</td>\n",
       "      <td>222229.000000</td>\n",
       "      <td>222229.000000</td>\n",
       "      <td>222229.000000</td>\n",
       "      <td>222229.000000</td>\n",
       "      <td>222229.0</td>\n",
       "      <td>222229</td>\n",
       "      <td>222229.000000</td>\n",
       "    </tr>\n",
       "    <tr>\n",
       "      <th>mean</th>\n",
       "      <td>2020-01-30 20:40:35.254732800</td>\n",
       "      <td>2020-01-30 20:53:15.764751616</td>\n",
       "      <td>0.0</td>\n",
       "      <td>2.639580</td>\n",
       "      <td>1.134154</td>\n",
       "      <td>165.118108</td>\n",
       "      <td>163.276112</td>\n",
       "      <td>1.290412</td>\n",
       "      <td>12.131895</td>\n",
       "      <td>2.624917</td>\n",
       "      <td>0.495576</td>\n",
       "      <td>2.127231</td>\n",
       "      <td>0.298035</td>\n",
       "      <td>0.299707</td>\n",
       "      <td>17.982164</td>\n",
       "      <td>2.301162</td>\n",
       "      <td>2020.0</td>\n",
       "      <td>0 days 00:12:40.510018944</td>\n",
       "      <td>12.675167</td>\n",
       "    </tr>\n",
       "    <tr>\n",
       "      <th>min</th>\n",
       "      <td>2020-01-01 00:00:05</td>\n",
       "      <td>2020-01-01 00:09:20</td>\n",
       "      <td>0.0</td>\n",
       "      <td>0.000000</td>\n",
       "      <td>1.000000</td>\n",
       "      <td>1.000000</td>\n",
       "      <td>1.000000</td>\n",
       "      <td>1.000000</td>\n",
       "      <td>-225.500000</td>\n",
       "      <td>0.000000</td>\n",
       "      <td>-0.500000</td>\n",
       "      <td>0.000000</td>\n",
       "      <td>0.000000</td>\n",
       "      <td>-0.300000</td>\n",
       "      <td>-228.800000</td>\n",
       "      <td>-2.500000</td>\n",
       "      <td>2020.0</td>\n",
       "      <td>0 days 00:00:00</td>\n",
       "      <td>0.000000</td>\n",
       "    </tr>\n",
       "    <tr>\n",
       "      <th>25%</th>\n",
       "      <td>2020-01-16 22:52:40</td>\n",
       "      <td>2020-01-16 23:05:26</td>\n",
       "      <td>0.0</td>\n",
       "      <td>0.900000</td>\n",
       "      <td>1.000000</td>\n",
       "      <td>132.000000</td>\n",
       "      <td>113.000000</td>\n",
       "      <td>1.000000</td>\n",
       "      <td>6.000000</td>\n",
       "      <td>2.500000</td>\n",
       "      <td>0.500000</td>\n",
       "      <td>0.000000</td>\n",
       "      <td>0.000000</td>\n",
       "      <td>0.300000</td>\n",
       "      <td>10.800000</td>\n",
       "      <td>2.500000</td>\n",
       "      <td>2020.0</td>\n",
       "      <td>0 days 00:06:02</td>\n",
       "      <td>6.033333</td>\n",
       "    </tr>\n",
       "    <tr>\n",
       "      <th>50%</th>\n",
       "      <td>2020-01-31 10:15:17</td>\n",
       "      <td>2020-01-31 10:30:00</td>\n",
       "      <td>0.0</td>\n",
       "      <td>1.500000</td>\n",
       "      <td>1.000000</td>\n",
       "      <td>162.000000</td>\n",
       "      <td>162.000000</td>\n",
       "      <td>1.000000</td>\n",
       "      <td>8.500000</td>\n",
       "      <td>2.500000</td>\n",
       "      <td>0.500000</td>\n",
       "      <td>1.850000</td>\n",
       "      <td>0.000000</td>\n",
       "      <td>0.300000</td>\n",
       "      <td>14.100000</td>\n",
       "      <td>2.500000</td>\n",
       "      <td>2020.0</td>\n",
       "      <td>0 days 00:10:05</td>\n",
       "      <td>10.083333</td>\n",
       "    </tr>\n",
       "    <tr>\n",
       "      <th>75%</th>\n",
       "      <td>2020-02-13 14:37:12</td>\n",
       "      <td>2020-02-13 14:51:07</td>\n",
       "      <td>0.0</td>\n",
       "      <td>2.700000</td>\n",
       "      <td>1.000000</td>\n",
       "      <td>234.000000</td>\n",
       "      <td>234.000000</td>\n",
       "      <td>2.000000</td>\n",
       "      <td>13.000000</td>\n",
       "      <td>3.000000</td>\n",
       "      <td>0.500000</td>\n",
       "      <td>2.780000</td>\n",
       "      <td>0.000000</td>\n",
       "      <td>0.300000</td>\n",
       "      <td>18.960000</td>\n",
       "      <td>2.500000</td>\n",
       "      <td>2020.0</td>\n",
       "      <td>0 days 00:16:15</td>\n",
       "      <td>16.250000</td>\n",
       "    </tr>\n",
       "    <tr>\n",
       "      <th>max</th>\n",
       "      <td>2020-07-28 09:02:59</td>\n",
       "      <td>2020-07-28 09:08:19</td>\n",
       "      <td>0.0</td>\n",
       "      <td>93.500000</td>\n",
       "      <td>99.000000</td>\n",
       "      <td>265.000000</td>\n",
       "      <td>265.000000</td>\n",
       "      <td>4.000000</td>\n",
       "      <td>428.500000</td>\n",
       "      <td>7.000000</td>\n",
       "      <td>3.300000</td>\n",
       "      <td>309.730000</td>\n",
       "      <td>93.500000</td>\n",
       "      <td>0.300000</td>\n",
       "      <td>435.420000</td>\n",
       "      <td>2.500000</td>\n",
       "      <td>2020.0</td>\n",
       "      <td>0 days 23:59:22</td>\n",
       "      <td>1439.366667</td>\n",
       "    </tr>\n",
       "    <tr>\n",
       "      <th>std</th>\n",
       "      <td>NaN</td>\n",
       "      <td>NaN</td>\n",
       "      <td>0.0</td>\n",
       "      <td>3.550434</td>\n",
       "      <td>2.597158</td>\n",
       "      <td>64.936563</td>\n",
       "      <td>69.206114</td>\n",
       "      <td>0.520903</td>\n",
       "      <td>11.386968</td>\n",
       "      <td>0.836462</td>\n",
       "      <td>0.050319</td>\n",
       "      <td>2.791150</td>\n",
       "      <td>1.569106</td>\n",
       "      <td>0.010395</td>\n",
       "      <td>13.834174</td>\n",
       "      <td>0.677014</td>\n",
       "      <td>0.0</td>\n",
       "      <td>0 days 00:13:51.991637977</td>\n",
       "      <td>13.866527</td>\n",
       "    </tr>\n",
       "  </tbody>\n",
       "</table>\n",
       "</div>"
      ],
      "text/plain": [
       "                tpep_pickup_datetime          tpep_dropoff_datetime  \\\n",
       "count                         222229                         222229   \n",
       "mean   2020-01-30 20:40:35.254732800  2020-01-30 20:53:15.764751616   \n",
       "min              2020-01-01 00:00:05            2020-01-01 00:09:20   \n",
       "25%              2020-01-16 22:52:40            2020-01-16 23:05:26   \n",
       "50%              2020-01-31 10:15:17            2020-01-31 10:30:00   \n",
       "75%              2020-02-13 14:37:12            2020-02-13 14:51:07   \n",
       "max              2020-07-28 09:02:59            2020-07-28 09:08:19   \n",
       "std                              NaN                            NaN   \n",
       "\n",
       "       passenger_count  trip_distance     RatecodeID   PULocationID  \\\n",
       "count         222229.0  222229.000000  222229.000000  222229.000000   \n",
       "mean               0.0       2.639580       1.134154     165.118108   \n",
       "min                0.0       0.000000       1.000000       1.000000   \n",
       "25%                0.0       0.900000       1.000000     132.000000   \n",
       "50%                0.0       1.500000       1.000000     162.000000   \n",
       "75%                0.0       2.700000       1.000000     234.000000   \n",
       "max                0.0      93.500000      99.000000     265.000000   \n",
       "std                0.0       3.550434       2.597158      64.936563   \n",
       "\n",
       "        DOLocationID   payment_type    fare_amount          extra  \\\n",
       "count  222229.000000  222229.000000  222229.000000  222229.000000   \n",
       "mean      163.276112       1.290412      12.131895       2.624917   \n",
       "min         1.000000       1.000000    -225.500000       0.000000   \n",
       "25%       113.000000       1.000000       6.000000       2.500000   \n",
       "50%       162.000000       1.000000       8.500000       2.500000   \n",
       "75%       234.000000       2.000000      13.000000       3.000000   \n",
       "max       265.000000       4.000000     428.500000       7.000000   \n",
       "std        69.206114       0.520903      11.386968       0.836462   \n",
       "\n",
       "             mta_tax     tip_amount   tolls_amount  improvement_surcharge  \\\n",
       "count  222229.000000  222229.000000  222229.000000          222229.000000   \n",
       "mean        0.495576       2.127231       0.298035               0.299707   \n",
       "min        -0.500000       0.000000       0.000000              -0.300000   \n",
       "25%         0.500000       0.000000       0.000000               0.300000   \n",
       "50%         0.500000       1.850000       0.000000               0.300000   \n",
       "75%         0.500000       2.780000       0.000000               0.300000   \n",
       "max         3.300000     309.730000      93.500000               0.300000   \n",
       "std         0.050319       2.791150       1.569106               0.010395   \n",
       "\n",
       "        total_amount  congestion_surcharge  tpep_pickup_year  \\\n",
       "count  222229.000000         222229.000000          222229.0   \n",
       "mean       17.982164              2.301162            2020.0   \n",
       "min      -228.800000             -2.500000            2020.0   \n",
       "25%        10.800000              2.500000            2020.0   \n",
       "50%        14.100000              2.500000            2020.0   \n",
       "75%        18.960000              2.500000            2020.0   \n",
       "max       435.420000              2.500000            2020.0   \n",
       "std        13.834174              0.677014               0.0   \n",
       "\n",
       "              dif_pickup_dropoff  dif_pickup_dropoff_mins  \n",
       "count                     222229            222229.000000  \n",
       "mean   0 days 00:12:40.510018944                12.675167  \n",
       "min              0 days 00:00:00                 0.000000  \n",
       "25%              0 days 00:06:02                 6.033333  \n",
       "50%              0 days 00:10:05                10.083333  \n",
       "75%              0 days 00:16:15                16.250000  \n",
       "max              0 days 23:59:22              1439.366667  \n",
       "std    0 days 00:13:51.991637977                13.866527  "
      ]
     },
     "execution_count": 166,
     "metadata": {},
     "output_type": "execute_result"
    }
   ],
   "source": [
    "no_passenger_df.describe()"
   ]
  },
  {
   "cell_type": "markdown",
   "id": "441a5131",
   "metadata": {},
   "source": [
    "There are 222229 rows that are filled with zero passenger in a trip. This represents 1.87% of the total data set.\n",
    "We have look for possible patterns in the data that could explain this casuistic.\n",
    "First we looked at the total amount charged to customers and we saw that there is not a usual amount charged. We also looked at the trip time as we thought we could see patterns in the hours or the minutes per trip. It is true that the average trip is around 12.5 minutes (short trips in a city like New York) but invesitigating other variables we did not see a direct connection.\n",
    "We also visualize how data was distributed as we could saw possible outliers and data that might not be correctly inputed in the data set. \n",
    "\n",
    "Taking into account this analysis and the possible explanations of having trips with zero passengers (cancelled trips, forgotten items, very short trips, etc.) we have decided to drop the rows with  zero passengers.\n",
    "\n",
    "For the future purposes of the analysis we think it would lead to more inneficient results than efficieint."
   ]
  },
  {
   "cell_type": "code",
   "execution_count": null,
   "id": "0779a609",
   "metadata": {},
   "outputs": [],
   "source": []
  }
 ],
 "metadata": {
  "kernelspec": {
   "display_name": "Python 3 (ipykernel)",
   "language": "python",
   "name": "python3"
  },
  "language_info": {
   "codemirror_mode": {
    "name": "ipython",
    "version": 3
   },
   "file_extension": ".py",
   "mimetype": "text/x-python",
   "name": "python",
   "nbconvert_exporter": "python",
   "pygments_lexer": "ipython3",
   "version": "3.11.5"
  }
 },
 "nbformat": 4,
 "nbformat_minor": 5
}
